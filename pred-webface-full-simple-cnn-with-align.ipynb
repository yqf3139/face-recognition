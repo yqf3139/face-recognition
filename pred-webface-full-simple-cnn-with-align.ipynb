{
 "cells": [
  {
   "cell_type": "code",
   "execution_count": 1,
   "metadata": {
    "collapsed": false
   },
   "outputs": [
    {
     "name": "stderr",
     "output_type": "stream",
     "text": [
      "Using TensorFlow backend.\n"
     ]
    }
   ],
   "source": [
    "import tensorflow as tf\n",
    "sess = tf.Session(config=tf.ConfigProto(log_device_placement=True))\n",
    "\n",
    "import pandas as pd\n",
    "import numpy as np\n",
    "import keras\n",
    "from keras.utils.data_utils import get_file\n",
    "from keras.preprocessing.image import array_to_img, img_to_array, load_img\n",
    "from os.path import join\n",
    "import multiprocessing\n",
    "from sklearn.preprocessing import LabelEncoder\n",
    "from sklearn.model_selection import train_test_split\n",
    "\n",
    "%matplotlib inline"
   ]
  },
  {
   "cell_type": "code",
   "execution_count": 2,
   "metadata": {
    "collapsed": true
   },
   "outputs": [],
   "source": [
    "DATA_HOME = '/ext_drive/liyin/webface-full-aligned-with-32-margin-resized/'"
   ]
  },
  {
   "cell_type": "code",
   "execution_count": 3,
   "metadata": {
    "collapsed": false
   },
   "outputs": [],
   "source": [
    "dataset = pd.read_csv('webface-full.aligned.train.csv', nrows=None)"
   ]
  },
  {
   "cell_type": "code",
   "execution_count": 4,
   "metadata": {
    "collapsed": true
   },
   "outputs": [],
   "source": [
    "encoder = LabelEncoder()\n",
    "encoder.fit(dataset['person'])\n",
    "dataset['person_id'] = encoder.transform(dataset['person'])"
   ]
  },
  {
   "cell_type": "code",
   "execution_count": 5,
   "metadata": {
    "collapsed": false
   },
   "outputs": [
    {
     "data": {
      "text/html": [
       "<div>\n",
       "<table border=\"1\" class=\"dataframe\">\n",
       "  <thead>\n",
       "    <tr style=\"text-align: right;\">\n",
       "      <th></th>\n",
       "      <th>person</th>\n",
       "      <th>count</th>\n",
       "      <th>path</th>\n",
       "      <th>person_id</th>\n",
       "    </tr>\n",
       "  </thead>\n",
       "  <tbody>\n",
       "    <tr>\n",
       "      <th>0</th>\n",
       "      <td>3331486</td>\n",
       "      <td>12</td>\n",
       "      <td>3331486/007.png</td>\n",
       "      <td>9650</td>\n",
       "    </tr>\n",
       "    <tr>\n",
       "      <th>1</th>\n",
       "      <td>3331486</td>\n",
       "      <td>12</td>\n",
       "      <td>3331486/002.png</td>\n",
       "      <td>9650</td>\n",
       "    </tr>\n",
       "    <tr>\n",
       "      <th>2</th>\n",
       "      <td>3331486</td>\n",
       "      <td>12</td>\n",
       "      <td>3331486/008.png</td>\n",
       "      <td>9650</td>\n",
       "    </tr>\n",
       "    <tr>\n",
       "      <th>3</th>\n",
       "      <td>3331486</td>\n",
       "      <td>12</td>\n",
       "      <td>3331486/006.png</td>\n",
       "      <td>9650</td>\n",
       "    </tr>\n",
       "    <tr>\n",
       "      <th>4</th>\n",
       "      <td>3331486</td>\n",
       "      <td>12</td>\n",
       "      <td>3331486/012.png</td>\n",
       "      <td>9650</td>\n",
       "    </tr>\n",
       "  </tbody>\n",
       "</table>\n",
       "</div>"
      ],
      "text/plain": [
       "    person  count             path  person_id\n",
       "0  3331486     12  3331486/007.png       9650\n",
       "1  3331486     12  3331486/002.png       9650\n",
       "2  3331486     12  3331486/008.png       9650\n",
       "3  3331486     12  3331486/006.png       9650\n",
       "4  3331486     12  3331486/012.png       9650"
      ]
     },
     "execution_count": 5,
     "metadata": {},
     "output_type": "execute_result"
    }
   ],
   "source": [
    "dataset.head()"
   ]
  },
  {
   "cell_type": "code",
   "execution_count": 6,
   "metadata": {
    "collapsed": false
   },
   "outputs": [
    {
     "data": {
      "text/plain": [
       "42.87602836879432"
      ]
     },
     "execution_count": 6,
     "metadata": {},
     "output_type": "execute_result"
    }
   ],
   "source": [
    "np.mean(dataset.groupby('person_id')['person'].count())"
   ]
  },
  {
   "cell_type": "code",
   "execution_count": 7,
   "metadata": {
    "collapsed": true
   },
   "outputs": [],
   "source": [
    "# if the count > 30, will random pick 30 + (count-30)*0.2 imgs for the person\n",
    "import random\n",
    "random.seed(42)\n",
    "\n",
    "FACE_NUM = 45\n",
    "\n",
    "def crit(idx):\n",
    "    row = dataset.ix[idx]\n",
    "    count = row['count']\n",
    "    if count < FACE_NUM: return True\n",
    "    ratio = (FACE_NUM+(count-FACE_NUM)*0.4) / count\n",
    "    return random.random() < ratio\n",
    "\n",
    "def crit2(idx):\n",
    "    row = dataset.ix[idx]\n",
    "    count = row['count']\n",
    "    if count < 6: return True\n",
    "    return False\n",
    "    \n",
    "# dataset = dataset.select(crit)\n",
    "dataset = pd.concat([dataset, dataset.select(crit2)], axis=0).reset_index()"
   ]
  },
  {
   "cell_type": "code",
   "execution_count": 8,
   "metadata": {
    "collapsed": false
   },
   "outputs": [
    {
     "data": {
      "text/plain": [
       "42.881513002364066"
      ]
     },
     "execution_count": 8,
     "metadata": {},
     "output_type": "execute_result"
    }
   ],
   "source": [
    "np.mean(dataset.groupby('person_id')['person'].count())"
   ]
  },
  {
   "cell_type": "code",
   "execution_count": 9,
   "metadata": {
    "collapsed": false
   },
   "outputs": [],
   "source": [
    "y = dataset['person_id'].as_matrix()"
   ]
  },
  {
   "cell_type": "code",
   "execution_count": 10,
   "metadata": {
    "collapsed": false
   },
   "outputs": [
    {
     "data": {
      "text/plain": [
       "(453472,)"
      ]
     },
     "execution_count": 10,
     "metadata": {},
     "output_type": "execute_result"
    }
   ],
   "source": [
    "# y = np.concatenate([y,y])\n",
    "y.shape"
   ]
  },
  {
   "cell_type": "code",
   "execution_count": 11,
   "metadata": {
    "collapsed": false
   },
   "outputs": [
    {
     "name": "stdout",
     "output_type": "stream",
     "text": [
      "453472\n"
     ]
    }
   ],
   "source": [
    "img_paths = [r.path for r in dataset.itertuples()]\n",
    "print(len(img_paths))"
   ]
  },
  {
   "cell_type": "code",
   "execution_count": 12,
   "metadata": {
    "collapsed": false
   },
   "outputs": [
    {
     "data": {
      "text/plain": [
       "'3331486/007.png'"
      ]
     },
     "execution_count": 12,
     "metadata": {},
     "output_type": "execute_result"
    }
   ],
   "source": [
    "img_paths[0]"
   ]
  },
  {
   "cell_type": "code",
   "execution_count": 13,
   "metadata": {
    "collapsed": true
   },
   "outputs": [],
   "source": [
    "from PIL import Image\n",
    "\n",
    "def path2ImgVec(path):\n",
    "    x = img_to_array(load_img(join(DATA_HOME, path)))\n",
    "#     x = img_to_array(load_img(join(DATA_HOME, path)).convert('L'))\n",
    "    return x.reshape((1,) + x.shape)\n",
    "\n",
    "def path2ImgVecFlipped(path):\n",
    "    img = load_img(join(DATA_HOME, path)).convert('L')\n",
    "    img = img.transpose(Image.FLIP_LEFT_RIGHT)\n",
    "    x = img_to_array(img)\n",
    "    return x.reshape((1,) + x.shape)"
   ]
  },
  {
   "cell_type": "code",
   "execution_count": 14,
   "metadata": {
    "collapsed": false
   },
   "outputs": [
    {
     "data": {
      "image/png": "[encoded data removed]",
      "text/plain": [
       "<PIL.Image.Image image mode=L size=47x55 at 0x7F3AC2482A90>"
      ]
     },
     "execution_count": 14,
     "metadata": {},
     "output_type": "execute_result"
    }
   ],
   "source": [
    "load_img(join(DATA_HOME, img_paths[0])).convert('L')"
   ]
  },
  {
   "cell_type": "code",
   "execution_count": 15,
   "metadata": {
    "collapsed": false
   },
   "outputs": [],
   "source": [
    "pool = multiprocessing.Pool(8)\n",
    "results1 = pool.map(path2ImgVec, img_paths)\n",
    "pool.close()\n",
    "pool.join()\n",
    "del pool"
   ]
  },
  {
   "cell_type": "code",
   "execution_count": 16,
   "metadata": {
    "collapsed": false
   },
   "outputs": [],
   "source": [
    "# pool = multiprocessing.Pool(8)\n",
    "# results2 = pool.map(path2ImgVecFlipped, img_paths)\n",
    "# pool.close()\n",
    "# pool.join()\n",
    "# del pool"
   ]
  },
  {
   "cell_type": "code",
   "execution_count": 17,
   "metadata": {
    "collapsed": false
   },
   "outputs": [],
   "source": [
    "X = np.vstack(results1)\n",
    "# X = np.vstack(results1+results2)"
   ]
  },
  {
   "cell_type": "code",
   "execution_count": 18,
   "metadata": {
    "collapsed": false
   },
   "outputs": [
    {
     "data": {
      "text/plain": [
       "(453472, 55, 47, 3)"
      ]
     },
     "execution_count": 18,
     "metadata": {},
     "output_type": "execute_result"
    }
   ],
   "source": [
    "X.shape"
   ]
  },
  {
   "cell_type": "code",
   "execution_count": 19,
   "metadata": {
    "collapsed": false
   },
   "outputs": [],
   "source": [
    "for i in range(len(results1)): \n",
    "    results1[i] = None\n",
    "del results1"
   ]
  },
  {
   "cell_type": "code",
   "execution_count": 20,
   "metadata": {
    "collapsed": false
   },
   "outputs": [],
   "source": [
    "# for i in range(len(results2)): \n",
    "#     results2[i] = None\n",
    "# del results2"
   ]
  },
  {
   "cell_type": "code",
   "execution_count": 21,
   "metadata": {
    "collapsed": false
   },
   "outputs": [
    {
     "name": "stdout",
     "output_type": "stream",
     "text": [
      "nb_class 10575\n"
     ]
    }
   ],
   "source": [
    "nb_class = len(np.unique(y))\n",
    "print('nb_class', nb_class)\n",
    "hidden_dim = 160\n",
    "best_weights_filepath = '../models/best_weights.hdf5'\n",
    "input_shape = X.shape[1:]"
   ]
  },
  {
   "cell_type": "code",
   "execution_count": 22,
   "metadata": {
    "collapsed": false
   },
   "outputs": [],
   "source": [
    "X_train, X_test, y_train, y_test = train_test_split(\n",
    "    X, y, test_size=0.1, random_state=42)"
   ]
  },
  {
   "cell_type": "code",
   "execution_count": 23,
   "metadata": {
    "collapsed": true
   },
   "outputs": [],
   "source": [
    "del X, y"
   ]
  },
  {
   "cell_type": "code",
   "execution_count": 24,
   "metadata": {
    "collapsed": false
   },
   "outputs": [
    {
     "data": {
      "text/plain": [
       "100"
      ]
     },
     "execution_count": 24,
     "metadata": {},
     "output_type": "execute_result"
    }
   ],
   "source": [
    "import gc\n",
    "gc.collect()"
   ]
  },
  {
   "cell_type": "code",
   "execution_count": 25,
   "metadata": {
    "collapsed": false
   },
   "outputs": [],
   "source": [
    "from keras.models import Sequential\n",
    "from keras.layers import Conv2D, MaxPooling2D\n",
    "from keras.layers import Dense, Dropout, Activation, Flatten, Input, concatenate\n",
    "from keras.utils import np_utils\n",
    "from keras.layers import LSTM\n",
    "from keras.wrappers.scikit_learn import KerasClassifier\n",
    "from sklearn.metrics import accuracy_score\n",
    "from keras import metrics\n",
    "from keras.callbacks import Callback\n",
    "from keras.layers.normalization import BatchNormalization\n",
    "from keras.engine import Model\n",
    "from keras import optimizers\n",
    "\n",
    "def build_model():\n",
    "    image_input = Input(shape=input_shape)\n",
    "    \n",
    "    conv1 = Conv2D(20, (4, 4), name='conv1')(image_input)\n",
    "    conv1 = BatchNormalization()(conv1)\n",
    "    conv1 = Activation('relu')(conv1)\n",
    "    pool1 = MaxPooling2D(pool_size=(2, 2), name='pool1')(conv1)\n",
    "#     pool1 = Dropout(rate=0.2)(pool1)\n",
    "    \n",
    "    conv2 = Conv2D(40, (3, 3), name='conv2')(pool1)\n",
    "    conv2 = BatchNormalization()(conv2)\n",
    "    conv2 = Activation('relu')(conv2)\n",
    "    pool2 = MaxPooling2D(pool_size=(2, 2), name='pool2')(conv2)\n",
    "#     pool2 = Dropout(rate=0.2)(pool2)\n",
    "\n",
    "    conv3 = Conv2D(60, (3, 3), name='conv3')(pool2)\n",
    "    conv3 = BatchNormalization()(conv3)\n",
    "    conv3 = Activation('relu')(conv3)\n",
    "    pool3 = MaxPooling2D(pool_size=(2, 2), name='pool3')(conv3)\n",
    "\n",
    "    flat1 = Flatten(name='flat1')(pool3)\n",
    "    \n",
    "    conv4 = Conv2D(80, (2, 2), name='conv4')(pool3)\n",
    "    conv4 = BatchNormalization()(conv4)\n",
    "    conv4 = Activation('relu')(conv4)\n",
    "    flat2 = Flatten(name='flat2')(conv4)\n",
    "    \n",
    "    merged = concatenate([flat1, flat2])\n",
    "    \n",
    "    out = Dense(hidden_dim, name='hidden1')(merged)\n",
    "    out = BatchNormalization()(out)\n",
    "    out = Activation('relu',name='deepid')(out)\n",
    "    out = Dense(nb_class, activation='softmax', name='softmax_class')(out)\n",
    "    \n",
    "    model = Model(inputs=image_input, outputs=out)\n",
    "\n",
    "    # optimizer = optimizers.Adam(lr=0.001, beta_1=0.9, beta_2=0.999, epsilon=1e-08, decay=0.0001)\n",
    "\n",
    "    model.compile(\n",
    "        optimizer='adam', #rmsprop\n",
    "        loss='sparse_categorical_crossentropy',\n",
    "        metrics=['accuracy'],\n",
    "    )\n",
    "    \n",
    "    print(model.summary())\n",
    "    return model"
   ]
  },
  {
   "cell_type": "code",
   "execution_count": 44,
   "metadata": {
    "collapsed": false
   },
   "outputs": [
    {
     "name": "stdout",
     "output_type": "stream",
     "text": [
      "____________________________________________________________________________________________________\n",
      "Layer (type)                     Output Shape          Param #     Connected to                     \n",
      "====================================================================================================\n",
      "input_4 (InputLayer)             (None, 55, 47, 3)     0                                            \n",
      "____________________________________________________________________________________________________\n",
      "conv1 (Conv2D)                   (None, 52, 44, 20)    980                                          \n",
      "____________________________________________________________________________________________________\n",
      "batch_normalization_16 (BatchNor (None, 52, 44, 20)    80                                           \n",
      "____________________________________________________________________________________________________\n",
      "activation_13 (Activation)       (None, 52, 44, 20)    0                                            \n",
      "____________________________________________________________________________________________________\n",
      "pool1 (MaxPooling2D)             (None, 26, 22, 20)    0                                            \n",
      "____________________________________________________________________________________________________\n",
      "conv2 (Conv2D)                   (None, 24, 20, 40)    7240                                         \n",
      "____________________________________________________________________________________________________\n",
      "batch_normalization_17 (BatchNor (None, 24, 20, 40)    160                                          \n",
      "____________________________________________________________________________________________________\n",
      "activation_14 (Activation)       (None, 24, 20, 40)    0                                            \n",
      "____________________________________________________________________________________________________\n",
      "pool2 (MaxPooling2D)             (None, 12, 10, 40)    0                                            \n",
      "____________________________________________________________________________________________________\n",
      "conv3 (Conv2D)                   (None, 10, 8, 60)     21660                                        \n",
      "____________________________________________________________________________________________________\n",
      "batch_normalization_18 (BatchNor (None, 10, 8, 60)     240                                          \n",
      "____________________________________________________________________________________________________\n",
      "activation_15 (Activation)       (None, 10, 8, 60)     0                                            \n",
      "____________________________________________________________________________________________________\n",
      "pool3 (MaxPooling2D)             (None, 5, 4, 60)      0                                            \n",
      "____________________________________________________________________________________________________\n",
      "conv4 (Conv2D)                   (None, 4, 3, 80)      19280                                        \n",
      "____________________________________________________________________________________________________\n",
      "batch_normalization_19 (BatchNor (None, 4, 3, 80)      320                                          \n",
      "____________________________________________________________________________________________________\n",
      "activation_16 (Activation)       (None, 4, 3, 80)      0                                            \n",
      "____________________________________________________________________________________________________\n",
      "flat1 (Flatten)                  (None, 1200)          0                                            \n",
      "____________________________________________________________________________________________________\n",
      "flat2 (Flatten)                  (None, 960)           0                                            \n",
      "____________________________________________________________________________________________________\n",
      "concatenate_4 (Concatenate)      (None, 2160)          0                                            \n",
      "____________________________________________________________________________________________________\n",
      "hidden1 (Dense)                  (None, 160)           345760                                       \n",
      "____________________________________________________________________________________________________\n",
      "batch_normalization_20 (BatchNor (None, 160)           640                                          \n",
      "____________________________________________________________________________________________________\n",
      "deepid (Activation)              (None, 160)           0                                            \n",
      "____________________________________________________________________________________________________\n",
      "softmax_class (Dense)            (None, 10575)         1702575                                      \n",
      "====================================================================================================\n",
      "Total params: 2,098,935.0\n",
      "Trainable params: 2,098,215.0\n",
      "Non-trainable params: 720.0\n",
      "____________________________________________________________________________________________________\n",
      "None\n"
     ]
    }
   ],
   "source": [
    "model = None\n",
    "# with tf.device('/gpu:0'):\n",
    "model = build_model()"
   ]
  },
  {
   "cell_type": "code",
   "execution_count": 45,
   "metadata": {
    "collapsed": false
   },
   "outputs": [
    {
     "name": "stdout",
     "output_type": "stream",
     "text": [
      "Train on 367311 samples, validate on 40813 samples\n",
      "Epoch 1/20\n",
      "68s - loss: 8.1360 - acc: 0.0188 - val_loss: 7.9941 - val_acc: 0.0155\n",
      "Epoch 2/20\n",
      "68s - loss: 6.5441 - acc: 0.0908 - val_loss: 6.6397 - val_acc: 0.0638\n",
      "Epoch 3/20\n",
      "69s - loss: 5.2157 - acc: 0.2016 - val_loss: 5.1764 - val_acc: 0.2069\n",
      "Epoch 4/20\n",
      "69s - loss: 4.1698 - acc: 0.3269 - val_loss: 4.6111 - val_acc: 0.2783\n",
      "Epoch 5/20\n",
      "69s - loss: 3.4197 - acc: 0.4302 - val_loss: 4.2191 - val_acc: 0.3331\n",
      "Epoch 6/20\n",
      "69s - loss: 2.8871 - acc: 0.5074 - val_loss: 3.8952 - val_acc: 0.3884\n",
      "Epoch 7/20\n",
      "69s - loss: 2.5025 - acc: 0.5658 - val_loss: 3.8311 - val_acc: 0.3969\n",
      "Epoch 8/20\n",
      "69s - loss: 2.2053 - acc: 0.6118 - val_loss: 3.7433 - val_acc: 0.4129\n",
      "Epoch 9/20\n",
      "69s - loss: 1.9692 - acc: 0.6484 - val_loss: 3.9736 - val_acc: 0.3888\n",
      "Epoch 10/20\n",
      "86s - loss: 1.7724 - acc: 0.6797 - val_loss: 3.8246 - val_acc: 0.4137\n",
      "Epoch 11/20\n",
      "118s - loss: 1.6006 - acc: 0.7086 - val_loss: 3.6815 - val_acc: 0.4412\n",
      "Epoch 12/20\n",
      "118s - loss: 1.4542 - acc: 0.7328 - val_loss: 3.8282 - val_acc: 0.4239\n",
      "Epoch 13/20\n",
      "118s - loss: 1.3269 - acc: 0.7545 - val_loss: 3.9040 - val_acc: 0.4239\n",
      "Epoch 14/20\n",
      "117s - loss: 1.2119 - acc: 0.7744 - val_loss: 4.0243 - val_acc: 0.4143\n",
      "Epoch 15/20\n",
      "118s - loss: 1.1135 - acc: 0.7918 - val_loss: 4.2499 - val_acc: 0.3950\n",
      "Epoch 16/20\n",
      "118s - loss: 1.0262 - acc: 0.8068 - val_loss: 3.9773 - val_acc: 0.4337\n",
      "Epoch 17/20\n",
      "118s - loss: 0.9391 - acc: 0.8228 - val_loss: 4.2785 - val_acc: 0.4079\n",
      "Epoch 18/20\n",
      "118s - loss: 0.8682 - acc: 0.8355 - val_loss: 4.2761 - val_acc: 0.4142\n",
      "Epoch 19/20\n",
      "119s - loss: 0.8020 - acc: 0.8471 - val_loss: 4.3114 - val_acc: 0.4216\n",
      "Epoch 20/20\n",
      "118s - loss: 0.7456 - acc: 0.8574 - val_loss: 4.3540 - val_acc: 0.4262\n"
     ]
    }
   ],
   "source": [
    "saveBestModel = keras.callbacks.ModelCheckpoint(\n",
    "    best_weights_filepath, \n",
    "    monitor='val_loss', \n",
    "    verbose=0, \n",
    "    save_best_only=True, \n",
    "    mode='auto'\n",
    ")\n",
    "earlyStopping=keras.callbacks.EarlyStopping(\n",
    "    monitor='val_loss', \n",
    "    patience=10, \n",
    "    verbose=1, \n",
    "    mode='auto'\n",
    ")\n",
    "\n",
    "history2048 = model.fit(\n",
    "    X_train, \n",
    "    y_train, \n",
    "    batch_size=2048, \n",
    "    epochs=20, #8\n",
    "    verbose=2, \n",
    "    validation_split=0.1, \n",
    "    shuffle=True,\n",
    "    callbacks=[saveBestModel, earlyStopping],\n",
    ")"
   ]
  },
  {
   "cell_type": "code",
   "execution_count": null,
   "metadata": {
    "collapsed": true
   },
   "outputs": [],
   "source": [
    "history"
   ]
  },
  {
   "cell_type": "code",
   "execution_count": 47,
   "metadata": {
    "collapsed": false
   },
   "outputs": [
    {
     "data": {
      "image/png": "[encoded data removed]",
      "text/plain": [
       "<matplotlib.figure.Figure at 0x7f39da28f390>"
      ]
     },
     "metadata": {},
     "output_type": "display_data"
    },
    {
     "data": {
      "image/png": "[encoded data removed]",
      "text/plain": [
       "<matplotlib.figure.Figure at 0x7f39d9faa128>"
      ]
     },
     "metadata": {},
     "output_type": "display_data"
    }
   ],
   "source": [
    "import matplotlib.pyplot as plt\n",
    "# summarize history for accuracy\n",
    "plt.plot(history254.history['acc'])\n",
    "plt.plot(history254.history['val_acc'])\n",
    "plt.plot(history512.history['acc'])\n",
    "plt.plot(history512.history['val_acc'])\n",
    "plt.plot(history1024.history['acc'])\n",
    "plt.plot(history1024.history['val_acc'])\n",
    "plt.plot(history2048.history['acc'])\n",
    "plt.plot(history2048.history['val_acc'])\n",
    "plt.title('model accuracy')\n",
    "plt.ylabel('accuracy')\n",
    "plt.xlabel('epoch')\n",
    "plt.legend(['train254', 'test254', 'train512', 'test512', 'train1024', 'test1024', 'train2048', 'test2048'], loc='upper left')\n",
    "plt.show()\n",
    "# summarize history for loss\n",
    "plt.plot(history254.history['loss'])\n",
    "plt.plot(history254.history['val_loss'])\n",
    "plt.plot(history512.history['loss'])\n",
    "plt.plot(history512.history['val_loss'])\n",
    "plt.plot(history1024.history['loss'])\n",
    "plt.plot(history1024.history['val_loss'])\n",
    "plt.plot(history2048.history['loss'])\n",
    "plt.plot(history2048.history['val_loss'])\n",
    "plt.title('model loss')\n",
    "plt.ylabel('loss')\n",
    "plt.xlabel('epoch')\n",
    "plt.legend(['train254', 'test254', 'train512', 'test512', 'train1024', 'test1024', 'train2048', 'test2048'], loc='upper left')\n",
    "plt.show()"
   ]
  },
  {
   "cell_type": "code",
   "execution_count": 28,
   "metadata": {
    "collapsed": false
   },
   "outputs": [],
   "source": [
    "# model.load_weights(best_weights_filepath)"
   ]
  },
  {
   "cell_type": "code",
   "execution_count": 29,
   "metadata": {
    "collapsed": true
   },
   "outputs": [],
   "source": [
    "# model.save('../models/webface-full-simple-cnn.aligned.margin32.1.s20.model.h5')"
   ]
  },
  {
   "cell_type": "code",
   "execution_count": 30,
   "metadata": {
    "collapsed": false
   },
   "outputs": [],
   "source": [
    "# model.evaluate(X_test, y_test, batch_size=1024, verbose=2)"
   ]
  },
  {
   "cell_type": "code",
   "execution_count": 31,
   "metadata": {
    "collapsed": false
   },
   "outputs": [
    {
     "data": {
      "text/plain": [
       "0"
      ]
     },
     "execution_count": 31,
     "metadata": {},
     "output_type": "execute_result"
    }
   ],
   "source": [
    "import gc\n",
    "gc.collect()"
   ]
  },
  {
   "cell_type": "code",
   "execution_count": null,
   "metadata": {
    "collapsed": true
   },
   "outputs": [],
   "source": []
  }
 ],
 "metadata": {
  "kernelspec": {
   "display_name": "Python 3",
   "language": "python",
   "name": "python3"
  },
  "language_info": {
   "codemirror_mode": {
    "name": "ipython",
    "version": 3
   },
   "file_extension": ".py",
   "mimetype": "text/x-python",
   "name": "python",
   "nbconvert_exporter": "python",
   "pygments_lexer": "ipython3",
   "version": "3.6.0"
  }
 },
 "nbformat": 4,
 "nbformat_minor": 2
}
