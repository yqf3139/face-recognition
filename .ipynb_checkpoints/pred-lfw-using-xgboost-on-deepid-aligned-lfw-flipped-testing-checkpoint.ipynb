{
 "cells": [
  {
   "cell_type": "code",
   "execution_count": 1,
   "metadata": {
    "collapsed": false
   },
   "outputs": [
    {
     "name": "stderr",
     "output_type": "stream",
     "text": [
      "Using TensorFlow backend.\n"
     ]
    }
   ],
   "source": [
    "import pandas as pd\n",
    "import numpy as np\n",
    "import keras\n",
    "from keras.utils.data_utils import get_file\n",
    "from keras.preprocessing.image import array_to_img, img_to_array, load_img\n",
    "from os.path import join\n",
    "import multiprocessing\n",
    "from sklearn.preprocessing import LabelEncoder\n",
    "from sklearn.model_selection import train_test_split\n",
    "from scipy.stats import skew, kurtosis, tvar, entropy, pearsonr\n",
    "import keras.backend.tensorflow_backend as K\n",
    "\n",
    "%matplotlib inline"
   ]
  },
  {
   "cell_type": "code",
   "execution_count": 2,
   "metadata": {
    "collapsed": true
   },
   "outputs": [],
   "source": [
    "DATA_HOME = '../lfw-aligned-with-42-margin-resized/'"
   ]
  },
  {
   "cell_type": "code",
   "execution_count": 3,
   "metadata": {
    "collapsed": true
   },
   "outputs": [],
   "source": [
    "PAIRS_PATH = '../pairs.txt'"
   ]
  },
  {
   "cell_type": "code",
   "execution_count": 4,
   "metadata": {
    "collapsed": false
   },
   "outputs": [],
   "source": [
    "raw_dataset = pd.read_csv(PAIRS_PATH, nrows=None)\n",
    "raw_dataset.columns = ['data']"
   ]
  },
  {
   "cell_type": "code",
   "execution_count": 5,
   "metadata": {
    "collapsed": false
   },
   "outputs": [
    {
     "data": {
      "text/plain": [
       "(6000, 1)"
      ]
     },
     "execution_count": 5,
     "metadata": {},
     "output_type": "execute_result"
    }
   ],
   "source": [
    "raw_dataset.shape"
   ]
  },
  {
   "cell_type": "code",
   "execution_count": 6,
   "metadata": {
    "collapsed": true
   },
   "outputs": [],
   "source": [
    "raw_dataset = raw_dataset"
   ]
  },
  {
   "cell_type": "code",
   "execution_count": 7,
   "metadata": {
    "collapsed": false
   },
   "outputs": [],
   "source": [
    "def split_raw_data(row):\n",
    "    fields = str(row[0]).split('\\t')\n",
    "    is_the_same = 0\n",
    "    path1, path2 = '{}/{}_{:04d}.png', '{}/{}_{:04d}.png'\n",
    "    if len(fields) == 3:\n",
    "        is_the_same = 1\n",
    "        path1 = path1.format(fields[0], fields[0], int(fields[1]))\n",
    "        path2 = path2.format(fields[0], fields[0], int(fields[2]))\n",
    "    elif len(fields) == 4:\n",
    "        path1 = path1.format(fields[0], fields[0], int(fields[1]))\n",
    "        path2 = path2.format(fields[2], fields[2], int(fields[3]))\n",
    "    else:\n",
    "        raise(Exception('invalid fields'))\n",
    "    \n",
    "    return pd.Series([path1, path2, is_the_same], ['path1', 'path2', 'is_the_same']) "
   ]
  },
  {
   "cell_type": "code",
   "execution_count": 8,
   "metadata": {
    "collapsed": false
   },
   "outputs": [],
   "source": [
    "dataset = raw_dataset.apply(split_raw_data, axis=1)"
   ]
  },
  {
   "cell_type": "code",
   "execution_count": 9,
   "metadata": {
    "collapsed": false
   },
   "outputs": [
    {
     "data": {
      "text/html": [
       "<div>\n",
       "<table border=\"1\" class=\"dataframe\">\n",
       "  <thead>\n",
       "    <tr style=\"text-align: right;\">\n",
       "      <th></th>\n",
       "      <th>path1</th>\n",
       "      <th>path2</th>\n",
       "      <th>is_the_same</th>\n",
       "    </tr>\n",
       "  </thead>\n",
       "  <tbody>\n",
       "    <tr>\n",
       "      <th>0</th>\n",
       "      <td>Abel_Pacheco/Abel_Pacheco_0001.png</td>\n",
       "      <td>Abel_Pacheco/Abel_Pacheco_0004.png</td>\n",
       "      <td>1</td>\n",
       "    </tr>\n",
       "    <tr>\n",
       "      <th>1</th>\n",
       "      <td>Akhmed_Zakayev/Akhmed_Zakayev_0001.png</td>\n",
       "      <td>Akhmed_Zakayev/Akhmed_Zakayev_0003.png</td>\n",
       "      <td>1</td>\n",
       "    </tr>\n",
       "    <tr>\n",
       "      <th>2</th>\n",
       "      <td>Akhmed_Zakayev/Akhmed_Zakayev_0002.png</td>\n",
       "      <td>Akhmed_Zakayev/Akhmed_Zakayev_0003.png</td>\n",
       "      <td>1</td>\n",
       "    </tr>\n",
       "    <tr>\n",
       "      <th>3</th>\n",
       "      <td>Amber_Tamblyn/Amber_Tamblyn_0001.png</td>\n",
       "      <td>Amber_Tamblyn/Amber_Tamblyn_0002.png</td>\n",
       "      <td>1</td>\n",
       "    </tr>\n",
       "    <tr>\n",
       "      <th>4</th>\n",
       "      <td>Anders_Fogh_Rasmussen/Anders_Fogh_Rasmussen_00...</td>\n",
       "      <td>Anders_Fogh_Rasmussen/Anders_Fogh_Rasmussen_00...</td>\n",
       "      <td>1</td>\n",
       "    </tr>\n",
       "  </tbody>\n",
       "</table>\n",
       "</div>"
      ],
      "text/plain": [
       "                                               path1  \\\n",
       "0                 Abel_Pacheco/Abel_Pacheco_0001.png   \n",
       "1             Akhmed_Zakayev/Akhmed_Zakayev_0001.png   \n",
       "2             Akhmed_Zakayev/Akhmed_Zakayev_0002.png   \n",
       "3               Amber_Tamblyn/Amber_Tamblyn_0001.png   \n",
       "4  Anders_Fogh_Rasmussen/Anders_Fogh_Rasmussen_00...   \n",
       "\n",
       "                                               path2  is_the_same  \n",
       "0                 Abel_Pacheco/Abel_Pacheco_0004.png            1  \n",
       "1             Akhmed_Zakayev/Akhmed_Zakayev_0003.png            1  \n",
       "2             Akhmed_Zakayev/Akhmed_Zakayev_0003.png            1  \n",
       "3               Amber_Tamblyn/Amber_Tamblyn_0002.png            1  \n",
       "4  Anders_Fogh_Rasmussen/Anders_Fogh_Rasmussen_00...            1  "
      ]
     },
     "execution_count": 9,
     "metadata": {},
     "output_type": "execute_result"
    }
   ],
   "source": [
    "dataset.head()"
   ]
  },
  {
   "cell_type": "code",
   "execution_count": 10,
   "metadata": {
    "collapsed": false
   },
   "outputs": [
    {
     "data": {
      "text/plain": [
       "(6000, 3)"
      ]
     },
     "execution_count": 10,
     "metadata": {},
     "output_type": "execute_result"
    }
   ],
   "source": [
    "dataset.shape"
   ]
  },
  {
   "cell_type": "code",
   "execution_count": 11,
   "metadata": {
    "collapsed": true
   },
   "outputs": [],
   "source": [
    "from PIL import Image\n",
    "\n",
    "def path2ImgVec(path):\n",
    "    x = img_to_array(load_img(join(DATA_HOME, path)))\n",
    "#     x = img_to_array(load_img(join(DATA_HOME, path)).convert('L'))\n",
    "    return x.reshape((1,) + x.shape)\n",
    "\n",
    "def path2ImgVecFlipped(path):\n",
    "    img = load_img(join(DATA_HOME, path))\n",
    "#     img = load_img(join(DATA_HOME, path)).convert('L')\n",
    "    img = img.transpose(Image.FLIP_LEFT_RIGHT)\n",
    "    x = img_to_array(img)\n",
    "    return x.reshape((1,) + x.shape)"
   ]
  },
  {
   "cell_type": "code",
   "execution_count": 12,
   "metadata": {
    "collapsed": false
   },
   "outputs": [
    {
     "data": {
      "text/plain": [
       "7701"
      ]
     },
     "execution_count": 12,
     "metadata": {},
     "output_type": "execute_result"
    }
   ],
   "source": [
    "img_paths = list(set(dataset.path1.tolist()+dataset.path2.tolist()))\n",
    "len(img_paths)"
   ]
  },
  {
   "cell_type": "code",
   "execution_count": 13,
   "metadata": {
    "collapsed": false
   },
   "outputs": [],
   "source": [
    "pool = multiprocessing.Pool(8)\n",
    "results1 = pool.map(path2ImgVec, img_paths)\n",
    "pool.close()\n",
    "pool.join()"
   ]
  },
  {
   "cell_type": "code",
   "execution_count": 14,
   "metadata": {
    "collapsed": false
   },
   "outputs": [],
   "source": [
    "pool = multiprocessing.Pool(8)\n",
    "results2 = pool.map(path2ImgVecFlipped, img_paths)\n",
    "pool.close()\n",
    "pool.join()"
   ]
  },
  {
   "cell_type": "code",
   "execution_count": 15,
   "metadata": {
    "collapsed": false
   },
   "outputs": [
    {
     "data": {
      "text/plain": [
       "(7701, 55, 47, 3)"
      ]
     },
     "execution_count": 15,
     "metadata": {},
     "output_type": "execute_result"
    }
   ],
   "source": [
    "img_vecs1 = np.vstack(results1)\n",
    "img_vecs1.shape\n",
    "img_vecs2 = np.vstack(results2)\n",
    "img_vecs2.shape"
   ]
  },
  {
   "cell_type": "code",
   "execution_count": 16,
   "metadata": {
    "collapsed": false
   },
   "outputs": [
    {
     "data": {
      "text/plain": [
       "(7701, 55, 47, 3)"
      ]
     },
     "execution_count": 16,
     "metadata": {},
     "output_type": "execute_result"
    }
   ],
   "source": [
    "input_shape = img_vecs1.shape[1:]\n",
    "img_vecs1.shape"
   ]
  },
  {
   "cell_type": "code",
   "execution_count": 17,
   "metadata": {
    "collapsed": false
   },
   "outputs": [],
   "source": [
    "from keras.models import load_model\n",
    "\n",
    "# model = load_model('../models/facescrub-faceonly-simple-cnn.model.h5')\n",
    "# 0.250667\t0.014855\t0.240852\t0.003922\n",
    "\n",
    "# model = load_model('../models/webface-simple-cnn.3348.model.h5')\n",
    "# 0.258\t0.012423\t0.247926\t0.001509\n",
    "\n",
    "# model = load_model('../models/webface-simple-cnn.aligned.margin16.model.h5')\n",
    "# 0.188000\t0.009123\t0.174352\t0.001018\n",
    "\n",
    "# model = load_model('../models/webface-simple-cnn.aligned.margin32-1.model.h5')\n",
    "# 0.158667\t0.009684\t0.149889\t0.001223\n",
    "\n",
    "# model = load_model('../models/webface-facescrub-faceonly-simple-cnn.aligned.model.h5')\n",
    "# 0.146333\t0.015720\t0.137333\t0.002688\n",
    "\n",
    "# model = load_model('../models/webface-facescrub-faceonly-simple-cnn.aligned.selected.model.h5')\n",
    "# 0.149667\t0.012601\t0.119389\t0.002129\n",
    "\n",
    "# model = load_model('../models/webface-facescrub-faceonly-simple-cnn.aligned.augment.model.h5')\n",
    "\n",
    "# model = load_model('../models/webface-facescrub-faceonly-simple-cnn.aligned.flipped.model.h5')\n",
    "# with <6 augmentation\n",
    "# 0.131\t0.010220\t0.099037\t0.002640\n",
    "\n",
    "# model = load_model('../models/webface-full-simple-cnn.aligned.margin32.model.h5')\n",
    "# about 60% data ?\n",
    "# 0.111667\t0.011571\t0.099852\t0.002124\n",
    "# All data\n",
    "# 0.102500\t0.011908\t0.065889\t0.001608\n",
    "\n",
    "# model = load_model('../models/webface-full-simple-cnn.aligned.margin32.s20.model.h5')\n",
    "# 0.100333\t0.013392\t0.082704\t0.001788\n",
    "# with lfw flipped\n",
    "#*0.095833\t0.013627\t0.077963\t0.000824\n",
    "# with distance\n",
    "# 0.094500\t0.013272\t0.070222\t0.002491\n",
    "\n",
    "# model = load_model('../models/webface-full-simple-cnn.aligned.margin32.grey.model.h5')\n",
    "# All data\n",
    "# 0.114000\t0.012936\t0.094685\t0.001828\n",
    "# All data + flipped\n",
    "# 0.106500\t0.011772\t0.081500\t0.002122\n",
    "# 0.105167\t0.010735\t0.089592\t0.001551\n",
    "\n",
    "# model = load_model('../models/webface-full-simple-cnn.A.aligned.margin32.s20.model.h5')\n",
    "# with lfw flipped\n",
    "# 0.105333\t0.011101\t0.069389\t0.001656\n",
    "# with joint bayes\n",
    "# 0.102167\t0.011427\t0.083241\t0.001384\n",
    "\n",
    "# model = load_model('../models/webface-full-simple-cnn.aligned.margin16.s20.model.h5')\n",
    "# with lfw flipped\n",
    "# 0.106167\t0.013438\t0.081222\t0.001876\n",
    "# with distance\n",
    "# 0.100333\t0.014411\t0.080370\t0.001809\n",
    "\n",
    "# model = load_model('../models/webface-full-simple-cnn.aligned.margin4.s20.model.h5')\n",
    "# with lfw flipped\n",
    "# 0.107667\t0.015762\t0.062593\t0.001863\n",
    "# with distance\n",
    "# 0.100167\t0.014841\t0.091148\t0.001693\n",
    "\n",
    "# model = load_model('../models/webface-full-simple-cnn.aligned.margin42.s20.model.h5')\n",
    "# with lfw flipped\n",
    "# 0.100667\t0.013106\t0.077389\t0.002303\n",
    "# with distance\n",
    "# 0.095167\t0.014822\t0.082926\t0.002182\n",
    "\n",
    "# model = load_model('../models/celeba-full-simple-cnn.aligned.margin32.model.h5')\n",
    "# 0.139167 \t0.018488 \t0.131982 \t0.002264\n",
    "\n",
    "# model = load_model('../models/celeba-full-simple-cnn.aligned.margin32.flipped.model.h5')\n",
    "# 0.126500 \t0.009957 \t0.114055 \t0.002217\n",
    "\n",
    "# model = load_model('../models/celeba-full-simple-cnn.aligned.margin32.flipped.s20.model.h5')\n",
    "# 0.111500\t0.011315\t0.097333\t0.001769\n",
    "# 0.112833\t0.014645\t0.097611\t0.002232\n",
    "# with distance\n",
    "# 0.110000\t0.009129\t0.085722\t0.001767\n",
    "\n",
    "# model = load_model('../models/celeba-full-simple-cnn.aligned.margin16.flipped.s20.model.h5')\n",
    "# with lfw flipped\n",
    "# 0.117833\t0.016160\t0.099574\t0.002313\n",
    "# with distance\n",
    "# 0.116833\t0.013874\t0.086370\t0.002919\n",
    "\n",
    "# model = load_model('../models/celeba-full-simple-cnn.aligned.margin4.flipped.s20.model.h5')\n",
    "# with lfw flipped\n",
    "# 0.122333\t0.012871\t0.094204\t0.002562\n",
    "# with distance\n",
    "# 0.118833\t0.006669\t0.093166\t0.002160\n",
    "\n",
    "model = load_model('../models/celeba-full-simple-cnn.aligned.margin42.flipped.s20.model.h5')\n",
    "# with lfw flipped\n",
    "# 0.117167\t0.014815\t0.106056\t0.001996\n",
    "# with distance\n",
    "# 0.117833\t0.015830\t0.104704\t0.001600\n",
    "\n",
    "# model = load_model('../models/webface-full-celeba-simple-cnn.aligned.margin32.grey.model.h5')\n",
    "# 0.107333\t0.013085\t0.089500\t0.001393\n",
    "\n",
    "# model = load_model('../models/webface-full-celeba-simple-cnn.aligned.margin32.grey.flipped.s20.model.h5')\n",
    "# 0.101000\t0.013646\t0.088574\t0.002227\n",
    "# 0.098667\t0.014020\t0.082630\t0.001580\n",
    "# 0.098333\t0.013333\t0.082704\t0.001736\n",
    "# 0.100500\t0.009547\t0.090111\t0.001466\n",
    "# 0.093667\t0.010214\t0.065185\t0.001320\n",
    "\n",
    "# with lfw flipped\n",
    "#*090667\t0.007079\t0.056815\t0.001879\\\n",
    "# more distance\n",
    "# 0.086667\t0.007303\t0.057519\t0.002095\n",
    "\n",
    "# model = load_model('../models/webface-full-celeba-simple-cnn.aligned.margin16.grey.flipped.s20.model.h5')\n",
    "# with lfw flipped\n",
    "# 0.099000\t0.013000\t0.061352\t0.001969\n",
    "# with distance\n",
    "# 0.092000\t0.013183\t0.063241\t0.001133\n",
    "\n",
    "# model = load_model('../models/webface-full-celeba-simple-cnn.aligned.margin4.grey.flipped.s20.model.h5')\n",
    "# with lfw flipped\n",
    "# 0.108167\t0.012963\t0.068370\t0.002075\n",
    "# with distance\n",
    "# \t0.099667\t0.010214\t0.073944\t0.001606\n",
    "\n",
    "# model = load_model('../models/webface-full-celeba-simple-cnn.aligned.margin42.grey.flipped.s20.model.h5')\n",
    "# with lfw flipped\n",
    "# 0.100500\t0.012781\t0.078445\t0.001869\n",
    "# with distance\n",
    "# 0.092667\t0.011884\t0.076907\t0.002318\n"
   ]
  },
  {
   "cell_type": "code",
   "execution_count": 18,
   "metadata": {
    "collapsed": true
   },
   "outputs": [],
   "source": [
    "from keras import backend as K\n",
    "inp = model.input\n",
    "\n",
    "outputs = [model.layers[-2].output]\n",
    "functor = K.function([inp] + [K.learning_phase()], outputs)"
   ]
  },
  {
   "cell_type": "code",
   "execution_count": 19,
   "metadata": {
    "collapsed": false
   },
   "outputs": [
    {
     "data": {
      "text/plain": [
       "(7701, 55, 47, 3)"
      ]
     },
     "execution_count": 19,
     "metadata": {},
     "output_type": "execute_result"
    }
   ],
   "source": [
    "img_vecs1.shape"
   ]
  },
  {
   "cell_type": "code",
   "execution_count": 20,
   "metadata": {
    "collapsed": false
   },
   "outputs": [],
   "source": [
    "deepids1 = functor([img_vecs1, 1.])[0]"
   ]
  },
  {
   "cell_type": "code",
   "execution_count": 21,
   "metadata": {
    "collapsed": true
   },
   "outputs": [],
   "source": [
    "deepids2 = functor([img_vecs2, 1.])[0]"
   ]
  },
  {
   "cell_type": "code",
   "execution_count": 22,
   "metadata": {
    "collapsed": false
   },
   "outputs": [
    {
     "data": {
      "text/plain": [
       "(7701, 160)"
      ]
     },
     "execution_count": 22,
     "metadata": {},
     "output_type": "execute_result"
    }
   ],
   "source": [
    "deepids1.shape"
   ]
  },
  {
   "cell_type": "code",
   "execution_count": 23,
   "metadata": {
    "collapsed": true
   },
   "outputs": [],
   "source": [
    "img_paths_flipped = [\"~\"+i for i in img_paths]"
   ]
  },
  {
   "cell_type": "code",
   "execution_count": 24,
   "metadata": {
    "collapsed": true
   },
   "outputs": [],
   "source": [
    "deepids = np.vstack([deepids1, deepids2])"
   ]
  },
  {
   "cell_type": "code",
   "execution_count": 25,
   "metadata": {
    "collapsed": false
   },
   "outputs": [
    {
     "data": {
      "text/plain": [
       "(15402, 160)"
      ]
     },
     "execution_count": 25,
     "metadata": {},
     "output_type": "execute_result"
    }
   ],
   "source": [
    "deepids.shape"
   ]
  },
  {
   "cell_type": "code",
   "execution_count": 26,
   "metadata": {
    "collapsed": true
   },
   "outputs": [],
   "source": [
    "img_deepid_mem = {k:v for k, v in zip(img_paths+img_paths_flipped, deepids)}"
   ]
  },
  {
   "cell_type": "code",
   "execution_count": 27,
   "metadata": {
    "collapsed": true
   },
   "outputs": [],
   "source": [
    "from scipy.spatial.distance import cosine, cityblock, jaccard, canberra, euclidean, minkowski, braycurtis\n",
    "\n",
    "\n",
    "def to_deepid_features(row):\n",
    "    vec1 = img_deepid_mem[row['path1']]\n",
    "    vec2 = img_deepid_mem[row['path2']]\n",
    "\n",
    "    fvec1 = img_deepid_mem[\"~\"+row['path1']]\n",
    "    fvec2 = img_deepid_mem[\"~\"+row['path2']]\n",
    "    \n",
    "    feats = [\n",
    "        cosine(vec1, vec2),\n",
    "        cosine(vec1, fvec2),\n",
    "        cosine(fvec1, vec2),\n",
    "        cosine(fvec1, fvec2),\n",
    "        cityblock(vec1, vec2),\n",
    "        canberra(vec1, vec2),\n",
    "        euclidean(vec1, vec2),\n",
    "        minkowski(vec1, vec2, 3),\n",
    "        braycurtis(vec1, vec2),\n",
    "        skew(vec1),\n",
    "        skew(vec2),\n",
    "        kurtosis(vec1),\n",
    "        kurtosis(vec2),\n",
    "        tvar(vec1),\n",
    "        tvar(vec2),\n",
    "    ]\n",
    "    \n",
    "    return pd.Series(feats + [row['is_the_same']], ['z_'+str(i) for i in range(len(feats))] + ['is_the_same']) "
   ]
  },
  {
   "cell_type": "code",
   "execution_count": 28,
   "metadata": {
    "collapsed": false
   },
   "outputs": [],
   "source": [
    "feat_dataset = dataset.apply(to_deepid_features, axis=1)"
   ]
  },
  {
   "cell_type": "code",
   "execution_count": 29,
   "metadata": {
    "collapsed": false
   },
   "outputs": [
    {
     "data": {
      "text/html": [
       "<div>\n",
       "<table border=\"1\" class=\"dataframe\">\n",
       "  <thead>\n",
       "    <tr style=\"text-align: right;\">\n",
       "      <th></th>\n",
       "      <th>z_0</th>\n",
       "      <th>z_1</th>\n",
       "      <th>z_2</th>\n",
       "      <th>z_3</th>\n",
       "      <th>z_4</th>\n",
       "      <th>z_5</th>\n",
       "      <th>z_6</th>\n",
       "      <th>z_7</th>\n",
       "      <th>z_8</th>\n",
       "      <th>z_9</th>\n",
       "      <th>z_10</th>\n",
       "      <th>z_11</th>\n",
       "      <th>z_12</th>\n",
       "      <th>z_13</th>\n",
       "      <th>z_14</th>\n",
       "      <th>is_the_same</th>\n",
       "    </tr>\n",
       "  </thead>\n",
       "  <tbody>\n",
       "    <tr>\n",
       "      <th>0</th>\n",
       "      <td>0.444337</td>\n",
       "      <td>0.455961</td>\n",
       "      <td>0.431830</td>\n",
       "      <td>0.388360</td>\n",
       "      <td>385.470520</td>\n",
       "      <td>89.663260</td>\n",
       "      <td>41.320644</td>\n",
       "      <td>21.234644</td>\n",
       "      <td>0.528410</td>\n",
       "      <td>1.118911</td>\n",
       "      <td>1.428116</td>\n",
       "      <td>0.551219</td>\n",
       "      <td>1.682273</td>\n",
       "      <td>6.561150</td>\n",
       "      <td>7.130279</td>\n",
       "      <td>1.0</td>\n",
       "    </tr>\n",
       "    <tr>\n",
       "      <th>1</th>\n",
       "      <td>0.227899</td>\n",
       "      <td>0.240157</td>\n",
       "      <td>0.279348</td>\n",
       "      <td>0.273742</td>\n",
       "      <td>272.473969</td>\n",
       "      <td>61.437836</td>\n",
       "      <td>30.953049</td>\n",
       "      <td>16.112365</td>\n",
       "      <td>0.356385</td>\n",
       "      <td>1.162866</td>\n",
       "      <td>1.056411</td>\n",
       "      <td>0.785768</td>\n",
       "      <td>0.593453</td>\n",
       "      <td>7.944428</td>\n",
       "      <td>6.586450</td>\n",
       "      <td>1.0</td>\n",
       "    </tr>\n",
       "    <tr>\n",
       "      <th>2</th>\n",
       "      <td>0.331572</td>\n",
       "      <td>0.361793</td>\n",
       "      <td>0.304314</td>\n",
       "      <td>0.350810</td>\n",
       "      <td>332.856873</td>\n",
       "      <td>76.026418</td>\n",
       "      <td>37.035301</td>\n",
       "      <td>19.615418</td>\n",
       "      <td>0.429315</td>\n",
       "      <td>1.046581</td>\n",
       "      <td>1.056411</td>\n",
       "      <td>0.532230</td>\n",
       "      <td>0.593453</td>\n",
       "      <td>7.376277</td>\n",
       "      <td>6.586450</td>\n",
       "      <td>1.0</td>\n",
       "    </tr>\n",
       "    <tr>\n",
       "      <th>3</th>\n",
       "      <td>0.255179</td>\n",
       "      <td>0.273545</td>\n",
       "      <td>0.294155</td>\n",
       "      <td>0.288005</td>\n",
       "      <td>329.180603</td>\n",
       "      <td>63.036556</td>\n",
       "      <td>38.120068</td>\n",
       "      <td>20.437334</td>\n",
       "      <td>0.375706</td>\n",
       "      <td>0.965596</td>\n",
       "      <td>1.393724</td>\n",
       "      <td>0.307968</td>\n",
       "      <td>1.408756</td>\n",
       "      <td>9.148125</td>\n",
       "      <td>11.488263</td>\n",
       "      <td>1.0</td>\n",
       "    </tr>\n",
       "    <tr>\n",
       "      <th>4</th>\n",
       "      <td>0.370672</td>\n",
       "      <td>0.361395</td>\n",
       "      <td>0.381454</td>\n",
       "      <td>0.384775</td>\n",
       "      <td>368.235260</td>\n",
       "      <td>86.747124</td>\n",
       "      <td>40.027325</td>\n",
       "      <td>20.815452</td>\n",
       "      <td>0.480957</td>\n",
       "      <td>0.803261</td>\n",
       "      <td>1.248979</td>\n",
       "      <td>-0.375434</td>\n",
       "      <td>0.881707</td>\n",
       "      <td>5.509652</td>\n",
       "      <td>9.440453</td>\n",
       "      <td>1.0</td>\n",
       "    </tr>\n",
       "  </tbody>\n",
       "</table>\n",
       "</div>"
      ],
      "text/plain": [
       "        z_0       z_1       z_2       z_3         z_4        z_5        z_6  \\\n",
       "0  0.444337  0.455961  0.431830  0.388360  385.470520  89.663260  41.320644   \n",
       "1  0.227899  0.240157  0.279348  0.273742  272.473969  61.437836  30.953049   \n",
       "2  0.331572  0.361793  0.304314  0.350810  332.856873  76.026418  37.035301   \n",
       "3  0.255179  0.273545  0.294155  0.288005  329.180603  63.036556  38.120068   \n",
       "4  0.370672  0.361395  0.381454  0.384775  368.235260  86.747124  40.027325   \n",
       "\n",
       "         z_7       z_8       z_9      z_10      z_11      z_12      z_13  \\\n",
       "0  21.234644  0.528410  1.118911  1.428116  0.551219  1.682273  6.561150   \n",
       "1  16.112365  0.356385  1.162866  1.056411  0.785768  0.593453  7.944428   \n",
       "2  19.615418  0.429315  1.046581  1.056411  0.532230  0.593453  7.376277   \n",
       "3  20.437334  0.375706  0.965596  1.393724  0.307968  1.408756  9.148125   \n",
       "4  20.815452  0.480957  0.803261  1.248979 -0.375434  0.881707  5.509652   \n",
       "\n",
       "        z_14  is_the_same  \n",
       "0   7.130279          1.0  \n",
       "1   6.586450          1.0  \n",
       "2   6.586450          1.0  \n",
       "3  11.488263          1.0  \n",
       "4   9.440453          1.0  "
      ]
     },
     "execution_count": 29,
     "metadata": {},
     "output_type": "execute_result"
    }
   ],
   "source": [
    "feat_dataset.head()"
   ]
  },
  {
   "cell_type": "code",
   "execution_count": 30,
   "metadata": {
    "collapsed": false
   },
   "outputs": [
    {
     "data": {
      "text/html": [
       "<div>\n",
       "<table border=\"1\" class=\"dataframe\">\n",
       "  <thead>\n",
       "    <tr style=\"text-align: right;\">\n",
       "      <th></th>\n",
       "      <th>z_0</th>\n",
       "      <th>z_1</th>\n",
       "      <th>z_2</th>\n",
       "      <th>z_3</th>\n",
       "      <th>z_4</th>\n",
       "      <th>z_5</th>\n",
       "      <th>z_6</th>\n",
       "      <th>z_7</th>\n",
       "      <th>z_8</th>\n",
       "      <th>z_9</th>\n",
       "      <th>z_10</th>\n",
       "      <th>z_11</th>\n",
       "      <th>z_12</th>\n",
       "      <th>z_13</th>\n",
       "      <th>z_14</th>\n",
       "      <th>is_the_same</th>\n",
       "    </tr>\n",
       "  </thead>\n",
       "  <tbody>\n",
       "    <tr>\n",
       "      <th>5995</th>\n",
       "      <td>0.497665</td>\n",
       "      <td>0.490360</td>\n",
       "      <td>0.478229</td>\n",
       "      <td>0.475118</td>\n",
       "      <td>449.287964</td>\n",
       "      <td>93.399739</td>\n",
       "      <td>47.987968</td>\n",
       "      <td>24.578508</td>\n",
       "      <td>0.550104</td>\n",
       "      <td>1.112994</td>\n",
       "      <td>0.981901</td>\n",
       "      <td>0.665223</td>\n",
       "      <td>-0.180813</td>\n",
       "      <td>8.335918</td>\n",
       "      <td>7.582238</td>\n",
       "      <td>0.0</td>\n",
       "    </tr>\n",
       "    <tr>\n",
       "      <th>5996</th>\n",
       "      <td>0.540469</td>\n",
       "      <td>0.554548</td>\n",
       "      <td>0.512650</td>\n",
       "      <td>0.505362</td>\n",
       "      <td>448.568542</td>\n",
       "      <td>99.479569</td>\n",
       "      <td>47.559700</td>\n",
       "      <td>24.297449</td>\n",
       "      <td>0.568288</td>\n",
       "      <td>1.070298</td>\n",
       "      <td>1.048877</td>\n",
       "      <td>0.430165</td>\n",
       "      <td>0.365568</td>\n",
       "      <td>6.147604</td>\n",
       "      <td>7.729656</td>\n",
       "      <td>0.0</td>\n",
       "    </tr>\n",
       "    <tr>\n",
       "      <th>5997</th>\n",
       "      <td>0.554738</td>\n",
       "      <td>0.576017</td>\n",
       "      <td>0.557717</td>\n",
       "      <td>0.551608</td>\n",
       "      <td>525.749878</td>\n",
       "      <td>105.363857</td>\n",
       "      <td>55.152763</td>\n",
       "      <td>28.369318</td>\n",
       "      <td>0.597660</td>\n",
       "      <td>1.228675</td>\n",
       "      <td>0.874150</td>\n",
       "      <td>0.660329</td>\n",
       "      <td>-0.097289</td>\n",
       "      <td>11.725911</td>\n",
       "      <td>7.169877</td>\n",
       "      <td>0.0</td>\n",
       "    </tr>\n",
       "    <tr>\n",
       "      <th>5998</th>\n",
       "      <td>0.537418</td>\n",
       "      <td>0.508089</td>\n",
       "      <td>0.525587</td>\n",
       "      <td>0.506557</td>\n",
       "      <td>483.291870</td>\n",
       "      <td>103.457728</td>\n",
       "      <td>50.293339</td>\n",
       "      <td>25.471744</td>\n",
       "      <td>0.598128</td>\n",
       "      <td>1.090085</td>\n",
       "      <td>1.143220</td>\n",
       "      <td>0.696390</td>\n",
       "      <td>0.383798</td>\n",
       "      <td>8.558986</td>\n",
       "      <td>8.112764</td>\n",
       "      <td>0.0</td>\n",
       "    </tr>\n",
       "    <tr>\n",
       "      <th>5999</th>\n",
       "      <td>0.630925</td>\n",
       "      <td>0.594673</td>\n",
       "      <td>0.616807</td>\n",
       "      <td>0.603682</td>\n",
       "      <td>510.989868</td>\n",
       "      <td>110.538207</td>\n",
       "      <td>53.613232</td>\n",
       "      <td>27.361130</td>\n",
       "      <td>0.656854</td>\n",
       "      <td>1.131980</td>\n",
       "      <td>1.248967</td>\n",
       "      <td>0.603042</td>\n",
       "      <td>0.717309</td>\n",
       "      <td>7.098961</td>\n",
       "      <td>9.568910</td>\n",
       "      <td>0.0</td>\n",
       "    </tr>\n",
       "  </tbody>\n",
       "</table>\n",
       "</div>"
      ],
      "text/plain": [
       "           z_0       z_1       z_2       z_3         z_4         z_5  \\\n",
       "5995  0.497665  0.490360  0.478229  0.475118  449.287964   93.399739   \n",
       "5996  0.540469  0.554548  0.512650  0.505362  448.568542   99.479569   \n",
       "5997  0.554738  0.576017  0.557717  0.551608  525.749878  105.363857   \n",
       "5998  0.537418  0.508089  0.525587  0.506557  483.291870  103.457728   \n",
       "5999  0.630925  0.594673  0.616807  0.603682  510.989868  110.538207   \n",
       "\n",
       "            z_6        z_7       z_8       z_9      z_10      z_11      z_12  \\\n",
       "5995  47.987968  24.578508  0.550104  1.112994  0.981901  0.665223 -0.180813   \n",
       "5996  47.559700  24.297449  0.568288  1.070298  1.048877  0.430165  0.365568   \n",
       "5997  55.152763  28.369318  0.597660  1.228675  0.874150  0.660329 -0.097289   \n",
       "5998  50.293339  25.471744  0.598128  1.090085  1.143220  0.696390  0.383798   \n",
       "5999  53.613232  27.361130  0.656854  1.131980  1.248967  0.603042  0.717309   \n",
       "\n",
       "           z_13      z_14  is_the_same  \n",
       "5995   8.335918  7.582238          0.0  \n",
       "5996   6.147604  7.729656          0.0  \n",
       "5997  11.725911  7.169877          0.0  \n",
       "5998   8.558986  8.112764          0.0  \n",
       "5999   7.098961  9.568910          0.0  "
      ]
     },
     "execution_count": 30,
     "metadata": {},
     "output_type": "execute_result"
    }
   ],
   "source": [
    "feat_dataset.tail()"
   ]
  },
  {
   "cell_type": "code",
   "execution_count": 31,
   "metadata": {
    "collapsed": false
   },
   "outputs": [],
   "source": [
    "col = [c for c in feat_dataset.columns if c[0]=='z']\n",
    "\n",
    "X = feat_dataset[col].as_matrix()\n",
    "y = feat_dataset['is_the_same'].as_matrix()"
   ]
  },
  {
   "cell_type": "code",
   "execution_count": 32,
   "metadata": {
    "collapsed": false
   },
   "outputs": [
    {
     "data": {
      "text/plain": [
       "array([   0.44433663,    0.45596127,    0.43183002,    0.38835995,\n",
       "        385.47052002,   89.66325972,   41.32064438,   21.23464414,\n",
       "          0.52841029,    1.11891055,    1.42811561,    0.55121909,\n",
       "          1.68227257,    6.56114995,    7.13027856])"
      ]
     },
     "execution_count": 32,
     "metadata": {},
     "output_type": "execute_result"
    }
   ],
   "source": [
    "X[0]"
   ]
  },
  {
   "cell_type": "code",
   "execution_count": 33,
   "metadata": {
    "collapsed": true
   },
   "outputs": [],
   "source": [
    "X_train, X_valid, y_train, y_valid = train_test_split(X, y, test_size=0.1, random_state=42)"
   ]
  },
  {
   "cell_type": "code",
   "execution_count": 34,
   "metadata": {
    "collapsed": false
   },
   "outputs": [
    {
     "name": "stdout",
     "output_type": "stream",
     "text": [
      "[0]\ttrain-logloss:0.523885\ttrain-error:0.113519\tvalid-logloss:0.524997\tvalid-error:0.113333\n",
      "Multiple eval metrics have been passed: 'valid-error' will be used for early stopping.\n",
      "\n",
      "Will train until valid-error hasn't improved in 50 rounds.\n",
      "[100]\ttrain-logloss:0.117756\ttrain-error:0.035\tvalid-logloss:0.273082\tvalid-error:0.106667\n",
      "Stopping. Best iteration:\n",
      "[130]\ttrain-logloss:0.092484\ttrain-error:0.02\tvalid-logloss:0.28006\tvalid-error:0.098333\n",
      "\n"
     ]
    }
   ],
   "source": [
    "import xgboost as xgb\n",
    "params = {}\n",
    "params[\"objective\"] = \"binary:logistic\"\n",
    "params['eval_metric'] = ['logloss', 'error']\n",
    "# params[\"eta\"] = 0.02\n",
    "# params[\"subsample\"] = 0.7\n",
    "# params[\"min_child_weight\"] = 1\n",
    "# params[\"colsample_bytree\"] = 0.7\n",
    "params[\"max_depth\"] = 4\n",
    "params[\"seed\"] = 1632\n",
    "\n",
    "d_train = xgb.DMatrix(X_train, label=y_train)\n",
    "d_valid = xgb.DMatrix(X_valid, label=y_valid)\n",
    "watchlist = [(d_train, 'train'), (d_valid, 'valid')]\n",
    "bst = xgb.train(params, d_train, 500, watchlist, early_stopping_rounds=50, verbose_eval=100)"
   ]
  },
  {
   "cell_type": "code",
   "execution_count": 35,
   "metadata": {
    "collapsed": false
   },
   "outputs": [
    {
     "data": {
      "text/html": [
       "<div>\n",
       "<table border=\"1\" class=\"dataframe\">\n",
       "  <thead>\n",
       "    <tr style=\"text-align: right;\">\n",
       "      <th></th>\n",
       "      <th>test-error-mean</th>\n",
       "      <th>test-error-std</th>\n",
       "      <th>train-error-mean</th>\n",
       "      <th>train-error-std</th>\n",
       "    </tr>\n",
       "  </thead>\n",
       "  <tbody>\n",
       "    <tr>\n",
       "      <th>0</th>\n",
       "      <td>0.119833</td>\n",
       "      <td>0.013853</td>\n",
       "      <td>0.110611</td>\n",
       "      <td>0.001691</td>\n",
       "    </tr>\n",
       "    <tr>\n",
       "      <th>1</th>\n",
       "      <td>0.118166</td>\n",
       "      <td>0.011266</td>\n",
       "      <td>0.107315</td>\n",
       "      <td>0.002130</td>\n",
       "    </tr>\n",
       "    <tr>\n",
       "      <th>2</th>\n",
       "      <td>0.118000</td>\n",
       "      <td>0.015524</td>\n",
       "      <td>0.106704</td>\n",
       "      <td>0.001879</td>\n",
       "    </tr>\n",
       "    <tr>\n",
       "      <th>3</th>\n",
       "      <td>0.118500</td>\n",
       "      <td>0.013773</td>\n",
       "      <td>0.105463</td>\n",
       "      <td>0.001587</td>\n",
       "    </tr>\n",
       "    <tr>\n",
       "      <th>4</th>\n",
       "      <td>0.117833</td>\n",
       "      <td>0.015830</td>\n",
       "      <td>0.104704</td>\n",
       "      <td>0.001600</td>\n",
       "    </tr>\n",
       "  </tbody>\n",
       "</table>\n",
       "</div>"
      ],
      "text/plain": [
       "   test-error-mean  test-error-std  train-error-mean  train-error-std\n",
       "0         0.119833        0.013853          0.110611         0.001691\n",
       "1         0.118166        0.011266          0.107315         0.002130\n",
       "2         0.118000        0.015524          0.106704         0.001879\n",
       "3         0.118500        0.013773          0.105463         0.001587\n",
       "4         0.117833        0.015830          0.104704         0.001600"
      ]
     },
     "execution_count": 35,
     "metadata": {},
     "output_type": "execute_result"
    }
   ],
   "source": [
    "d_all = xgb.DMatrix(X, label=y)\n",
    "\n",
    "xgb.cv(params, d_all, 500, nfold=10, metrics=['error'], shuffle=False, early_stopping_rounds=50, seed=42)"
   ]
  },
  {
   "cell_type": "code",
   "execution_count": 36,
   "metadata": {
    "collapsed": false
   },
   "outputs": [],
   "source": [
    "np.save('../output/celeba-full-simple-cnn.aligned.margin42.flipped.s20.model.h5.x.npy', X)"
   ]
  },
  {
   "cell_type": "code",
   "execution_count": 37,
   "metadata": {
    "collapsed": false
   },
   "outputs": [
    {
     "data": {
      "text/plain": [
       "3000.0"
      ]
     },
     "execution_count": 37,
     "metadata": {},
     "output_type": "execute_result"
    }
   ],
   "source": [
    "np.sum(y)"
   ]
  },
  {
   "cell_type": "code",
   "execution_count": 38,
   "metadata": {
    "collapsed": false
   },
   "outputs": [
    {
     "data": {
      "text/plain": [
       "(6000,)"
      ]
     },
     "execution_count": 38,
     "metadata": {},
     "output_type": "execute_result"
    }
   ],
   "source": [
    "y.shape"
   ]
  },
  {
   "cell_type": "code",
   "execution_count": 39,
   "metadata": {
    "collapsed": false
   },
   "outputs": [
    {
     "data": {
      "image/png": "[encoded data removed]",
      "text/plain": [
       "<matplotlib.figure.Figure at 0x7fe053075ba8>"
      ]
     },
     "metadata": {},
     "output_type": "display_data"
    }
   ],
   "source": [
    "import matplotlib.pyplot as plt\n",
    "import seaborn as sns\n",
    "%matplotlib inline\n",
    "\n",
    "plt.rcParams['figure.figsize'] = (7.0, 7.0)\n",
    "xgb.plot_importance(bst); plt.show()"
   ]
  },
  {
   "cell_type": "code",
   "execution_count": null,
   "metadata": {
    "collapsed": true
   },
   "outputs": [],
   "source": []
  },
  {
   "cell_type": "code",
   "execution_count": null,
   "metadata": {
    "collapsed": true
   },
   "outputs": [],
   "source": []
  }
 ],
 "metadata": {
  "kernelspec": {
   "display_name": "Python 3",
   "language": "python",
   "name": "python3"
  },
  "language_info": {
   "codemirror_mode": {
    "name": "ipython",
    "version": 3
   },
   "file_extension": ".py",
   "mimetype": "text/x-python",
   "name": "python",
   "nbconvert_exporter": "python",
   "pygments_lexer": "ipython3",
   "version": "3.6.0"
  }
 },
 "nbformat": 4,
 "nbformat_minor": 2
}
