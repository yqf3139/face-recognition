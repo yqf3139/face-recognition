{
 "cells": [
  {
   "cell_type": "code",
   "execution_count": 1,
   "metadata": {
    "collapsed": false
   },
   "outputs": [
    {
     "name": "stderr",
     "output_type": "stream",
     "text": [
      "Using TensorFlow backend.\n"
     ]
    }
   ],
   "source": [
    "import pandas as pd\n",
    "import numpy as np\n",
    "import keras\n",
    "from keras.utils.data_utils import get_file\n",
    "from keras.preprocessing.image import array_to_img, img_to_array, load_img\n",
    "from os.path import join\n",
    "import multiprocessing\n",
    "from sklearn.preprocessing import LabelEncoder\n",
    "from sklearn.model_selection import train_test_split\n",
    "from scipy.stats import skew, kurtosis, tvar, entropy, pearsonr\n",
    "import keras.backend.tensorflow_backend as K\n",
    "\n",
    "%matplotlib inline"
   ]
  },
  {
   "cell_type": "code",
   "execution_count": 2,
   "metadata": {
    "collapsed": true
   },
   "outputs": [],
   "source": [
    "# DATA_HOME = '../lfw-aligned-cropped/'\n",
    "\n",
    "DATA_HOME = '../lfw-aligned-with-32-margin-resized/'"
   ]
  },
  {
   "cell_type": "code",
   "execution_count": 3,
   "metadata": {
    "collapsed": true
   },
   "outputs": [],
   "source": [
    "PAIRS_PATH = '../pairs.txt'"
   ]
  },
  {
   "cell_type": "code",
   "execution_count": 4,
   "metadata": {
    "collapsed": false
   },
   "outputs": [],
   "source": [
    "raw_dataset = pd.read_csv(PAIRS_PATH, nrows=None)\n",
    "raw_dataset.columns = ['data']"
   ]
  },
  {
   "cell_type": "code",
   "execution_count": 5,
   "metadata": {
    "collapsed": false
   },
   "outputs": [
    {
     "data": {
      "text/plain": [
       "(6000, 1)"
      ]
     },
     "execution_count": 5,
     "metadata": {},
     "output_type": "execute_result"
    }
   ],
   "source": [
    "raw_dataset.shape"
   ]
  },
  {
   "cell_type": "code",
   "execution_count": 6,
   "metadata": {
    "collapsed": true
   },
   "outputs": [],
   "source": [
    "raw_dataset = raw_dataset"
   ]
  },
  {
   "cell_type": "code",
   "execution_count": 7,
   "metadata": {
    "collapsed": false
   },
   "outputs": [],
   "source": [
    "def split_raw_data(row):\n",
    "    fields = str(row[0]).split('\\t')\n",
    "    is_the_same = 0\n",
    "    path1, path2 = '{}/{}_{:04d}.png', '{}/{}_{:04d}.png'\n",
    "    if len(fields) == 3:\n",
    "        is_the_same = 1\n",
    "        path1 = path1.format(fields[0], fields[0], int(fields[1]))\n",
    "        path2 = path2.format(fields[0], fields[0], int(fields[2]))\n",
    "    elif len(fields) == 4:\n",
    "        path1 = path1.format(fields[0], fields[0], int(fields[1]))\n",
    "        path2 = path2.format(fields[2], fields[2], int(fields[3]))\n",
    "    else:\n",
    "        raise(Exception('invalid fields'))\n",
    "    \n",
    "    return pd.Series([path1, path2, is_the_same], ['path1', 'path2', 'is_the_same']) "
   ]
  },
  {
   "cell_type": "code",
   "execution_count": 8,
   "metadata": {
    "collapsed": false
   },
   "outputs": [],
   "source": [
    "dataset = raw_dataset.apply(split_raw_data, axis=1)"
   ]
  },
  {
   "cell_type": "code",
   "execution_count": 9,
   "metadata": {
    "collapsed": false
   },
   "outputs": [
    {
     "data": {
      "text/html": [
       "<div>\n",
       "<table border=\"1\" class=\"dataframe\">\n",
       "  <thead>\n",
       "    <tr style=\"text-align: right;\">\n",
       "      <th></th>\n",
       "      <th>path1</th>\n",
       "      <th>path2</th>\n",
       "      <th>is_the_same</th>\n",
       "    </tr>\n",
       "  </thead>\n",
       "  <tbody>\n",
       "    <tr>\n",
       "      <th>0</th>\n",
       "      <td>Abel_Pacheco/Abel_Pacheco_0001.png</td>\n",
       "      <td>Abel_Pacheco/Abel_Pacheco_0004.png</td>\n",
       "      <td>1</td>\n",
       "    </tr>\n",
       "    <tr>\n",
       "      <th>1</th>\n",
       "      <td>Akhmed_Zakayev/Akhmed_Zakayev_0001.png</td>\n",
       "      <td>Akhmed_Zakayev/Akhmed_Zakayev_0003.png</td>\n",
       "      <td>1</td>\n",
       "    </tr>\n",
       "    <tr>\n",
       "      <th>2</th>\n",
       "      <td>Akhmed_Zakayev/Akhmed_Zakayev_0002.png</td>\n",
       "      <td>Akhmed_Zakayev/Akhmed_Zakayev_0003.png</td>\n",
       "      <td>1</td>\n",
       "    </tr>\n",
       "    <tr>\n",
       "      <th>3</th>\n",
       "      <td>Amber_Tamblyn/Amber_Tamblyn_0001.png</td>\n",
       "      <td>Amber_Tamblyn/Amber_Tamblyn_0002.png</td>\n",
       "      <td>1</td>\n",
       "    </tr>\n",
       "    <tr>\n",
       "      <th>4</th>\n",
       "      <td>Anders_Fogh_Rasmussen/Anders_Fogh_Rasmussen_00...</td>\n",
       "      <td>Anders_Fogh_Rasmussen/Anders_Fogh_Rasmussen_00...</td>\n",
       "      <td>1</td>\n",
       "    </tr>\n",
       "  </tbody>\n",
       "</table>\n",
       "</div>"
      ],
      "text/plain": [
       "                                               path1  \\\n",
       "0                 Abel_Pacheco/Abel_Pacheco_0001.png   \n",
       "1             Akhmed_Zakayev/Akhmed_Zakayev_0001.png   \n",
       "2             Akhmed_Zakayev/Akhmed_Zakayev_0002.png   \n",
       "3               Amber_Tamblyn/Amber_Tamblyn_0001.png   \n",
       "4  Anders_Fogh_Rasmussen/Anders_Fogh_Rasmussen_00...   \n",
       "\n",
       "                                               path2  is_the_same  \n",
       "0                 Abel_Pacheco/Abel_Pacheco_0004.png            1  \n",
       "1             Akhmed_Zakayev/Akhmed_Zakayev_0003.png            1  \n",
       "2             Akhmed_Zakayev/Akhmed_Zakayev_0003.png            1  \n",
       "3               Amber_Tamblyn/Amber_Tamblyn_0002.png            1  \n",
       "4  Anders_Fogh_Rasmussen/Anders_Fogh_Rasmussen_00...            1  "
      ]
     },
     "execution_count": 9,
     "metadata": {},
     "output_type": "execute_result"
    }
   ],
   "source": [
    "dataset.head()"
   ]
  },
  {
   "cell_type": "code",
   "execution_count": 10,
   "metadata": {
    "collapsed": false
   },
   "outputs": [
    {
     "data": {
      "text/plain": [
       "(6000, 3)"
      ]
     },
     "execution_count": 10,
     "metadata": {},
     "output_type": "execute_result"
    }
   ],
   "source": [
    "dataset.shape"
   ]
  },
  {
   "cell_type": "code",
   "execution_count": 11,
   "metadata": {
    "collapsed": true
   },
   "outputs": [],
   "source": [
    "def path2ImgVec(path):\n",
    "    x = img_to_array(load_img(join(DATA_HOME, path)))\n",
    "    return x.reshape((1,) + x.shape)"
   ]
  },
  {
   "cell_type": "code",
   "execution_count": 12,
   "metadata": {
    "collapsed": false
   },
   "outputs": [
    {
     "data": {
      "text/plain": [
       "7701"
      ]
     },
     "execution_count": 12,
     "metadata": {},
     "output_type": "execute_result"
    }
   ],
   "source": [
    "img_paths = list(set(dataset.path1.tolist()+dataset.path2.tolist()))\n",
    "len(img_paths)"
   ]
  },
  {
   "cell_type": "code",
   "execution_count": 13,
   "metadata": {
    "collapsed": false
   },
   "outputs": [],
   "source": [
    "pool = multiprocessing.Pool(8)\n",
    "results = pool.map(path2ImgVec, img_paths)\n",
    "pool.close()\n",
    "pool.join()"
   ]
  },
  {
   "cell_type": "code",
   "execution_count": 14,
   "metadata": {
    "collapsed": false
   },
   "outputs": [
    {
     "data": {
      "text/plain": [
       "(7701, 55, 47, 3)"
      ]
     },
     "execution_count": 14,
     "metadata": {},
     "output_type": "execute_result"
    }
   ],
   "source": [
    "img_vecs = np.vstack(results)\n",
    "img_vecs.shape"
   ]
  },
  {
   "cell_type": "code",
   "execution_count": 15,
   "metadata": {
    "collapsed": false
   },
   "outputs": [
    {
     "data": {
      "text/plain": [
       "(7701, 55, 47, 3)"
      ]
     },
     "execution_count": 15,
     "metadata": {},
     "output_type": "execute_result"
    }
   ],
   "source": [
    "input_shape = img_vecs.shape[1:]\n",
    "img_vecs.shape"
   ]
  },
  {
   "cell_type": "code",
   "execution_count": 16,
   "metadata": {
    "collapsed": false
   },
   "outputs": [],
   "source": [
    "from keras.models import load_model\n",
    "\n",
    "# model = load_model('../models/facescrub-faceonly-simple-cnn.model.h5')\n",
    "# model = load_model('../models/webface-simple-cnn.3348.model.h5')\n",
    "model = load_model('../models/faceonly-simple-cnn.aligned.margin32.model.h5')"
   ]
  },
  {
   "cell_type": "code",
   "execution_count": 17,
   "metadata": {
    "collapsed": true
   },
   "outputs": [],
   "source": [
    "from keras import backend as K\n",
    "inp = model.input\n",
    "# outputs = [layer.output for layer in model.layers]\n",
    "outputs = [model.layers[-2].output]\n",
    "functor = K.function([inp] + [K.learning_phase()], outputs)"
   ]
  },
  {
   "cell_type": "code",
   "execution_count": 18,
   "metadata": {
    "collapsed": false
   },
   "outputs": [],
   "source": [
    "deepids = functor([img_vecs, 1.])[0]"
   ]
  },
  {
   "cell_type": "code",
   "execution_count": 19,
   "metadata": {
    "collapsed": false
   },
   "outputs": [
    {
     "data": {
      "text/plain": [
       "(7701, 160)"
      ]
     },
     "execution_count": 19,
     "metadata": {},
     "output_type": "execute_result"
    }
   ],
   "source": [
    "deepids.shape"
   ]
  },
  {
   "cell_type": "code",
   "execution_count": 20,
   "metadata": {
    "collapsed": true
   },
   "outputs": [],
   "source": [
    "img_deepid_mem = {k:v for k, v in zip(img_paths, deepids)}"
   ]
  },
  {
   "cell_type": "code",
   "execution_count": 37,
   "metadata": {
    "collapsed": true
   },
   "outputs": [],
   "source": [
    "from scipy.spatial.distance import cosine, cityblock, jaccard, canberra, euclidean, minkowski, braycurtis\n",
    "\n",
    "COL_NAMES = [\n",
    "    \"z_cosine\",\n",
    "#     'z_cityblock',\n",
    "#     'z_jaccard',\n",
    "#     \"z_canberra\",\n",
    "#     \"z_euclidean\",\n",
    "#     \"z_minkowski\",\n",
    "#     \"z_braycurtis\",\n",
    "    'z_skew1',\n",
    "    'z_skew2',\n",
    "    'z_kurtosis1',\n",
    "    'z_kurtosis2',\n",
    "    'z_tvar1',\n",
    "    'z_tvar2',\n",
    "] + ['is_the_same']\n",
    "\n",
    "def to_deepid_features(row):\n",
    "    vec1 = img_deepid_mem[row['path1']]\n",
    "    vec2 = img_deepid_mem[row['path2']]\n",
    "\n",
    "    feats = [\n",
    "        cosine(vec1, vec2),\n",
    "#         cityblock(vec1, vec2),\n",
    "#         jaccard(vec1, vec2),\n",
    "#         canberra(vec1, vec2),\n",
    "#         euclidean(vec1, vec2),\n",
    "#         minkowski(vec1, vec2, 3),\n",
    "#         braycurtis(vec1, vec2),\n",
    "        skew(vec1),\n",
    "        skew(vec2),\n",
    "        kurtosis(vec1),\n",
    "        kurtosis(vec2),\n",
    "        tvar(vec1),\n",
    "        tvar(vec2),\n",
    "    ]\n",
    "    \n",
    "    return pd.Series(feats + [row['is_the_same']], COL_NAMES) "
   ]
  },
  {
   "cell_type": "code",
   "execution_count": 38,
   "metadata": {
    "collapsed": false
   },
   "outputs": [],
   "source": [
    "feat_dataset = dataset.apply(to_deepid_features, axis=1)"
   ]
  },
  {
   "cell_type": "code",
   "execution_count": 39,
   "metadata": {
    "collapsed": false
   },
   "outputs": [
    {
     "data": {
      "text/html": [
       "<div>\n",
       "<table border=\"1\" class=\"dataframe\">\n",
       "  <thead>\n",
       "    <tr style=\"text-align: right;\">\n",
       "      <th></th>\n",
       "      <th>z_cosine</th>\n",
       "      <th>z_skew1</th>\n",
       "      <th>z_skew2</th>\n",
       "      <th>z_kurtosis1</th>\n",
       "      <th>z_kurtosis2</th>\n",
       "      <th>z_tvar1</th>\n",
       "      <th>z_tvar2</th>\n",
       "      <th>is_the_same</th>\n",
       "    </tr>\n",
       "  </thead>\n",
       "  <tbody>\n",
       "    <tr>\n",
       "      <th>0</th>\n",
       "      <td>0.547323</td>\n",
       "      <td>0.754202</td>\n",
       "      <td>1.131980</td>\n",
       "      <td>-0.589935</td>\n",
       "      <td>1.146834</td>\n",
       "      <td>1.583346</td>\n",
       "      <td>1.668785</td>\n",
       "      <td>1.0</td>\n",
       "    </tr>\n",
       "    <tr>\n",
       "      <th>1</th>\n",
       "      <td>0.252855</td>\n",
       "      <td>1.145159</td>\n",
       "      <td>1.103116</td>\n",
       "      <td>0.422250</td>\n",
       "      <td>0.285577</td>\n",
       "      <td>2.166655</td>\n",
       "      <td>2.115369</td>\n",
       "      <td>1.0</td>\n",
       "    </tr>\n",
       "    <tr>\n",
       "      <th>2</th>\n",
       "      <td>0.415697</td>\n",
       "      <td>1.494683</td>\n",
       "      <td>1.103116</td>\n",
       "      <td>2.554140</td>\n",
       "      <td>0.285577</td>\n",
       "      <td>2.180767</td>\n",
       "      <td>2.115369</td>\n",
       "      <td>1.0</td>\n",
       "    </tr>\n",
       "    <tr>\n",
       "      <th>3</th>\n",
       "      <td>0.292701</td>\n",
       "      <td>0.917856</td>\n",
       "      <td>1.419371</td>\n",
       "      <td>-0.118368</td>\n",
       "      <td>1.680075</td>\n",
       "      <td>2.080220</td>\n",
       "      <td>2.460030</td>\n",
       "      <td>1.0</td>\n",
       "    </tr>\n",
       "    <tr>\n",
       "      <th>4</th>\n",
       "      <td>0.319820</td>\n",
       "      <td>1.092137</td>\n",
       "      <td>1.201916</td>\n",
       "      <td>0.401829</td>\n",
       "      <td>0.609903</td>\n",
       "      <td>1.585915</td>\n",
       "      <td>2.274228</td>\n",
       "      <td>1.0</td>\n",
       "    </tr>\n",
       "  </tbody>\n",
       "</table>\n",
       "</div>"
      ],
      "text/plain": [
       "   z_cosine   z_skew1   z_skew2  z_kurtosis1  z_kurtosis2   z_tvar1   z_tvar2  \\\n",
       "0  0.547323  0.754202  1.131980    -0.589935     1.146834  1.583346  1.668785   \n",
       "1  0.252855  1.145159  1.103116     0.422250     0.285577  2.166655  2.115369   \n",
       "2  0.415697  1.494683  1.103116     2.554140     0.285577  2.180767  2.115369   \n",
       "3  0.292701  0.917856  1.419371    -0.118368     1.680075  2.080220  2.460030   \n",
       "4  0.319820  1.092137  1.201916     0.401829     0.609903  1.585915  2.274228   \n",
       "\n",
       "   is_the_same  \n",
       "0          1.0  \n",
       "1          1.0  \n",
       "2          1.0  \n",
       "3          1.0  \n",
       "4          1.0  "
      ]
     },
     "execution_count": 39,
     "metadata": {},
     "output_type": "execute_result"
    }
   ],
   "source": [
    "feat_dataset.head()"
   ]
  },
  {
   "cell_type": "code",
   "execution_count": 40,
   "metadata": {
    "collapsed": false
   },
   "outputs": [],
   "source": [
    "col = [c for c in feat_dataset.columns if c[0]=='z']\n",
    "\n",
    "X = feat_dataset[col].as_matrix()\n",
    "y = feat_dataset['is_the_same'].as_matrix()"
   ]
  },
  {
   "cell_type": "code",
   "execution_count": 41,
   "metadata": {
    "collapsed": false
   },
   "outputs": [
    {
     "data": {
      "text/plain": [
       "array([ 0.54732274,  0.75420225,  1.13198042, -0.5899353 ,  1.14683375,\n",
       "        1.58334554,  1.66878534])"
      ]
     },
     "execution_count": 41,
     "metadata": {},
     "output_type": "execute_result"
    }
   ],
   "source": [
    "X[0]"
   ]
  },
  {
   "cell_type": "code",
   "execution_count": 42,
   "metadata": {
    "collapsed": true
   },
   "outputs": [],
   "source": [
    "X_train, X_valid, y_train, y_valid = train_test_split(X, y, test_size=0.1, random_state=42)"
   ]
  },
  {
   "cell_type": "code",
   "execution_count": 43,
   "metadata": {
    "collapsed": false
   },
   "outputs": [
    {
     "name": "stdout",
     "output_type": "stream",
     "text": [
      "[0]\ttrain-logloss:0.552276\ttrain-error:0.159815\tvalid-logloss:0.559196\tvalid-error:0.175\n",
      "Multiple eval metrics have been passed: 'valid-error' will be used for early stopping.\n",
      "\n",
      "Will train until valid-error hasn't improved in 50 rounds.\n",
      "Stopping. Best iteration:\n",
      "[12]\ttrain-logloss:0.330845\ttrain-error:0.145\tvalid-logloss:0.37787\tvalid-error:0.161667\n",
      "\n"
     ]
    }
   ],
   "source": [
    "import xgboost as xgb\n",
    "params = {}\n",
    "params[\"objective\"] = \"binary:logistic\"\n",
    "params['eval_metric'] = ['logloss', 'error']\n",
    "# params[\"eta\"] = 0.02\n",
    "# params[\"subsample\"] = 0.7\n",
    "# params[\"min_child_weight\"] = 1\n",
    "# params[\"colsample_bytree\"] = 0.7\n",
    "params[\"max_depth\"] = 4\n",
    "# params[\"silent\"] = 1\n",
    "params[\"seed\"] = 1632\n",
    "\n",
    "d_train = xgb.DMatrix(X_train, label=y_train)\n",
    "d_valid = xgb.DMatrix(X_valid, label=y_valid)\n",
    "watchlist = [(d_train, 'train'), (d_valid, 'valid')]\n",
    "bst = xgb.train(params, d_train, 500, watchlist, early_stopping_rounds=50, verbose_eval=100)"
   ]
  },
  {
   "cell_type": "code",
   "execution_count": 44,
   "metadata": {
    "collapsed": false
   },
   "outputs": [
    {
     "data": {
      "text/html": [
       "<div>\n",
       "<table border=\"1\" class=\"dataframe\">\n",
       "  <thead>\n",
       "    <tr style=\"text-align: right;\">\n",
       "      <th></th>\n",
       "      <th>test-error-mean</th>\n",
       "      <th>test-error-std</th>\n",
       "      <th>train-error-mean</th>\n",
       "      <th>train-error-std</th>\n",
       "    </tr>\n",
       "  </thead>\n",
       "  <tbody>\n",
       "    <tr>\n",
       "      <th>0</th>\n",
       "      <td>0.172667</td>\n",
       "      <td>0.010572</td>\n",
       "      <td>0.157852</td>\n",
       "      <td>0.002788</td>\n",
       "    </tr>\n",
       "    <tr>\n",
       "      <th>1</th>\n",
       "      <td>0.168833</td>\n",
       "      <td>0.009459</td>\n",
       "      <td>0.154870</td>\n",
       "      <td>0.002208</td>\n",
       "    </tr>\n",
       "    <tr>\n",
       "      <th>2</th>\n",
       "      <td>0.166000</td>\n",
       "      <td>0.015388</td>\n",
       "      <td>0.153907</td>\n",
       "      <td>0.002427</td>\n",
       "    </tr>\n",
       "    <tr>\n",
       "      <th>3</th>\n",
       "      <td>0.164667</td>\n",
       "      <td>0.014602</td>\n",
       "      <td>0.153074</td>\n",
       "      <td>0.002564</td>\n",
       "    </tr>\n",
       "    <tr>\n",
       "      <th>4</th>\n",
       "      <td>0.165167</td>\n",
       "      <td>0.015211</td>\n",
       "      <td>0.152944</td>\n",
       "      <td>0.002069</td>\n",
       "    </tr>\n",
       "    <tr>\n",
       "      <th>5</th>\n",
       "      <td>0.165833</td>\n",
       "      <td>0.014127</td>\n",
       "      <td>0.150630</td>\n",
       "      <td>0.002743</td>\n",
       "    </tr>\n",
       "    <tr>\n",
       "      <th>6</th>\n",
       "      <td>0.165500</td>\n",
       "      <td>0.013520</td>\n",
       "      <td>0.149556</td>\n",
       "      <td>0.002319</td>\n",
       "    </tr>\n",
       "    <tr>\n",
       "      <th>7</th>\n",
       "      <td>0.164833</td>\n",
       "      <td>0.013196</td>\n",
       "      <td>0.149556</td>\n",
       "      <td>0.001430</td>\n",
       "    </tr>\n",
       "    <tr>\n",
       "      <th>8</th>\n",
       "      <td>0.164000</td>\n",
       "      <td>0.012342</td>\n",
       "      <td>0.148963</td>\n",
       "      <td>0.001782</td>\n",
       "    </tr>\n",
       "    <tr>\n",
       "      <th>9</th>\n",
       "      <td>0.162666</td>\n",
       "      <td>0.012828</td>\n",
       "      <td>0.147982</td>\n",
       "      <td>0.001512</td>\n",
       "    </tr>\n",
       "    <tr>\n",
       "      <th>10</th>\n",
       "      <td>0.161833</td>\n",
       "      <td>0.013426</td>\n",
       "      <td>0.147000</td>\n",
       "      <td>0.001597</td>\n",
       "    </tr>\n",
       "    <tr>\n",
       "      <th>11</th>\n",
       "      <td>0.162000</td>\n",
       "      <td>0.013739</td>\n",
       "      <td>0.146500</td>\n",
       "      <td>0.001716</td>\n",
       "    </tr>\n",
       "    <tr>\n",
       "      <th>12</th>\n",
       "      <td>0.161167</td>\n",
       "      <td>0.013479</td>\n",
       "      <td>0.146018</td>\n",
       "      <td>0.002078</td>\n",
       "    </tr>\n",
       "    <tr>\n",
       "      <th>13</th>\n",
       "      <td>0.160833</td>\n",
       "      <td>0.012343</td>\n",
       "      <td>0.145148</td>\n",
       "      <td>0.002132</td>\n",
       "    </tr>\n",
       "    <tr>\n",
       "      <th>14</th>\n",
       "      <td>0.162000</td>\n",
       "      <td>0.012445</td>\n",
       "      <td>0.144167</td>\n",
       "      <td>0.002104</td>\n",
       "    </tr>\n",
       "    <tr>\n",
       "      <th>15</th>\n",
       "      <td>0.160500</td>\n",
       "      <td>0.011715</td>\n",
       "      <td>0.142685</td>\n",
       "      <td>0.001946</td>\n",
       "    </tr>\n",
       "  </tbody>\n",
       "</table>\n",
       "</div>"
      ],
      "text/plain": [
       "    test-error-mean  test-error-std  train-error-mean  train-error-std\n",
       "0          0.172667        0.010572          0.157852         0.002788\n",
       "1          0.168833        0.009459          0.154870         0.002208\n",
       "2          0.166000        0.015388          0.153907         0.002427\n",
       "3          0.164667        0.014602          0.153074         0.002564\n",
       "4          0.165167        0.015211          0.152944         0.002069\n",
       "5          0.165833        0.014127          0.150630         0.002743\n",
       "6          0.165500        0.013520          0.149556         0.002319\n",
       "7          0.164833        0.013196          0.149556         0.001430\n",
       "8          0.164000        0.012342          0.148963         0.001782\n",
       "9          0.162666        0.012828          0.147982         0.001512\n",
       "10         0.161833        0.013426          0.147000         0.001597\n",
       "11         0.162000        0.013739          0.146500         0.001716\n",
       "12         0.161167        0.013479          0.146018         0.002078\n",
       "13         0.160833        0.012343          0.145148         0.002132\n",
       "14         0.162000        0.012445          0.144167         0.002104\n",
       "15         0.160500        0.011715          0.142685         0.001946"
      ]
     },
     "execution_count": 44,
     "metadata": {},
     "output_type": "execute_result"
    }
   ],
   "source": [
    "d_all = xgb.DMatrix(X, label=y)\n",
    "\n",
    "xgb.cv(params, d_all, 500, nfold=10, metrics=['error'], shuffle=False, early_stopping_rounds=20, seed=42)"
   ]
  },
  {
   "cell_type": "code",
   "execution_count": null,
   "metadata": {
    "collapsed": true
   },
   "outputs": [],
   "source": []
  }
 ],
 "metadata": {
  "kernelspec": {
   "display_name": "Python 3",
   "language": "python",
   "name": "python3"
  },
  "language_info": {
   "codemirror_mode": {
    "name": "ipython",
    "version": 3
   },
   "file_extension": ".py",
   "mimetype": "text/x-python",
   "name": "python",
   "nbconvert_exporter": "python",
   "pygments_lexer": "ipython3",
   "version": "3.6.0"
  }
 },
 "nbformat": 4,
 "nbformat_minor": 2
}
