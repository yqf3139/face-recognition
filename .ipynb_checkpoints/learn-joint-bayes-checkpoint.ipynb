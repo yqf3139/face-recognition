{
 "cells": [
  {
   "cell_type": "code",
   "execution_count": 1,
   "metadata": {
    "collapsed": false
   },
   "outputs": [],
   "source": [
    "import pandas as pd\n",
    "import numpy as np\n",
    "from os.path import join\n",
    "from sklearn.preprocessing import LabelEncoder\n",
    "from sklearn.model_selection import train_test_split\n",
    "\n",
    "%matplotlib inline"
   ]
  },
  {
   "cell_type": "code",
   "execution_count": 2,
   "metadata": {
    "collapsed": false
   },
   "outputs": [],
   "source": [
    "DATA_HOME = '../webface-full-aligned-with-32-margin-resized/'"
   ]
  },
  {
   "cell_type": "code",
   "execution_count": 3,
   "metadata": {
    "collapsed": true
   },
   "outputs": [],
   "source": [
    "dataset = pd.read_csv('webface-full.B.aligned.train.csv', nrows=None)"
   ]
  },
  {
   "cell_type": "code",
   "execution_count": 4,
   "metadata": {
    "collapsed": true
   },
   "outputs": [],
   "source": [
    "encoder = LabelEncoder()\n",
    "encoder.fit(dataset['person'])\n",
    "dataset['person_id'] = encoder.transform(dataset['person'])"
   ]
  },
  {
   "cell_type": "code",
   "execution_count": 5,
   "metadata": {
    "collapsed": false
   },
   "outputs": [
    {
     "data": {
      "text/plain": [
       "44.22432262129804"
      ]
     },
     "execution_count": 5,
     "metadata": {},
     "output_type": "execute_result"
    }
   ],
   "source": [
    "np.mean(dataset.groupby('person_id')['person'].count())"
   ]
  },
  {
   "cell_type": "code",
   "execution_count": 6,
   "metadata": {
    "collapsed": true
   },
   "outputs": [],
   "source": [
    "# if the count > 30, will random pick 30 + (count-30)*0.2 imgs for the person\n",
    "import random\n",
    "random.seed(42)\n",
    "\n",
    "FACE_NUM = 45\n",
    "\n",
    "def crit(idx):\n",
    "    row = dataset.ix[idx]\n",
    "    count = row['count']\n",
    "    if count < FACE_NUM: return True\n",
    "    ratio = (FACE_NUM+(count-FACE_NUM)*0.4) / count\n",
    "    return random.random() < ratio\n",
    "\n",
    "def crit2(idx):\n",
    "    row = dataset.ix[idx]\n",
    "    count = row['count']\n",
    "    if count < 6: return True\n",
    "    return False\n",
    "    \n",
    "# dataset = dataset.select(crit)\n",
    "dataset = pd.concat([dataset, dataset.select(crit2)], axis=0).reset_index()"
   ]
  },
  {
   "cell_type": "code",
   "execution_count": 7,
   "metadata": {
    "collapsed": false
   },
   "outputs": [
    {
     "data": {
      "text/plain": [
       "44.227473219911786"
      ]
     },
     "execution_count": 7,
     "metadata": {},
     "output_type": "execute_result"
    }
   ],
   "source": [
    "np.mean(dataset.groupby('person_id')['person'].count())"
   ]
  },
  {
   "cell_type": "code",
   "execution_count": 8,
   "metadata": {
    "collapsed": true
   },
   "outputs": [],
   "source": [
    "y = dataset['person_id'].as_matrix()"
   ]
  },
  {
   "cell_type": "code",
   "execution_count": 9,
   "metadata": {
    "collapsed": false
   },
   "outputs": [
    {
     "data": {
      "text/plain": [
       "(70189,)"
      ]
     },
     "execution_count": 9,
     "metadata": {},
     "output_type": "execute_result"
    }
   ],
   "source": [
    "# y = np.concatenate([y,y])\n",
    "y.shape"
   ]
  },
  {
   "cell_type": "code",
   "execution_count": 10,
   "metadata": {
    "collapsed": false
   },
   "outputs": [
    {
     "data": {
      "text/plain": [
       "array([   0,    1,    2, ..., 1584, 1585, 1586])"
      ]
     },
     "execution_count": 10,
     "metadata": {},
     "output_type": "execute_result"
    }
   ],
   "source": [
    "np.unique(y)"
   ]
  },
  {
   "cell_type": "code",
   "execution_count": 11,
   "metadata": {
    "collapsed": false
   },
   "outputs": [
    {
     "name": "stdout",
     "output_type": "stream",
     "text": [
      "70189\n"
     ]
    }
   ],
   "source": [
    "img_paths = [r.path for r in dataset.itertuples()]\n",
    "print(len(img_paths))"
   ]
  },
  {
   "cell_type": "code",
   "execution_count": 12,
   "metadata": {
    "collapsed": false
   },
   "outputs": [
    {
     "data": {
      "text/plain": [
       "'3331486/007.png'"
      ]
     },
     "execution_count": 12,
     "metadata": {},
     "output_type": "execute_result"
    }
   ],
   "source": [
    "img_paths[0]"
   ]
  },
  {
   "cell_type": "code",
   "execution_count": 13,
   "metadata": {
    "collapsed": true
   },
   "outputs": [],
   "source": [
    "from PIL import Image\n",
    "\n",
    "def path2ImgVec(path):\n",
    "    x = img_to_array(load_img(join(DATA_HOME, path)))\n",
    "#     x = img_to_array(load_img(join(DATA_HOME, path)).convert('L'))\n",
    "    return x.reshape((1,) + x.shape)\n",
    "\n",
    "def path2ImgVecFlipped(path):\n",
    "    img = load_img(join(DATA_HOME, path)).convert('L')\n",
    "    img = img.transpose(Image.FLIP_LEFT_RIGHT)\n",
    "    x = img_to_array(img)\n",
    "    return x.reshape((1,) + x.shape)"
   ]
  },
  {
   "cell_type": "code",
   "execution_count": 14,
   "metadata": {
    "collapsed": false
   },
   "outputs": [
    {
     "name": "stderr",
     "output_type": "stream",
     "text": [
      "Using TensorFlow backend.\n"
     ]
    },
    {
     "data": {
      "image/png": "[encoded data removed]",
      "text/plain": [
       "<PIL.Image.Image image mode=L size=47x55 at 0x7FA3ACCCAA90>"
      ]
     },
     "execution_count": 14,
     "metadata": {},
     "output_type": "execute_result"
    }
   ],
   "source": [
    "from keras.preprocessing.image import array_to_img, img_to_array, load_img\n",
    "\n",
    "load_img(join(DATA_HOME, img_paths[0])).convert('L')"
   ]
  },
  {
   "cell_type": "code",
   "execution_count": 15,
   "metadata": {
    "collapsed": false
   },
   "outputs": [],
   "source": [
    "import multiprocessing\n",
    "\n",
    "pool = multiprocessing.Pool(8)\n",
    "results1 = pool.map(path2ImgVec, img_paths)\n",
    "pool.close()\n",
    "pool.join()\n",
    "del pool"
   ]
  },
  {
   "cell_type": "code",
   "execution_count": 16,
   "metadata": {
    "collapsed": false
   },
   "outputs": [
    {
     "data": {
      "text/plain": [
       "(70189, 55, 47, 3)"
      ]
     },
     "execution_count": 16,
     "metadata": {},
     "output_type": "execute_result"
    }
   ],
   "source": [
    "X = np.vstack(results1)\n",
    "X.shape"
   ]
  },
  {
   "cell_type": "code",
   "execution_count": 17,
   "metadata": {
    "collapsed": true
   },
   "outputs": [],
   "source": [
    "for i in range(len(results1)): \n",
    "    results1[i] = None\n",
    "del results1"
   ]
  },
  {
   "cell_type": "code",
   "execution_count": 18,
   "metadata": {
    "collapsed": false
   },
   "outputs": [
    {
     "data": {
      "text/plain": [
       "100"
      ]
     },
     "execution_count": 18,
     "metadata": {},
     "output_type": "execute_result"
    }
   ],
   "source": [
    "import gc\n",
    "gc.collect()"
   ]
  },
  {
   "cell_type": "code",
   "execution_count": 19,
   "metadata": {
    "collapsed": true
   },
   "outputs": [],
   "source": [
    "BATCH_N = 5000"
   ]
  },
  {
   "cell_type": "code",
   "execution_count": 20,
   "metadata": {
    "collapsed": false
   },
   "outputs": [
    {
     "data": {
      "text/plain": [
       "(100, 55, 47, 3)"
      ]
     },
     "execution_count": 20,
     "metadata": {},
     "output_type": "execute_result"
    }
   ],
   "source": [
    "X[:100].shape"
   ]
  },
  {
   "cell_type": "code",
   "execution_count": 21,
   "metadata": {
    "collapsed": false
   },
   "outputs": [],
   "source": [
    "batchs = []"
   ]
  },
  {
   "cell_type": "code",
   "execution_count": 22,
   "metadata": {
    "collapsed": false
   },
   "outputs": [],
   "source": [
    "for i in range(0, len(X), BATCH_N):\n",
    "    batchs.append(X[i:i+BATCH_N])"
   ]
  },
  {
   "cell_type": "code",
   "execution_count": 23,
   "metadata": {
    "collapsed": false
   },
   "outputs": [
    {
     "data": {
      "text/plain": [
       "70189"
      ]
     },
     "execution_count": 23,
     "metadata": {},
     "output_type": "execute_result"
    }
   ],
   "source": [
    "sum([len(b) for b in batchs])"
   ]
  },
  {
   "cell_type": "code",
   "execution_count": 24,
   "metadata": {
    "collapsed": false
   },
   "outputs": [],
   "source": [
    "input_shape = X.shape[1:]"
   ]
  },
  {
   "cell_type": "code",
   "execution_count": 25,
   "metadata": {
    "collapsed": true
   },
   "outputs": [],
   "source": [
    "from keras.models import load_model\n",
    "\n",
    "model = load_model('../models/webface-full-simple-cnn.A.aligned.margin32.s20.model.h5')"
   ]
  },
  {
   "cell_type": "code",
   "execution_count": 26,
   "metadata": {
    "collapsed": true
   },
   "outputs": [],
   "source": [
    "from keras import backend as K\n",
    "inp = model.input\n",
    "\n",
    "outputs = [model.layers[-2].output]\n",
    "functor = K.function([inp] + [K.learning_phase()], outputs)"
   ]
  },
  {
   "cell_type": "code",
   "execution_count": 27,
   "metadata": {
    "collapsed": false
   },
   "outputs": [],
   "source": [
    "deepids = [functor([b, 1.])[0] for b in batchs]"
   ]
  },
  {
   "cell_type": "code",
   "execution_count": 28,
   "metadata": {
    "collapsed": false
   },
   "outputs": [],
   "source": [
    "deepids1 = np.vstack(deepids)"
   ]
  },
  {
   "cell_type": "code",
   "execution_count": 29,
   "metadata": {
    "collapsed": false
   },
   "outputs": [
    {
     "data": {
      "text/plain": [
       "(70189, 160)"
      ]
     },
     "execution_count": 29,
     "metadata": {},
     "output_type": "execute_result"
    }
   ],
   "source": [
    "deepids1.shape"
   ]
  },
  {
   "cell_type": "code",
   "execution_count": 30,
   "metadata": {
    "collapsed": true
   },
   "outputs": [],
   "source": [
    "from jointbayesian import jointbayesian"
   ]
  },
  {
   "cell_type": "code",
   "execution_count": 31,
   "metadata": {
    "collapsed": false
   },
   "outputs": [
    {
     "name": "stdout",
     "output_type": "stream",
     "text": [
      "Iterations 0: 0.00292026449512\n",
      "Iterations 1: 0.00325103472393\n",
      "Iterations 2: 0.00309044240587\n",
      "Iterations 3: 0.00307153454689\n",
      "Iterations 4: 0.00291957751556\n",
      "Iterations 5: 0.00260175800103\n",
      "Iterations 6: 0.00225631406732\n",
      "Iterations 7: 0.00199217308254\n",
      "Iterations 8: 0.00175874885691\n",
      "Iterations 9: 0.00156530805747\n",
      "Iterations 10: 0.00139485255891\n",
      "Iterations 11: 0.00123326827782\n",
      "Iterations 12: 0.00110085846906\n",
      "Iterations 13: 0.000991547344839\n",
      "Iterations 14: 0.000944729127629\n",
      "Iterations 15: 0.000911301300823\n",
      "Iterations 16: 0.000893888983212\n",
      "Iterations 17: 0.000826233195534\n",
      "Iterations 18: 0.000774454906619\n",
      "Iterations 19: 0.000755237624031\n",
      "Iterations 20: 0.000743409677062\n",
      "Iterations 21: 0.000657722957783\n",
      "Iterations 22: 0.000518465208881\n",
      "Iterations 23: 0.000560912875549\n",
      "Iterations 24: 0.00057952952425\n",
      "Iterations 25: 0.00054016196634\n",
      "Iterations 26: 0.000626675879985\n",
      "Iterations 27: 0.000724414814202\n",
      "Iterations 28: 0.000642706930929\n",
      "Iterations 29: 0.000301098465309\n",
      "Iterations 30: 0.000114072629953\n",
      "Iterations 31: 0.000126989884175\n",
      "Iterations 32: 0.000151513408599\n",
      "Iterations 33: 0.000184332169195\n",
      "Iterations 34: 0.000228599268836\n",
      "Iterations 35: 0.000288268197282\n",
      "Iterations 36: 0.000366817853158\n",
      "Iterations 37: 0.000461471747626\n",
      "Iterations 38: 0.000542810879099\n",
      "Iterations 39: 0.000511311311769\n",
      "Iterations 40: 0.000288325582254\n",
      "Iterations 41: 0.000189334691506\n",
      "Iterations 42: 0.000238635207796\n",
      "Iterations 43: 0.00030922456784\n",
      "Iterations 44: 0.000396627154949\n",
      "Iterations 45: 0.000476740669303\n",
      "Iterations 46: 0.000463538399318\n",
      "Iterations 47: 0.000256527223643\n",
      "Iterations 48: 6.03964885081e-05\n",
      "Iterations 49: 4.86269262324e-05\n",
      "Iterations 50: 5.53995271138e-05\n",
      "Iterations 51: 6.38451123873e-05\n",
      "Iterations 52: 7.44802651654e-05\n",
      "Iterations 53: 8.80461224133e-05\n",
      "Iterations 54: 0.000105591214658\n",
      "Iterations 55: 0.000128606312637\n",
      "Iterations 56: 0.000159199105591\n",
      "Iterations 57: 0.000200256390236\n",
      "Iterations 58: 0.000255340363173\n",
      "Iterations 59: 0.000327346747701\n",
      "Iterations 60: 0.000412546242147\n",
      "Iterations 61: 0.000480209229795\n",
      "Iterations 62: 0.000433186520082\n",
      "Iterations 63: 0.00020086110757\n",
      "Iterations 64: 2.48245191317e-05\n",
      "Iterations 65: 2.02565370913e-06\n",
      "Iterations 66: 1.86243602705e-06\n",
      "Iterations 67: 1.77305159587e-06\n",
      "Iterations 68: 1.70775262416e-06\n",
      "Iterations 69: 1.65649360079e-06\n",
      "Iterations 70: 1.6141283764e-06\n",
      "Iterations 71: 1.57778332609e-06\n",
      "Iterations 72: 1.54574964261e-06\n",
      "Iterations 73: 1.51695862551e-06\n",
      "Iterations 74: 1.49071334411e-06\n",
      "Iterations 75: 1.46654246464e-06\n",
      "Iterations 76: 1.44411651848e-06\n",
      "Iterations 77: 1.42319798807e-06\n",
      "Iterations 78: 1.40361057183e-06\n",
      "Iterations 79: 1.38521973581e-06\n",
      "Iterations 80: 1.36792013096e-06\n",
      "Iterations 81: 1.35162726566e-06\n",
      "Iterations 82: 1.33627189321e-06\n",
      "Iterations 83: 1.32179616224e-06\n",
      "Iterations 84: 1.3081509188e-06\n",
      "Iterations 85: 1.2952938058e-06\n",
      "Iterations 86: 1.28318787058e-06\n",
      "Iterations 87: 1.27180055362e-06\n",
      "Iterations 88: 1.26110293071e-06\n",
      "Iterations 89: 1.25106914091e-06\n",
      "Iterations 90: 1.24167594262e-06\n",
      "Iterations 91: 1.23290236366e-06\n",
      "Iterations 92: 1.22472944e-06\n",
      "Iterations 93: 1.21713998342e-06\n",
      "Iterations 94: 1.21011841321e-06\n",
      "Iterations 95: 1.20365060736e-06\n",
      "Iterations 96: 1.19772378127e-06\n",
      "Iterations 97: 1.19232638563e-06\n",
      "Iterations 98: 1.18744802924e-06\n",
      "Iterations 99: 1.18307940036e-06\n",
      "Iterations 100: 1.17921220738e-06\n",
      "Iterations 101: 1.17583913147e-06\n",
      "Iterations 102: 1.17295377952e-06\n",
      "Iterations 103: 1.17055064833e-06\n",
      "Iterations 104: 1.16862509213e-06\n",
      "Iterations 105: 1.16717330162e-06\n",
      "Iterations 106: 1.16619227585e-06\n",
      "Iterations 107: 1.16567980786e-06\n",
      "Iterations 108: 1.16563447489e-06\n",
      "Iterations 109: 1.16605562175e-06\n",
      "Iterations 110: 1.16694336099e-06\n",
      "Iterations 111: 1.16829856427e-06\n",
      "Iterations 112: 1.17012286551e-06\n",
      "Iterations 113: 1.17241865949e-06\n",
      "Iterations 114: 1.175189112e-06\n",
      "Iterations 115: 1.17843816823e-06\n",
      "Iterations 116: 1.18217055643e-06\n",
      "Iterations 117: 1.18639181277e-06\n",
      "Iterations 118: 1.19110829158e-06\n",
      "Iterations 119: 1.1963271877e-06\n",
      "Iterations 120: 1.2020565574e-06\n",
      "Iterations 121: 1.20830534796e-06\n",
      "Iterations 122: 1.21508343055e-06\n",
      "Iterations 123: 1.22240162217e-06\n",
      "Iterations 124: 1.23027173759e-06\n",
      "Iterations 125: 1.2387066184e-06\n",
      "Iterations 126: 1.24772018637e-06\n",
      "Iterations 127: 1.25732749038e-06\n",
      "Iterations 128: 1.26754475895e-06\n",
      "Iterations 129: 1.27838946532e-06\n",
      "Iterations 130: 1.28988039154e-06\n",
      "Iterations 131: 1.30203769118e-06\n",
      "Iterations 132: 1.31488298319e-06\n",
      "Iterations 133: 1.3284394222e-06\n",
      "Iterations 134: 1.34273180142e-06\n",
      "Iterations 135: 1.35778664257e-06\n",
      "Iterations 136: 1.37363231849e-06\n",
      "Iterations 137: 1.39029915967e-06\n",
      "Iterations 138: 1.40781959542e-06\n",
      "Iterations 139: 1.42622828818e-06\n",
      "Iterations 140: 1.44556228867e-06\n",
      "Iterations 141: 1.46586120726e-06\n",
      "Iterations 142: 1.48716739905e-06\n",
      "Iterations 143: 1.50952615606e-06\n",
      "Iterations 144: 1.53298593954e-06\n",
      "Iterations 145: 1.55759860536e-06\n",
      "Iterations 146: 1.58341967881e-06\n",
      "Iterations 147: 1.61050863708e-06\n",
      "Iterations 148: 1.63892922421e-06\n",
      "Iterations 149: 1.66874979748e-06\n",
      "Iterations 150: 1.70004370891e-06\n",
      "Iterations 151: 1.73288972381e-06\n",
      "Iterations 152: 1.76737248246e-06\n",
      "Iterations 153: 1.80358300486e-06\n",
      "Iterations 154: 1.84161925556e-06\n",
      "Iterations 155: 1.88158676286e-06\n",
      "Iterations 156: 1.92359930626e-06\n",
      "Iterations 157: 1.96777967688e-06\n",
      "Iterations 158: 2.0142605212e-06\n",
      "Iterations 159: 2.06318528472e-06\n",
      "Iterations 160: 2.11470925316e-06\n",
      "Iterations 161: 2.16900072223e-06\n",
      "Iterations 162: 2.22624230002e-06\n",
      "Iterations 163: 2.28663236692e-06\n",
      "Iterations 164: 2.35038670855e-06\n",
      "Iterations 165: 2.41774034581e-06\n",
      "Iterations 166: 2.4889496149e-06\n",
      "Iterations 167: 2.56429447891e-06\n",
      "Iterations 168: 2.64408117135e-06\n",
      "Iterations 169: 2.72864515421e-06\n",
      "Iterations 170: 2.81835451635e-06\n",
      "Iterations 171: 2.91361379016e-06\n",
      "Iterations 172: 3.01486833655e-06\n",
      "Iterations 173: 3.12260932944e-06\n",
      "Iterations 174: 3.23737948264e-06\n",
      "Iterations 175: 3.35977959695e-06\n",
      "Iterations 176: 3.49047612989e-06\n",
      "Iterations 177: 3.63020989648e-06\n",
      "Iterations 178: 3.77980616301e-06\n",
      "Iterations 179: 3.94018635807e-06\n",
      "Iterations 180: 4.11238170282e-06\n",
      "Iterations 181: 4.29754914026e-06\n",
      "Iterations 182: 4.49699000799e-06\n",
      "Iterations 183: 4.71217199318e-06\n",
      "Iterations 184: 4.94475505984e-06\n",
      "Iterations 185: 5.19662216413e-06\n",
      "Iterations 186: 5.46991581514e-06\n",
      "Iterations 187: 5.76708173014e-06\n",
      "Iterations 188: 6.09092125202e-06\n",
      "Iterations 189: 6.44465450459e-06\n",
      "Iterations 190: 6.8319969143e-06\n",
      "Iterations 191: 7.257252359e-06\n",
      "Iterations 192: 7.72542715561e-06\n",
      "Iterations 193: 8.24237036511e-06\n",
      "Iterations 194: 8.81494744961e-06\n",
      "Iterations 195: 9.45125657715e-06\n",
      "Iterations 196: 1.01608998053e-05\n",
      "Iterations 197: 1.09553253831e-05\n",
      "Iterations 198: 1.18482629899e-05\n",
      "Iterations 199: 1.28562813921e-05\n",
      "Iterations 200: 1.39995087512e-05\n",
      "Iterations 201: 1.53025710689e-05\n",
      "Iterations 202: 1.67958259336e-05\n",
      "Iterations 203: 1.85170001661e-05\n",
      "Iterations 204: 2.05133857515e-05\n",
      "Iterations 205: 2.28448160573e-05\n",
      "Iterations 206: 2.55877453382e-05\n",
      "Iterations 207: 2.88409067784e-05\n",
      "Iterations 208: 3.27332566197e-05\n",
      "Iterations 209: 3.74352688429e-05\n",
      "Iterations 210: 4.31751967916e-05\n",
      "Iterations 211: 5.02627707028e-05\n",
      "Iterations 212: 5.91241024754e-05\n",
      "Iterations 213: 7.03534884774e-05\n",
      "Iterations 214: 8.4790373917e-05\n",
      "Iterations 215: 0.00010363226455\n",
      "Iterations 216: 0.000128593204735\n",
      "Iterations 217: 0.000162098347673\n",
      "Iterations 218: 0.000207416564189\n",
      "Iterations 219: 0.000268292801982\n",
      "Iterations 220: 0.000346426588513\n",
      "Iterations 221: 0.000431259675301\n",
      "Iterations 222: 0.00046976596973\n",
      "Iterations 223: 0.000346088402655\n",
      "Iterations 224: 0.000102756651399\n",
      "Iterations 225: 5.80719042544e-06\n",
      "Iterations 226: 5.19028343509e-07\n",
      "Write model to ../models/joint-bayes-model.pkl\n"
     ]
    }
   ],
   "source": [
    "# train the joint bayes\n",
    "import pickle\n",
    "\n",
    "feature, mean_value = jointbayesian.preprocess(deepids1)\n",
    "labels = y\n",
    "\n",
    "model_file = '../models/joint-bayes-model.pkl'\n",
    "\n",
    "A, G = jointbayesian.train(feature, labels)\n",
    "\n",
    "with open(model_file, 'wb') as f:\n",
    "    pickle.dump(A, f)\n",
    "    pickle.dump(G, f)\n",
    "    pickle.dump(mean_value, f)\n",
    "    print('Write model to', model_file)"
   ]
  },
  {
   "cell_type": "code",
   "execution_count": null,
   "metadata": {
    "collapsed": true
   },
   "outputs": [],
   "source": []
  }
 ],
 "metadata": {
  "kernelspec": {
   "display_name": "Python 3",
   "language": "python",
   "name": "python3"
  },
  "language_info": {
   "codemirror_mode": {
    "name": "ipython",
    "version": 3
   },
   "file_extension": ".py",
   "mimetype": "text/x-python",
   "name": "python",
   "nbconvert_exporter": "python",
   "pygments_lexer": "ipython3",
   "version": "3.6.0"
  }
 },
 "nbformat": 4,
 "nbformat_minor": 2
}
