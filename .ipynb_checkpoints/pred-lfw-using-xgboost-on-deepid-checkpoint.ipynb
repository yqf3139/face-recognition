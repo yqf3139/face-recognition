{
 "cells": [
  {
   "cell_type": "code",
   "execution_count": 1,
   "metadata": {
    "collapsed": false
   },
   "outputs": [
    {
     "name": "stderr",
     "output_type": "stream",
     "text": [
      "Using TensorFlow backend.\n"
     ]
    }
   ],
   "source": [
    "import pandas as pd\n",
    "import numpy as np\n",
    "import keras\n",
    "from keras.utils.data_utils import get_file\n",
    "from keras.preprocessing.image import array_to_img, img_to_array, load_img\n",
    "from os.path import join\n",
    "import multiprocessing\n",
    "from sklearn.preprocessing import LabelEncoder\n",
    "from sklearn.model_selection import train_test_split\n",
    "from scipy.stats import skew, kurtosis, tvar, entropy, pearsonr\n",
    "import keras.backend.tensorflow_backend as K\n",
    "\n",
    "%matplotlib inline"
   ]
  },
  {
   "cell_type": "code",
   "execution_count": 2,
   "metadata": {
    "collapsed": true
   },
   "outputs": [],
   "source": [
    "DATA_HOME = '../lfw-deepfunneled-Cropped/'"
   ]
  },
  {
   "cell_type": "code",
   "execution_count": 3,
   "metadata": {
    "collapsed": true
   },
   "outputs": [],
   "source": [
    "PAIRS_PATH = '../pairs.txt'"
   ]
  },
  {
   "cell_type": "code",
   "execution_count": 4,
   "metadata": {
    "collapsed": false
   },
   "outputs": [],
   "source": [
    "raw_dataset = pd.read_csv(PAIRS_PATH, nrows=None)\n",
    "raw_dataset.columns = ['data']"
   ]
  },
  {
   "cell_type": "code",
   "execution_count": 5,
   "metadata": {
    "collapsed": true
   },
   "outputs": [],
   "source": [
    "raw_dataset = raw_dataset"
   ]
  },
  {
   "cell_type": "code",
   "execution_count": 6,
   "metadata": {
    "collapsed": false
   },
   "outputs": [],
   "source": [
    "def split_raw_data(row):\n",
    "    fields = str(row[0]).split('\\t')\n",
    "    is_the_same = 0\n",
    "    path1, path2 = '{}/{}_{:04d}.jpg', '{}/{}_{:04d}.jpg'\n",
    "    if len(fields) == 3:\n",
    "        is_the_same = 1\n",
    "        path1 = path1.format(fields[0], fields[0], int(fields[1]))\n",
    "        path2 = path2.format(fields[0], fields[0], int(fields[2]))\n",
    "    elif len(fields) == 4:\n",
    "        path1 = path1.format(fields[0], fields[0], int(fields[1]))\n",
    "        path2 = path2.format(fields[2], fields[2], int(fields[3]))\n",
    "    else:\n",
    "        raise(Exception('invalid fields'))\n",
    "    \n",
    "    return pd.Series([path1, path2, is_the_same], ['path1', 'path2', 'is_the_same']) "
   ]
  },
  {
   "cell_type": "code",
   "execution_count": 7,
   "metadata": {
    "collapsed": false
   },
   "outputs": [],
   "source": [
    "dataset = raw_dataset.apply(split_raw_data, axis=1)"
   ]
  },
  {
   "cell_type": "code",
   "execution_count": 8,
   "metadata": {
    "collapsed": false
   },
   "outputs": [
    {
     "data": {
      "text/html": [
       "<div>\n",
       "<table border=\"1\" class=\"dataframe\">\n",
       "  <thead>\n",
       "    <tr style=\"text-align: right;\">\n",
       "      <th></th>\n",
       "      <th>path1</th>\n",
       "      <th>path2</th>\n",
       "      <th>is_the_same</th>\n",
       "    </tr>\n",
       "  </thead>\n",
       "  <tbody>\n",
       "    <tr>\n",
       "      <th>0</th>\n",
       "      <td>Abel_Pacheco/Abel_Pacheco_0001.jpg</td>\n",
       "      <td>Abel_Pacheco/Abel_Pacheco_0004.jpg</td>\n",
       "      <td>1</td>\n",
       "    </tr>\n",
       "    <tr>\n",
       "      <th>1</th>\n",
       "      <td>Akhmed_Zakayev/Akhmed_Zakayev_0001.jpg</td>\n",
       "      <td>Akhmed_Zakayev/Akhmed_Zakayev_0003.jpg</td>\n",
       "      <td>1</td>\n",
       "    </tr>\n",
       "    <tr>\n",
       "      <th>2</th>\n",
       "      <td>Akhmed_Zakayev/Akhmed_Zakayev_0002.jpg</td>\n",
       "      <td>Akhmed_Zakayev/Akhmed_Zakayev_0003.jpg</td>\n",
       "      <td>1</td>\n",
       "    </tr>\n",
       "    <tr>\n",
       "      <th>3</th>\n",
       "      <td>Amber_Tamblyn/Amber_Tamblyn_0001.jpg</td>\n",
       "      <td>Amber_Tamblyn/Amber_Tamblyn_0002.jpg</td>\n",
       "      <td>1</td>\n",
       "    </tr>\n",
       "    <tr>\n",
       "      <th>4</th>\n",
       "      <td>Anders_Fogh_Rasmussen/Anders_Fogh_Rasmussen_00...</td>\n",
       "      <td>Anders_Fogh_Rasmussen/Anders_Fogh_Rasmussen_00...</td>\n",
       "      <td>1</td>\n",
       "    </tr>\n",
       "  </tbody>\n",
       "</table>\n",
       "</div>"
      ],
      "text/plain": [
       "                                               path1  \\\n",
       "0                 Abel_Pacheco/Abel_Pacheco_0001.jpg   \n",
       "1             Akhmed_Zakayev/Akhmed_Zakayev_0001.jpg   \n",
       "2             Akhmed_Zakayev/Akhmed_Zakayev_0002.jpg   \n",
       "3               Amber_Tamblyn/Amber_Tamblyn_0001.jpg   \n",
       "4  Anders_Fogh_Rasmussen/Anders_Fogh_Rasmussen_00...   \n",
       "\n",
       "                                               path2  is_the_same  \n",
       "0                 Abel_Pacheco/Abel_Pacheco_0004.jpg            1  \n",
       "1             Akhmed_Zakayev/Akhmed_Zakayev_0003.jpg            1  \n",
       "2             Akhmed_Zakayev/Akhmed_Zakayev_0003.jpg            1  \n",
       "3               Amber_Tamblyn/Amber_Tamblyn_0002.jpg            1  \n",
       "4  Anders_Fogh_Rasmussen/Anders_Fogh_Rasmussen_00...            1  "
      ]
     },
     "execution_count": 8,
     "metadata": {},
     "output_type": "execute_result"
    }
   ],
   "source": [
    "dataset.head()"
   ]
  },
  {
   "cell_type": "code",
   "execution_count": 9,
   "metadata": {
    "collapsed": true
   },
   "outputs": [],
   "source": [
    "def path2ImgVec(path):\n",
    "    x = img_to_array(load_img(join(DATA_HOME, path)))\n",
    "    return x.reshape((1,) + x.shape)"
   ]
  },
  {
   "cell_type": "code",
   "execution_count": 10,
   "metadata": {
    "collapsed": false
   },
   "outputs": [
    {
     "data": {
      "text/plain": [
       "7701"
      ]
     },
     "execution_count": 10,
     "metadata": {},
     "output_type": "execute_result"
    }
   ],
   "source": [
    "img_paths = list(set(dataset.path1.tolist()+dataset.path2.tolist()))\n",
    "len(img_paths)"
   ]
  },
  {
   "cell_type": "code",
   "execution_count": 11,
   "metadata": {
    "collapsed": false
   },
   "outputs": [],
   "source": [
    "pool = multiprocessing.Pool(8)\n",
    "results = pool.map(path2ImgVec, img_paths)\n",
    "pool.close()\n",
    "pool.join()"
   ]
  },
  {
   "cell_type": "code",
   "execution_count": 12,
   "metadata": {
    "collapsed": false
   },
   "outputs": [
    {
     "data": {
      "text/plain": [
       "(7701, 55, 47, 3)"
      ]
     },
     "execution_count": 12,
     "metadata": {},
     "output_type": "execute_result"
    }
   ],
   "source": [
    "img_vecs = np.vstack(results)\n",
    "img_vecs.shape"
   ]
  },
  {
   "cell_type": "code",
   "execution_count": 13,
   "metadata": {
    "collapsed": false
   },
   "outputs": [
    {
     "data": {
      "text/plain": [
       "(7701, 55, 47, 3)"
      ]
     },
     "execution_count": 13,
     "metadata": {},
     "output_type": "execute_result"
    }
   ],
   "source": [
    "input_shape = img_vecs.shape[1:]\n",
    "img_vecs.shape"
   ]
  },
  {
   "cell_type": "code",
   "execution_count": 14,
   "metadata": {
    "collapsed": false
   },
   "outputs": [],
   "source": [
    "from keras.models import load_model\n",
    "\n",
    "# model = load_model('../models/facescrub-faceonly-simple-cnn.model.h5')\n",
    "model = load_model('../models/webface-simple-cnn.3348.model.h5')"
   ]
  },
  {
   "cell_type": "code",
   "execution_count": 15,
   "metadata": {
    "collapsed": true
   },
   "outputs": [],
   "source": [
    "from keras import backend as K\n",
    "inp = model.input\n",
    "# outputs = [layer.output for layer in model.layers]\n",
    "outputs = [model.layers[-2].output]\n",
    "functor = K.function([inp] + [K.learning_phase()], outputs)"
   ]
  },
  {
   "cell_type": "code",
   "execution_count": 16,
   "metadata": {
    "collapsed": false
   },
   "outputs": [],
   "source": [
    "deepids = functor([img_vecs, 1.])[0]"
   ]
  },
  {
   "cell_type": "code",
   "execution_count": 17,
   "metadata": {
    "collapsed": false
   },
   "outputs": [
    {
     "data": {
      "text/plain": [
       "(7701, 160)"
      ]
     },
     "execution_count": 17,
     "metadata": {},
     "output_type": "execute_result"
    }
   ],
   "source": [
    "deepids.shape"
   ]
  },
  {
   "cell_type": "code",
   "execution_count": 18,
   "metadata": {
    "collapsed": true
   },
   "outputs": [],
   "source": [
    "img_deepid_mem = {k:v for k, v in zip(img_paths, deepids)}"
   ]
  },
  {
   "cell_type": "code",
   "execution_count": 20,
   "metadata": {
    "collapsed": false
   },
   "outputs": [],
   "source": [
    "from scipy.spatial.distance import cosine, cityblock, jaccard, canberra, euclidean, minkowski, braycurtis\n",
    "\n",
    "COL_NAMES = [\n",
    "    \"z_cosine\",\n",
    "#     'z_cityblock',\n",
    "#     'z_jaccard',\n",
    "#     \"z_canberra\",\n",
    "#     \"z_euclidean\",\n",
    "#     \"z_minkowski\",\n",
    "#     \"z_braycurtis\",\n",
    "    'z_skew1',\n",
    "    'z_skew2',\n",
    "    'z_kurtosis1',\n",
    "    'z_kurtosis2',\n",
    "#     'z_tvar1',\n",
    "#     'z_tvar2',\n",
    "] + ['is_the_same']\n",
    "\n",
    "def to_deepid_features(row):\n",
    "    vec1 = img_deepid_mem[row['path1']]\n",
    "    vec2 = img_deepid_mem[row['path2']]\n",
    "\n",
    "    feats = [\n",
    "        cosine(vec1, vec2),\n",
    "#         cityblock(vec1, vec2),\n",
    "#         jaccard(vec1, vec2),\n",
    "#         canberra(vec1, vec2),\n",
    "#         euclidean(vec1, vec2),\n",
    "#         minkowski(vec1, vec2, 3),\n",
    "#         braycurtis(vec1, vec2),\n",
    "        skew(vec1),\n",
    "        skew(vec2),\n",
    "        kurtosis(vec1),\n",
    "        kurtosis(vec2),\n",
    "#         tvar(vec1),\n",
    "#         tvar(vec2),\n",
    "    ]\n",
    "    \n",
    "    return pd.Series(feats + [row['is_the_same']], COL_NAMES) "
   ]
  },
  {
   "cell_type": "code",
   "execution_count": 21,
   "metadata": {
    "collapsed": false
   },
   "outputs": [],
   "source": [
    "feat_dataset = dataset.apply(to_deepid_features, axis=1)"
   ]
  },
  {
   "cell_type": "code",
   "execution_count": 22,
   "metadata": {
    "collapsed": false
   },
   "outputs": [
    {
     "data": {
      "text/html": [
       "<div>\n",
       "<table border=\"1\" class=\"dataframe\">\n",
       "  <thead>\n",
       "    <tr style=\"text-align: right;\">\n",
       "      <th></th>\n",
       "      <th>z_cosine</th>\n",
       "      <th>z_skew1</th>\n",
       "      <th>z_skew2</th>\n",
       "      <th>z_kurtosis1</th>\n",
       "      <th>z_kurtosis2</th>\n",
       "      <th>is_the_same</th>\n",
       "    </tr>\n",
       "  </thead>\n",
       "  <tbody>\n",
       "    <tr>\n",
       "      <th>0</th>\n",
       "      <td>0.456118</td>\n",
       "      <td>1.045440</td>\n",
       "      <td>0.860759</td>\n",
       "      <td>0.665765</td>\n",
       "      <td>-0.308275</td>\n",
       "      <td>1.0</td>\n",
       "    </tr>\n",
       "    <tr>\n",
       "      <th>1</th>\n",
       "      <td>0.225153</td>\n",
       "      <td>1.280120</td>\n",
       "      <td>0.874425</td>\n",
       "      <td>0.713354</td>\n",
       "      <td>-0.060909</td>\n",
       "      <td>1.0</td>\n",
       "    </tr>\n",
       "    <tr>\n",
       "      <th>2</th>\n",
       "      <td>0.370648</td>\n",
       "      <td>0.900829</td>\n",
       "      <td>0.874425</td>\n",
       "      <td>-0.064140</td>\n",
       "      <td>-0.060909</td>\n",
       "      <td>1.0</td>\n",
       "    </tr>\n",
       "    <tr>\n",
       "      <th>3</th>\n",
       "      <td>0.280739</td>\n",
       "      <td>1.148974</td>\n",
       "      <td>1.127412</td>\n",
       "      <td>1.116504</td>\n",
       "      <td>0.397711</td>\n",
       "      <td>1.0</td>\n",
       "    </tr>\n",
       "    <tr>\n",
       "      <th>4</th>\n",
       "      <td>0.437202</td>\n",
       "      <td>0.981823</td>\n",
       "      <td>1.016180</td>\n",
       "      <td>-0.026181</td>\n",
       "      <td>0.260821</td>\n",
       "      <td>1.0</td>\n",
       "    </tr>\n",
       "  </tbody>\n",
       "</table>\n",
       "</div>"
      ],
      "text/plain": [
       "   z_cosine   z_skew1   z_skew2  z_kurtosis1  z_kurtosis2  is_the_same\n",
       "0  0.456118  1.045440  0.860759     0.665765    -0.308275          1.0\n",
       "1  0.225153  1.280120  0.874425     0.713354    -0.060909          1.0\n",
       "2  0.370648  0.900829  0.874425    -0.064140    -0.060909          1.0\n",
       "3  0.280739  1.148974  1.127412     1.116504     0.397711          1.0\n",
       "4  0.437202  0.981823  1.016180    -0.026181     0.260821          1.0"
      ]
     },
     "execution_count": 22,
     "metadata": {},
     "output_type": "execute_result"
    }
   ],
   "source": [
    "feat_dataset.head()"
   ]
  },
  {
   "cell_type": "code",
   "execution_count": 23,
   "metadata": {
    "collapsed": false
   },
   "outputs": [
    {
     "data": {
      "text/html": [
       "<div>\n",
       "<table border=\"1\" class=\"dataframe\">\n",
       "  <thead>\n",
       "    <tr style=\"text-align: right;\">\n",
       "      <th></th>\n",
       "      <th>z_cosine</th>\n",
       "      <th>z_skew1</th>\n",
       "      <th>z_skew2</th>\n",
       "      <th>z_kurtosis1</th>\n",
       "      <th>z_kurtosis2</th>\n",
       "      <th>is_the_same</th>\n",
       "    </tr>\n",
       "  </thead>\n",
       "  <tbody>\n",
       "    <tr>\n",
       "      <th>5995</th>\n",
       "      <td>0.469671</td>\n",
       "      <td>0.961462</td>\n",
       "      <td>0.764703</td>\n",
       "      <td>0.507218</td>\n",
       "      <td>-0.109146</td>\n",
       "      <td>0.0</td>\n",
       "    </tr>\n",
       "    <tr>\n",
       "      <th>5996</th>\n",
       "      <td>0.622863</td>\n",
       "      <td>1.141399</td>\n",
       "      <td>1.021441</td>\n",
       "      <td>0.825181</td>\n",
       "      <td>0.157595</td>\n",
       "      <td>0.0</td>\n",
       "    </tr>\n",
       "    <tr>\n",
       "      <th>5997</th>\n",
       "      <td>0.614222</td>\n",
       "      <td>1.292108</td>\n",
       "      <td>0.911312</td>\n",
       "      <td>0.783108</td>\n",
       "      <td>-0.112988</td>\n",
       "      <td>0.0</td>\n",
       "    </tr>\n",
       "    <tr>\n",
       "      <th>5998</th>\n",
       "      <td>0.507845</td>\n",
       "      <td>1.267207</td>\n",
       "      <td>1.217355</td>\n",
       "      <td>1.353926</td>\n",
       "      <td>1.184331</td>\n",
       "      <td>0.0</td>\n",
       "    </tr>\n",
       "    <tr>\n",
       "      <th>5999</th>\n",
       "      <td>0.429654</td>\n",
       "      <td>0.998582</td>\n",
       "      <td>0.804413</td>\n",
       "      <td>0.501679</td>\n",
       "      <td>-0.197263</td>\n",
       "      <td>0.0</td>\n",
       "    </tr>\n",
       "  </tbody>\n",
       "</table>\n",
       "</div>"
      ],
      "text/plain": [
       "      z_cosine   z_skew1   z_skew2  z_kurtosis1  z_kurtosis2  is_the_same\n",
       "5995  0.469671  0.961462  0.764703     0.507218    -0.109146          0.0\n",
       "5996  0.622863  1.141399  1.021441     0.825181     0.157595          0.0\n",
       "5997  0.614222  1.292108  0.911312     0.783108    -0.112988          0.0\n",
       "5998  0.507845  1.267207  1.217355     1.353926     1.184331          0.0\n",
       "5999  0.429654  0.998582  0.804413     0.501679    -0.197263          0.0"
      ]
     },
     "execution_count": 23,
     "metadata": {},
     "output_type": "execute_result"
    }
   ],
   "source": [
    "feat_dataset.tail()"
   ]
  },
  {
   "cell_type": "code",
   "execution_count": 24,
   "metadata": {
    "collapsed": false
   },
   "outputs": [
    {
     "data": {
      "text/plain": [
       "<matplotlib.axes._subplots.AxesSubplot at 0x7fa1e109ba90>"
      ]
     },
     "execution_count": 24,
     "metadata": {},
     "output_type": "execute_result"
    },
    {
     "data": {
      "image/png": "[encoded data removed]",
      "text/plain": [
       "<matplotlib.figure.Figure at 0x7fa1e10a9d30>"
      ]
     },
     "metadata": {},
     "output_type": "display_data"
    }
   ],
   "source": [
    "import seaborn as sns\n",
    "\n",
    "sns.violinplot(data=feat_dataset, x='is_the_same', y='z_cosine', inner=\"points\")"
   ]
  },
  {
   "cell_type": "code",
   "execution_count": 25,
   "metadata": {
    "collapsed": false
   },
   "outputs": [],
   "source": [
    "col = [c for c in feat_dataset.columns if c[0]=='z']\n",
    "\n",
    "X = feat_dataset[col].as_matrix()\n",
    "y = feat_dataset['is_the_same'].as_matrix()"
   ]
  },
  {
   "cell_type": "code",
   "execution_count": 26,
   "metadata": {
    "collapsed": false
   },
   "outputs": [
    {
     "data": {
      "text/plain": [
       "array([ 0.4561184 ,  1.04544044,  0.86075932,  0.66576462, -0.30827503])"
      ]
     },
     "execution_count": 26,
     "metadata": {},
     "output_type": "execute_result"
    }
   ],
   "source": [
    "X[0]"
   ]
  },
  {
   "cell_type": "code",
   "execution_count": 27,
   "metadata": {
    "collapsed": true
   },
   "outputs": [],
   "source": [
    "X_train, X_valid, y_train, y_valid = train_test_split(X, y, test_size=0.2, random_state=42)"
   ]
  },
  {
   "cell_type": "code",
   "execution_count": 28,
   "metadata": {
    "collapsed": false
   },
   "outputs": [
    {
     "name": "stdout",
     "output_type": "stream",
     "text": [
      "[0]\ttrain-logloss:0.605795\ttrain-error:0.238125\tvalid-logloss:0.612161\tvalid-error:0.253333\n",
      "Multiple eval metrics have been passed: 'valid-error' will be used for early stopping.\n",
      "\n",
      "Will train until valid-error hasn't improved in 50 rounds.\n",
      "Stopping. Best iteration:\n",
      "[16]\ttrain-logloss:0.46083\ttrain-error:0.227083\tvalid-logloss:0.505589\tvalid-error:0.241667\n",
      "\n"
     ]
    }
   ],
   "source": [
    "import xgboost as xgb\n",
    "params = {}\n",
    "params[\"objective\"] = \"binary:logistic\"\n",
    "params['eval_metric'] = ['logloss', 'error']\n",
    "# params[\"eta\"] = 0.02\n",
    "# params[\"subsample\"] = 0.7\n",
    "# params[\"min_child_weight\"] = 1\n",
    "# params[\"colsample_bytree\"] = 0.7\n",
    "params[\"max_depth\"] = 4\n",
    "# params[\"silent\"] = 1\n",
    "params[\"seed\"] = 1632\n",
    "\n",
    "d_train = xgb.DMatrix(X_train, label=y_train)\n",
    "d_valid = xgb.DMatrix(X_valid, label=y_valid)\n",
    "watchlist = [(d_train, 'train'), (d_valid, 'valid')]\n",
    "bst = xgb.train(params, d_train, 500, watchlist, early_stopping_rounds=50, verbose_eval=100)"
   ]
  },
  {
   "cell_type": "code",
   "execution_count": 29,
   "metadata": {
    "collapsed": false
   },
   "outputs": [
    {
     "data": {
      "text/html": [
       "<div>\n",
       "<table border=\"1\" class=\"dataframe\">\n",
       "  <thead>\n",
       "    <tr style=\"text-align: right;\">\n",
       "      <th></th>\n",
       "      <th>test-error-mean</th>\n",
       "      <th>test-error-std</th>\n",
       "      <th>train-error-mean</th>\n",
       "      <th>train-error-std</th>\n",
       "    </tr>\n",
       "  </thead>\n",
       "  <tbody>\n",
       "    <tr>\n",
       "      <th>0</th>\n",
       "      <td>0.254500</td>\n",
       "      <td>0.011379</td>\n",
       "      <td>0.241574</td>\n",
       "      <td>0.001722</td>\n",
       "    </tr>\n",
       "    <tr>\n",
       "      <th>1</th>\n",
       "      <td>0.251667</td>\n",
       "      <td>0.014201</td>\n",
       "      <td>0.239722</td>\n",
       "      <td>0.001822</td>\n",
       "    </tr>\n",
       "    <tr>\n",
       "      <th>2</th>\n",
       "      <td>0.254333</td>\n",
       "      <td>0.012092</td>\n",
       "      <td>0.238833</td>\n",
       "      <td>0.002270</td>\n",
       "    </tr>\n",
       "    <tr>\n",
       "      <th>3</th>\n",
       "      <td>0.251167</td>\n",
       "      <td>0.014908</td>\n",
       "      <td>0.237852</td>\n",
       "      <td>0.002160</td>\n",
       "    </tr>\n",
       "    <tr>\n",
       "      <th>4</th>\n",
       "      <td>0.249833</td>\n",
       "      <td>0.015872</td>\n",
       "      <td>0.236926</td>\n",
       "      <td>0.001998</td>\n",
       "    </tr>\n",
       "    <tr>\n",
       "      <th>5</th>\n",
       "      <td>0.249667</td>\n",
       "      <td>0.016445</td>\n",
       "      <td>0.236278</td>\n",
       "      <td>0.001688</td>\n",
       "    </tr>\n",
       "    <tr>\n",
       "      <th>6</th>\n",
       "      <td>0.250667</td>\n",
       "      <td>0.014399</td>\n",
       "      <td>0.235537</td>\n",
       "      <td>0.001777</td>\n",
       "    </tr>\n",
       "    <tr>\n",
       "      <th>7</th>\n",
       "      <td>0.250500</td>\n",
       "      <td>0.013985</td>\n",
       "      <td>0.235019</td>\n",
       "      <td>0.002214</td>\n",
       "    </tr>\n",
       "    <tr>\n",
       "      <th>8</th>\n",
       "      <td>0.251167</td>\n",
       "      <td>0.014358</td>\n",
       "      <td>0.234741</td>\n",
       "      <td>0.002882</td>\n",
       "    </tr>\n",
       "    <tr>\n",
       "      <th>9</th>\n",
       "      <td>0.250667</td>\n",
       "      <td>0.015243</td>\n",
       "      <td>0.234222</td>\n",
       "      <td>0.002543</td>\n",
       "    </tr>\n",
       "    <tr>\n",
       "      <th>10</th>\n",
       "      <td>0.250333</td>\n",
       "      <td>0.014545</td>\n",
       "      <td>0.233055</td>\n",
       "      <td>0.002589</td>\n",
       "    </tr>\n",
       "    <tr>\n",
       "      <th>11</th>\n",
       "      <td>0.249000</td>\n",
       "      <td>0.014224</td>\n",
       "      <td>0.232204</td>\n",
       "      <td>0.002477</td>\n",
       "    </tr>\n",
       "    <tr>\n",
       "      <th>12</th>\n",
       "      <td>0.249000</td>\n",
       "      <td>0.015004</td>\n",
       "      <td>0.231537</td>\n",
       "      <td>0.002632</td>\n",
       "    </tr>\n",
       "    <tr>\n",
       "      <th>13</th>\n",
       "      <td>0.248667</td>\n",
       "      <td>0.014829</td>\n",
       "      <td>0.230592</td>\n",
       "      <td>0.002587</td>\n",
       "    </tr>\n",
       "  </tbody>\n",
       "</table>\n",
       "</div>"
      ],
      "text/plain": [
       "    test-error-mean  test-error-std  train-error-mean  train-error-std\n",
       "0          0.254500        0.011379          0.241574         0.001722\n",
       "1          0.251667        0.014201          0.239722         0.001822\n",
       "2          0.254333        0.012092          0.238833         0.002270\n",
       "3          0.251167        0.014908          0.237852         0.002160\n",
       "4          0.249833        0.015872          0.236926         0.001998\n",
       "5          0.249667        0.016445          0.236278         0.001688\n",
       "6          0.250667        0.014399          0.235537         0.001777\n",
       "7          0.250500        0.013985          0.235019         0.002214\n",
       "8          0.251167        0.014358          0.234741         0.002882\n",
       "9          0.250667        0.015243          0.234222         0.002543\n",
       "10         0.250333        0.014545          0.233055         0.002589\n",
       "11         0.249000        0.014224          0.232204         0.002477\n",
       "12         0.249000        0.015004          0.231537         0.002632\n",
       "13         0.248667        0.014829          0.230592         0.002587"
      ]
     },
     "execution_count": 29,
     "metadata": {},
     "output_type": "execute_result"
    }
   ],
   "source": [
    "d_all = xgb.DMatrix(X, label=y)\n",
    "\n",
    "xgb.cv(params, d_all, 500, nfold=10, shuffle=False, metrics=['error'], early_stopping_rounds=20, seed=42)"
   ]
  },
  {
   "cell_type": "code",
   "execution_count": null,
   "metadata": {
    "collapsed": true
   },
   "outputs": [],
   "source": []
  }
 ],
 "metadata": {
  "kernelspec": {
   "display_name": "Python 3",
   "language": "python",
   "name": "python3"
  },
  "language_info": {
   "codemirror_mode": {
    "name": "ipython",
    "version": 3
   },
   "file_extension": ".py",
   "mimetype": "text/x-python",
   "name": "python",
   "nbconvert_exporter": "python",
   "pygments_lexer": "ipython3",
   "version": "3.6.0"
  }
 },
 "nbformat": 4,
 "nbformat_minor": 2
}
