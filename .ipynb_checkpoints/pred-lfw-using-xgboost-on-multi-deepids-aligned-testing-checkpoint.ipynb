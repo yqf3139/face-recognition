{
 "cells": [
  {
   "cell_type": "code",
   "execution_count": 1,
   "metadata": {
    "collapsed": false
   },
   "outputs": [],
   "source": [
    "import pandas as pd\n",
    "import numpy as np\n",
    "from os.path import join\n",
    "from sklearn.preprocessing import LabelEncoder\n",
    "from sklearn.model_selection import train_test_split\n",
    "\n",
    "%matplotlib inline"
   ]
  },
  {
   "cell_type": "code",
   "execution_count": 2,
   "metadata": {
    "collapsed": false
   },
   "outputs": [],
   "source": [
    "paths = [\n",
    "    '../output/webface-full-celeba-simple-cnn.aligned.margin32.grey.flipped.s20.model.h5.x.npy',\n",
    "    '../output/webface-full-simple-cnn.aligned.margin32.s20.model.h5.x.npy',\n",
    "    \n",
    "    '../output/celeba-full-simple-cnn.aligned.margin32.flipped.s20.model.h5.x.npy',\n",
    "]"
   ]
  },
  {
   "cell_type": "code",
   "execution_count": 3,
   "metadata": {
    "collapsed": true
   },
   "outputs": [],
   "source": [
    "# '../output/webface-full-celeba-simple-cnn.aligned.margin32.grey.flipped.s20.model.h5.x.npy',\n",
    "# '../output/webface-full-simple-cnn.aligned.margin32.s20.model.h5.x.npy',\n",
    "#\t0.080167\t0.011866\t0.032167\t0.001730\n",
    "\n",
    "#\t0.081167\t0.013355\t0.048889\t0.001846"
   ]
  },
  {
   "cell_type": "code",
   "execution_count": 4,
   "metadata": {
    "collapsed": false
   },
   "outputs": [],
   "source": [
    "X = np.hstack([np.load(p) for p in paths])"
   ]
  },
  {
   "cell_type": "code",
   "execution_count": 5,
   "metadata": {
    "collapsed": false
   },
   "outputs": [
    {
     "data": {
      "text/plain": [
       "(6000, 30)"
      ]
     },
     "execution_count": 5,
     "metadata": {},
     "output_type": "execute_result"
    }
   ],
   "source": [
    "X.shape"
   ]
  },
  {
   "cell_type": "code",
   "execution_count": 6,
   "metadata": {
    "collapsed": false
   },
   "outputs": [
    {
     "data": {
      "text/plain": [
       "(6000,)"
      ]
     },
     "execution_count": 6,
     "metadata": {},
     "output_type": "execute_result"
    }
   ],
   "source": [
    "y = np.load('../output/y')\n",
    "y.shape"
   ]
  },
  {
   "cell_type": "code",
   "execution_count": 7,
   "metadata": {
    "collapsed": true
   },
   "outputs": [],
   "source": [
    "X_train, X_valid, y_train, y_valid = train_test_split(X, y, test_size=0.1, random_state=42)"
   ]
  },
  {
   "cell_type": "code",
   "execution_count": 8,
   "metadata": {
    "collapsed": false
   },
   "outputs": [
    {
     "name": "stdout",
     "output_type": "stream",
     "text": [
      "[0]\ttrain-logloss:0.504981\ttrain-error:0.082222\tvalid-logloss:0.50324\tvalid-error:0.085\n",
      "Multiple eval metrics have been passed: 'valid-error' will be used for early stopping.\n",
      "\n",
      "Will train until valid-error hasn't improved in 50 rounds.\n",
      "Stopping. Best iteration:\n",
      "[38]\ttrain-logloss:0.105833\ttrain-error:0.035\tvalid-logloss:0.178113\tvalid-error:0.058333\n",
      "\n"
     ]
    }
   ],
   "source": [
    "import xgboost as xgb\n",
    "params = {}\n",
    "params[\"objective\"] = \"binary:logistic\"\n",
    "params['eval_metric'] = ['logloss', 'error']\n",
    "# params[\"eta\"] = 0.02\n",
    "# params[\"subsample\"] = 0.7\n",
    "# params[\"min_child_weight\"] = 1\n",
    "# params[\"colsample_bytree\"] = 0.7\n",
    "params[\"max_depth\"] = 4\n",
    "params[\"seed\"] = 1632\n",
    "\n",
    "d_train = xgb.DMatrix(X_train, label=y_train)\n",
    "d_valid = xgb.DMatrix(X_valid, label=y_valid)\n",
    "watchlist = [(d_train, 'train'), (d_valid, 'valid')]\n",
    "bst = xgb.train(params, d_train, 500, watchlist, early_stopping_rounds=50, verbose_eval=100)"
   ]
  },
  {
   "cell_type": "code",
   "execution_count": 9,
   "metadata": {
    "collapsed": false
   },
   "outputs": [
    {
     "data": {
      "text/html": [
       "<div>\n",
       "<table border=\"1\" class=\"dataframe\">\n",
       "  <thead>\n",
       "    <tr style=\"text-align: right;\">\n",
       "      <th></th>\n",
       "      <th>test-error-mean</th>\n",
       "      <th>test-error-std</th>\n",
       "      <th>train-error-mean</th>\n",
       "      <th>train-error-std</th>\n",
       "    </tr>\n",
       "  </thead>\n",
       "  <tbody>\n",
       "    <tr>\n",
       "      <th>0</th>\n",
       "      <td>0.098500</td>\n",
       "      <td>0.013405</td>\n",
       "      <td>0.081778</td>\n",
       "      <td>0.002034</td>\n",
       "    </tr>\n",
       "    <tr>\n",
       "      <th>1</th>\n",
       "      <td>0.093500</td>\n",
       "      <td>0.014934</td>\n",
       "      <td>0.075555</td>\n",
       "      <td>0.001721</td>\n",
       "    </tr>\n",
       "    <tr>\n",
       "      <th>2</th>\n",
       "      <td>0.093000</td>\n",
       "      <td>0.011827</td>\n",
       "      <td>0.072778</td>\n",
       "      <td>0.002155</td>\n",
       "    </tr>\n",
       "    <tr>\n",
       "      <th>3</th>\n",
       "      <td>0.092667</td>\n",
       "      <td>0.011479</td>\n",
       "      <td>0.071037</td>\n",
       "      <td>0.001745</td>\n",
       "    </tr>\n",
       "    <tr>\n",
       "      <th>4</th>\n",
       "      <td>0.089333</td>\n",
       "      <td>0.014087</td>\n",
       "      <td>0.068759</td>\n",
       "      <td>0.001567</td>\n",
       "    </tr>\n",
       "    <tr>\n",
       "      <th>5</th>\n",
       "      <td>0.087333</td>\n",
       "      <td>0.012849</td>\n",
       "      <td>0.067389</td>\n",
       "      <td>0.002201</td>\n",
       "    </tr>\n",
       "    <tr>\n",
       "      <th>6</th>\n",
       "      <td>0.088500</td>\n",
       "      <td>0.013973</td>\n",
       "      <td>0.065111</td>\n",
       "      <td>0.001391</td>\n",
       "    </tr>\n",
       "    <tr>\n",
       "      <th>7</th>\n",
       "      <td>0.086167</td>\n",
       "      <td>0.012803</td>\n",
       "      <td>0.063315</td>\n",
       "      <td>0.001793</td>\n",
       "    </tr>\n",
       "    <tr>\n",
       "      <th>8</th>\n",
       "      <td>0.085667</td>\n",
       "      <td>0.012893</td>\n",
       "      <td>0.062204</td>\n",
       "      <td>0.001696</td>\n",
       "    </tr>\n",
       "    <tr>\n",
       "      <th>9</th>\n",
       "      <td>0.085333</td>\n",
       "      <td>0.013577</td>\n",
       "      <td>0.060722</td>\n",
       "      <td>0.001583</td>\n",
       "    </tr>\n",
       "    <tr>\n",
       "      <th>10</th>\n",
       "      <td>0.083833</td>\n",
       "      <td>0.014945</td>\n",
       "      <td>0.059333</td>\n",
       "      <td>0.001841</td>\n",
       "    </tr>\n",
       "    <tr>\n",
       "      <th>11</th>\n",
       "      <td>0.084000</td>\n",
       "      <td>0.013544</td>\n",
       "      <td>0.058352</td>\n",
       "      <td>0.001990</td>\n",
       "    </tr>\n",
       "    <tr>\n",
       "      <th>12</th>\n",
       "      <td>0.082167</td>\n",
       "      <td>0.013643</td>\n",
       "      <td>0.057685</td>\n",
       "      <td>0.001346</td>\n",
       "    </tr>\n",
       "    <tr>\n",
       "      <th>13</th>\n",
       "      <td>0.082500</td>\n",
       "      <td>0.013086</td>\n",
       "      <td>0.056685</td>\n",
       "      <td>0.001392</td>\n",
       "    </tr>\n",
       "    <tr>\n",
       "      <th>14</th>\n",
       "      <td>0.084500</td>\n",
       "      <td>0.013521</td>\n",
       "      <td>0.055666</td>\n",
       "      <td>0.001570</td>\n",
       "    </tr>\n",
       "    <tr>\n",
       "      <th>15</th>\n",
       "      <td>0.084667</td>\n",
       "      <td>0.014753</td>\n",
       "      <td>0.054315</td>\n",
       "      <td>0.001413</td>\n",
       "    </tr>\n",
       "    <tr>\n",
       "      <th>16</th>\n",
       "      <td>0.083667</td>\n",
       "      <td>0.013881</td>\n",
       "      <td>0.053444</td>\n",
       "      <td>0.001559</td>\n",
       "    </tr>\n",
       "    <tr>\n",
       "      <th>17</th>\n",
       "      <td>0.083333</td>\n",
       "      <td>0.013519</td>\n",
       "      <td>0.052796</td>\n",
       "      <td>0.001268</td>\n",
       "    </tr>\n",
       "    <tr>\n",
       "      <th>18</th>\n",
       "      <td>0.082833</td>\n",
       "      <td>0.014221</td>\n",
       "      <td>0.051222</td>\n",
       "      <td>0.001610</td>\n",
       "    </tr>\n",
       "    <tr>\n",
       "      <th>19</th>\n",
       "      <td>0.082333</td>\n",
       "      <td>0.014322</td>\n",
       "      <td>0.050463</td>\n",
       "      <td>0.001336</td>\n",
       "    </tr>\n",
       "    <tr>\n",
       "      <th>20</th>\n",
       "      <td>0.081167</td>\n",
       "      <td>0.013355</td>\n",
       "      <td>0.048889</td>\n",
       "      <td>0.001846</td>\n",
       "    </tr>\n",
       "  </tbody>\n",
       "</table>\n",
       "</div>"
      ],
      "text/plain": [
       "    test-error-mean  test-error-std  train-error-mean  train-error-std\n",
       "0          0.098500        0.013405          0.081778         0.002034\n",
       "1          0.093500        0.014934          0.075555         0.001721\n",
       "2          0.093000        0.011827          0.072778         0.002155\n",
       "3          0.092667        0.011479          0.071037         0.001745\n",
       "4          0.089333        0.014087          0.068759         0.001567\n",
       "5          0.087333        0.012849          0.067389         0.002201\n",
       "6          0.088500        0.013973          0.065111         0.001391\n",
       "7          0.086167        0.012803          0.063315         0.001793\n",
       "8          0.085667        0.012893          0.062204         0.001696\n",
       "9          0.085333        0.013577          0.060722         0.001583\n",
       "10         0.083833        0.014945          0.059333         0.001841\n",
       "11         0.084000        0.013544          0.058352         0.001990\n",
       "12         0.082167        0.013643          0.057685         0.001346\n",
       "13         0.082500        0.013086          0.056685         0.001392\n",
       "14         0.084500        0.013521          0.055666         0.001570\n",
       "15         0.084667        0.014753          0.054315         0.001413\n",
       "16         0.083667        0.013881          0.053444         0.001559\n",
       "17         0.083333        0.013519          0.052796         0.001268\n",
       "18         0.082833        0.014221          0.051222         0.001610\n",
       "19         0.082333        0.014322          0.050463         0.001336\n",
       "20         0.081167        0.013355          0.048889         0.001846"
      ]
     },
     "execution_count": 9,
     "metadata": {},
     "output_type": "execute_result"
    }
   ],
   "source": [
    "d_all = xgb.DMatrix(X, label=y)\n",
    "\n",
    "xgb.cv(params, d_all, 500, nfold=10, metrics=['error'], shuffle=False, early_stopping_rounds=20, seed=42)"
   ]
  },
  {
   "cell_type": "code",
   "execution_count": null,
   "metadata": {
    "collapsed": true
   },
   "outputs": [],
   "source": []
  }
 ],
 "metadata": {
  "kernelspec": {
   "display_name": "Python 3",
   "language": "python",
   "name": "python3"
  },
  "language_info": {
   "codemirror_mode": {
    "name": "ipython",
    "version": 3
   },
   "file_extension": ".py",
   "mimetype": "text/x-python",
   "name": "python",
   "nbconvert_exporter": "python",
   "pygments_lexer": "ipython3",
   "version": "3.6.0"
  }
 },
 "nbformat": 4,
 "nbformat_minor": 2
}
