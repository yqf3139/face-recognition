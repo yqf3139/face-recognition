{
 "cells": [
  {
   "cell_type": "code",
   "execution_count": 1,
   "metadata": {
    "collapsed": false
   },
   "outputs": [
    {
     "name": "stderr",
     "output_type": "stream",
     "text": [
      "Using TensorFlow backend.\n"
     ]
    }
   ],
   "source": [
    "import pandas as pd\n",
    "import numpy as np\n",
    "import keras\n",
    "from keras.utils.data_utils import get_file\n",
    "from keras.preprocessing.image import array_to_img, img_to_array, load_img\n",
    "from os.path import join\n",
    "import multiprocessing\n",
    "from sklearn.preprocessing import LabelEncoder\n",
    "from sklearn.model_selection import train_test_split\n",
    "from scipy.stats import skew, kurtosis, tvar, entropy, pearsonr\n",
    "import keras.backend.tensorflow_backend as K\n",
    "\n",
    "%matplotlib inline"
   ]
  },
  {
   "cell_type": "code",
   "execution_count": 2,
   "metadata": {
    "collapsed": true
   },
   "outputs": [],
   "source": [
    "# DATA_HOME = '../lfw-aligned-cropped/'\n",
    "\n",
    "DATA_HOME = '../lfw-aligned-with-32-margin-resized/'"
   ]
  },
  {
   "cell_type": "code",
   "execution_count": 3,
   "metadata": {
    "collapsed": true
   },
   "outputs": [],
   "source": [
    "PAIRS_PATH = '../pairs.txt'"
   ]
  },
  {
   "cell_type": "code",
   "execution_count": 4,
   "metadata": {
    "collapsed": false
   },
   "outputs": [],
   "source": [
    "raw_dataset = pd.read_csv(PAIRS_PATH, nrows=None)\n",
    "raw_dataset.columns = ['data']"
   ]
  },
  {
   "cell_type": "code",
   "execution_count": 5,
   "metadata": {
    "collapsed": false
   },
   "outputs": [
    {
     "data": {
      "text/plain": [
       "(6000, 1)"
      ]
     },
     "execution_count": 5,
     "metadata": {},
     "output_type": "execute_result"
    }
   ],
   "source": [
    "raw_dataset.shape"
   ]
  },
  {
   "cell_type": "code",
   "execution_count": 6,
   "metadata": {
    "collapsed": true
   },
   "outputs": [],
   "source": [
    "raw_dataset = raw_dataset"
   ]
  },
  {
   "cell_type": "code",
   "execution_count": 7,
   "metadata": {
    "collapsed": false
   },
   "outputs": [],
   "source": [
    "def split_raw_data(row):\n",
    "    fields = str(row[0]).split('\\t')\n",
    "    is_the_same = 0\n",
    "    path1, path2 = '{}/{}_{:04d}.png', '{}/{}_{:04d}.png'\n",
    "    if len(fields) == 3:\n",
    "        is_the_same = 1\n",
    "        path1 = path1.format(fields[0], fields[0], int(fields[1]))\n",
    "        path2 = path2.format(fields[0], fields[0], int(fields[2]))\n",
    "    elif len(fields) == 4:\n",
    "        path1 = path1.format(fields[0], fields[0], int(fields[1]))\n",
    "        path2 = path2.format(fields[2], fields[2], int(fields[3]))\n",
    "    else:\n",
    "        raise(Exception('invalid fields'))\n",
    "    \n",
    "    return pd.Series([path1, path2, is_the_same], ['path1', 'path2', 'is_the_same']) "
   ]
  },
  {
   "cell_type": "code",
   "execution_count": 8,
   "metadata": {
    "collapsed": false
   },
   "outputs": [],
   "source": [
    "dataset = raw_dataset.apply(split_raw_data, axis=1)"
   ]
  },
  {
   "cell_type": "code",
   "execution_count": 9,
   "metadata": {
    "collapsed": false
   },
   "outputs": [
    {
     "data": {
      "text/html": [
       "<div>\n",
       "<table border=\"1\" class=\"dataframe\">\n",
       "  <thead>\n",
       "    <tr style=\"text-align: right;\">\n",
       "      <th></th>\n",
       "      <th>path1</th>\n",
       "      <th>path2</th>\n",
       "      <th>is_the_same</th>\n",
       "    </tr>\n",
       "  </thead>\n",
       "  <tbody>\n",
       "    <tr>\n",
       "      <th>0</th>\n",
       "      <td>Abel_Pacheco/Abel_Pacheco_0001.png</td>\n",
       "      <td>Abel_Pacheco/Abel_Pacheco_0004.png</td>\n",
       "      <td>1</td>\n",
       "    </tr>\n",
       "    <tr>\n",
       "      <th>1</th>\n",
       "      <td>Akhmed_Zakayev/Akhmed_Zakayev_0001.png</td>\n",
       "      <td>Akhmed_Zakayev/Akhmed_Zakayev_0003.png</td>\n",
       "      <td>1</td>\n",
       "    </tr>\n",
       "    <tr>\n",
       "      <th>2</th>\n",
       "      <td>Akhmed_Zakayev/Akhmed_Zakayev_0002.png</td>\n",
       "      <td>Akhmed_Zakayev/Akhmed_Zakayev_0003.png</td>\n",
       "      <td>1</td>\n",
       "    </tr>\n",
       "    <tr>\n",
       "      <th>3</th>\n",
       "      <td>Amber_Tamblyn/Amber_Tamblyn_0001.png</td>\n",
       "      <td>Amber_Tamblyn/Amber_Tamblyn_0002.png</td>\n",
       "      <td>1</td>\n",
       "    </tr>\n",
       "    <tr>\n",
       "      <th>4</th>\n",
       "      <td>Anders_Fogh_Rasmussen/Anders_Fogh_Rasmussen_00...</td>\n",
       "      <td>Anders_Fogh_Rasmussen/Anders_Fogh_Rasmussen_00...</td>\n",
       "      <td>1</td>\n",
       "    </tr>\n",
       "  </tbody>\n",
       "</table>\n",
       "</div>"
      ],
      "text/plain": [
       "                                               path1  \\\n",
       "0                 Abel_Pacheco/Abel_Pacheco_0001.png   \n",
       "1             Akhmed_Zakayev/Akhmed_Zakayev_0001.png   \n",
       "2             Akhmed_Zakayev/Akhmed_Zakayev_0002.png   \n",
       "3               Amber_Tamblyn/Amber_Tamblyn_0001.png   \n",
       "4  Anders_Fogh_Rasmussen/Anders_Fogh_Rasmussen_00...   \n",
       "\n",
       "                                               path2  is_the_same  \n",
       "0                 Abel_Pacheco/Abel_Pacheco_0004.png            1  \n",
       "1             Akhmed_Zakayev/Akhmed_Zakayev_0003.png            1  \n",
       "2             Akhmed_Zakayev/Akhmed_Zakayev_0003.png            1  \n",
       "3               Amber_Tamblyn/Amber_Tamblyn_0002.png            1  \n",
       "4  Anders_Fogh_Rasmussen/Anders_Fogh_Rasmussen_00...            1  "
      ]
     },
     "execution_count": 9,
     "metadata": {},
     "output_type": "execute_result"
    }
   ],
   "source": [
    "dataset.head()"
   ]
  },
  {
   "cell_type": "code",
   "execution_count": 10,
   "metadata": {
    "collapsed": false
   },
   "outputs": [
    {
     "data": {
      "text/plain": [
       "(6000, 3)"
      ]
     },
     "execution_count": 10,
     "metadata": {},
     "output_type": "execute_result"
    }
   ],
   "source": [
    "dataset.shape"
   ]
  },
  {
   "cell_type": "code",
   "execution_count": 11,
   "metadata": {
    "collapsed": true
   },
   "outputs": [],
   "source": [
    "def path2ImgVec(path):\n",
    "    x = img_to_array(load_img(join(DATA_HOME, path)))\n",
    "#     x = img_to_array(load_img(join(DATA_HOME, path)).convert('L'))\n",
    "    return x.reshape((1,) + x.shape)"
   ]
  },
  {
   "cell_type": "code",
   "execution_count": 12,
   "metadata": {
    "collapsed": false
   },
   "outputs": [
    {
     "data": {
      "text/plain": [
       "7701"
      ]
     },
     "execution_count": 12,
     "metadata": {},
     "output_type": "execute_result"
    }
   ],
   "source": [
    "img_paths = list(set(dataset.path1.tolist()+dataset.path2.tolist()))\n",
    "len(img_paths)"
   ]
  },
  {
   "cell_type": "code",
   "execution_count": 13,
   "metadata": {
    "collapsed": false
   },
   "outputs": [],
   "source": [
    "pool = multiprocessing.Pool(8)\n",
    "results = pool.map(path2ImgVec, img_paths)\n",
    "pool.close()\n",
    "pool.join()"
   ]
  },
  {
   "cell_type": "code",
   "execution_count": 14,
   "metadata": {
    "collapsed": false
   },
   "outputs": [
    {
     "data": {
      "text/plain": [
       "(7701, 55, 47, 3)"
      ]
     },
     "execution_count": 14,
     "metadata": {},
     "output_type": "execute_result"
    }
   ],
   "source": [
    "img_vecs = np.vstack(results)\n",
    "img_vecs.shape"
   ]
  },
  {
   "cell_type": "code",
   "execution_count": 15,
   "metadata": {
    "collapsed": false
   },
   "outputs": [
    {
     "data": {
      "text/plain": [
       "(7701, 55, 47, 3)"
      ]
     },
     "execution_count": 15,
     "metadata": {},
     "output_type": "execute_result"
    }
   ],
   "source": [
    "input_shape = img_vecs.shape[1:]\n",
    "img_vecs.shape"
   ]
  },
  {
   "cell_type": "code",
   "execution_count": 16,
   "metadata": {
    "collapsed": false
   },
   "outputs": [],
   "source": [
    "from keras.models import load_model\n",
    "\n",
    "# model = load_model('../models/facescrub-faceonly-simple-cnn.model.h5')\n",
    "# 0.250667\t0.014855\t0.240852\t0.003922\n",
    "\n",
    "# model = load_model('../models/webface-simple-cnn.3348.model.h5')\n",
    "# 0.258\t0.012423\t0.247926\t0.001509\n",
    "\n",
    "# model = load_model('../models/webface-simple-cnn.aligned.margin16.model.h5')\n",
    "# 0.188000\t0.009123\t0.174352\t0.001018\n",
    "\n",
    "# model = load_model('../models/webface-simple-cnn.aligned.margin32-1.model.h5')\n",
    "# 0.158667\t0.009684\t0.149889\t0.001223\n",
    "\n",
    "# model = load_model('../models/webface-facescrub-faceonly-simple-cnn.aligned.model.h5')\n",
    "# 0.146333\t0.015720\t0.137333\t0.002688\n",
    "\n",
    "# model = load_model('../models/webface-facescrub-faceonly-simple-cnn.aligned.selected.model.h5')\n",
    "# 0.149667\t0.012601\t0.119389\t0.002129\n",
    "\n",
    "# model = load_model('../models/webface-facescrub-faceonly-simple-cnn.aligned.augment.model.h5')\n",
    "\n",
    "# model = load_model('../models/webface-facescrub-faceonly-simple-cnn.aligned.flipped.model.h5')\n",
    "# with <6 augmentation\n",
    "# 0.131\t0.010220\t0.099037\t0.002640\n",
    "\n",
    "# model = load_model('../models/webface-full-simple-cnn.aligned.margin32.model.h5')\n",
    "# about 60% data ?\n",
    "# 0.111667\t0.011571\t0.099852\t0.002124\n",
    "# All data\n",
    "# 0.102500\t0.011908\t0.065889\t0.001608\n",
    "\n",
    "# model = load_model('../models/webface-full-simple-cnn.aligned.margin32.grey.model.h5')\n",
    "# All data\n",
    "# 0.114000\t0.012936\t0.094685\t0.001828\n",
    "# All data + flipped\n",
    "# 0.106500\t0.011772\t0.081500\t0.002122\n",
    "\n",
    "# model = load_model('../models/celeba-full-simple-cnn.aligned.margin32.model.h5')\n",
    "# 0.139167 \t0.018488 \t0.131982 \t0.002264\n",
    "\n",
    "model = load_model('../models/celeba-full-simple-cnn.aligned.margin32.flipped.model.h5')\n",
    "# 0.126500 \t0.009957 \t0.114055 \t0.002217"
   ]
  },
  {
   "cell_type": "code",
   "execution_count": 17,
   "metadata": {
    "collapsed": true
   },
   "outputs": [],
   "source": [
    "from keras import backend as K\n",
    "inp = model.input\n",
    "# outputs = [layer.output for layer in model.layers]\n",
    "outputs = [model.layers[-2].output]\n",
    "functor = K.function([inp] + [K.learning_phase()], outputs)"
   ]
  },
  {
   "cell_type": "code",
   "execution_count": 18,
   "metadata": {
    "collapsed": false
   },
   "outputs": [],
   "source": [
    "deepids = functor([img_vecs, 1.])[0]"
   ]
  },
  {
   "cell_type": "code",
   "execution_count": 19,
   "metadata": {
    "collapsed": false
   },
   "outputs": [
    {
     "data": {
      "text/plain": [
       "(7701, 160)"
      ]
     },
     "execution_count": 19,
     "metadata": {},
     "output_type": "execute_result"
    }
   ],
   "source": [
    "deepids.shape"
   ]
  },
  {
   "cell_type": "code",
   "execution_count": 20,
   "metadata": {
    "collapsed": true
   },
   "outputs": [],
   "source": [
    "img_deepid_mem = {k:v for k, v in zip(img_paths, deepids)}"
   ]
  },
  {
   "cell_type": "code",
   "execution_count": 21,
   "metadata": {
    "collapsed": true
   },
   "outputs": [],
   "source": [
    "from scipy.spatial.distance import cosine, cityblock, jaccard, canberra, euclidean, minkowski, braycurtis\n",
    "\n",
    "COL_NAMES = [\n",
    "    \"z_cosine\",\n",
    "#     'z_cityblock',\n",
    "#     'z_jaccard',\n",
    "#     \"z_canberra\",\n",
    "#     \"z_euclidean\",\n",
    "#     \"z_minkowski\",\n",
    "#     \"z_braycurtis\",\n",
    "    'z_skew1',\n",
    "    'z_skew2',\n",
    "    'z_kurtosis1',\n",
    "    'z_kurtosis2',\n",
    "    'z_tvar1',\n",
    "    'z_tvar2',\n",
    "] + ['is_the_same']\n",
    "\n",
    "def to_deepid_features(row):\n",
    "    vec1 = img_deepid_mem[row['path1']]\n",
    "    vec2 = img_deepid_mem[row['path2']]\n",
    "\n",
    "    feats = [\n",
    "        cosine(vec1, vec2),\n",
    "#         cityblock(vec1, vec2),\n",
    "#         jaccard(vec1, vec2),\n",
    "#         canberra(vec1, vec2),\n",
    "#         euclidean(vec1, vec2),\n",
    "#         minkowski(vec1, vec2, 3),\n",
    "#         braycurtis(vec1, vec2),\n",
    "        skew(vec1),\n",
    "        skew(vec2),\n",
    "        kurtosis(vec1),\n",
    "        kurtosis(vec2),\n",
    "        tvar(vec1),\n",
    "        tvar(vec2),\n",
    "    ]\n",
    "    \n",
    "    return pd.Series(feats + [row['is_the_same']], COL_NAMES) "
   ]
  },
  {
   "cell_type": "code",
   "execution_count": 22,
   "metadata": {
    "collapsed": false
   },
   "outputs": [],
   "source": [
    "feat_dataset = dataset.apply(to_deepid_features, axis=1)"
   ]
  },
  {
   "cell_type": "code",
   "execution_count": 23,
   "metadata": {
    "collapsed": false
   },
   "outputs": [
    {
     "data": {
      "text/html": [
       "<div>\n",
       "<table border=\"1\" class=\"dataframe\">\n",
       "  <thead>\n",
       "    <tr style=\"text-align: right;\">\n",
       "      <th></th>\n",
       "      <th>z_cosine</th>\n",
       "      <th>z_skew1</th>\n",
       "      <th>z_skew2</th>\n",
       "      <th>z_kurtosis1</th>\n",
       "      <th>z_kurtosis2</th>\n",
       "      <th>z_tvar1</th>\n",
       "      <th>z_tvar2</th>\n",
       "      <th>is_the_same</th>\n",
       "    </tr>\n",
       "  </thead>\n",
       "  <tbody>\n",
       "    <tr>\n",
       "      <th>0</th>\n",
       "      <td>0.362384</td>\n",
       "      <td>0.999262</td>\n",
       "      <td>1.654588</td>\n",
       "      <td>0.200159</td>\n",
       "      <td>2.966799</td>\n",
       "      <td>5.329273</td>\n",
       "      <td>4.967139</td>\n",
       "      <td>1.0</td>\n",
       "    </tr>\n",
       "    <tr>\n",
       "      <th>1</th>\n",
       "      <td>0.231370</td>\n",
       "      <td>1.491770</td>\n",
       "      <td>1.251258</td>\n",
       "      <td>2.352426</td>\n",
       "      <td>1.113302</td>\n",
       "      <td>6.031879</td>\n",
       "      <td>6.540786</td>\n",
       "      <td>1.0</td>\n",
       "    </tr>\n",
       "    <tr>\n",
       "      <th>2</th>\n",
       "      <td>0.299138</td>\n",
       "      <td>1.048399</td>\n",
       "      <td>1.251258</td>\n",
       "      <td>0.340302</td>\n",
       "      <td>1.113302</td>\n",
       "      <td>5.273843</td>\n",
       "      <td>6.540786</td>\n",
       "      <td>1.0</td>\n",
       "    </tr>\n",
       "    <tr>\n",
       "      <th>3</th>\n",
       "      <td>0.283192</td>\n",
       "      <td>1.179446</td>\n",
       "      <td>1.430924</td>\n",
       "      <td>0.723024</td>\n",
       "      <td>1.570865</td>\n",
       "      <td>5.559680</td>\n",
       "      <td>6.955365</td>\n",
       "      <td>1.0</td>\n",
       "    </tr>\n",
       "    <tr>\n",
       "      <th>4</th>\n",
       "      <td>0.387665</td>\n",
       "      <td>0.832099</td>\n",
       "      <td>1.421436</td>\n",
       "      <td>-0.331450</td>\n",
       "      <td>1.448811</td>\n",
       "      <td>4.121496</td>\n",
       "      <td>7.105075</td>\n",
       "      <td>1.0</td>\n",
       "    </tr>\n",
       "  </tbody>\n",
       "</table>\n",
       "</div>"
      ],
      "text/plain": [
       "   z_cosine   z_skew1   z_skew2  z_kurtosis1  z_kurtosis2   z_tvar1   z_tvar2  \\\n",
       "0  0.362384  0.999262  1.654588     0.200159     2.966799  5.329273  4.967139   \n",
       "1  0.231370  1.491770  1.251258     2.352426     1.113302  6.031879  6.540786   \n",
       "2  0.299138  1.048399  1.251258     0.340302     1.113302  5.273843  6.540786   \n",
       "3  0.283192  1.179446  1.430924     0.723024     1.570865  5.559680  6.955365   \n",
       "4  0.387665  0.832099  1.421436    -0.331450     1.448811  4.121496  7.105075   \n",
       "\n",
       "   is_the_same  \n",
       "0          1.0  \n",
       "1          1.0  \n",
       "2          1.0  \n",
       "3          1.0  \n",
       "4          1.0  "
      ]
     },
     "execution_count": 23,
     "metadata": {},
     "output_type": "execute_result"
    }
   ],
   "source": [
    "feat_dataset.head()"
   ]
  },
  {
   "cell_type": "code",
   "execution_count": 24,
   "metadata": {
    "collapsed": false
   },
   "outputs": [],
   "source": [
    "col = [c for c in feat_dataset.columns if c[0]=='z']\n",
    "\n",
    "X = feat_dataset[col].as_matrix()\n",
    "y = feat_dataset['is_the_same'].as_matrix()"
   ]
  },
  {
   "cell_type": "code",
   "execution_count": 25,
   "metadata": {
    "collapsed": false
   },
   "outputs": [
    {
     "data": {
      "text/plain": [
       "array([ 0.36238432,  0.99926203,  1.65458798,  0.20015854,  2.96679861,\n",
       "        5.32927313,  4.96713878])"
      ]
     },
     "execution_count": 25,
     "metadata": {},
     "output_type": "execute_result"
    }
   ],
   "source": [
    "X[0]"
   ]
  },
  {
   "cell_type": "code",
   "execution_count": 26,
   "metadata": {
    "collapsed": true
   },
   "outputs": [],
   "source": [
    "X_train, X_valid, y_train, y_valid = train_test_split(X, y, test_size=0.1, random_state=42)"
   ]
  },
  {
   "cell_type": "code",
   "execution_count": 27,
   "metadata": {
    "collapsed": false
   },
   "outputs": [
    {
     "name": "stdout",
     "output_type": "stream",
     "text": [
      "[0]\ttrain-logloss:0.528287\ttrain-error:0.122222\tvalid-logloss:0.531138\tvalid-error:0.133333\n",
      "Multiple eval metrics have been passed: 'valid-error' will be used for early stopping.\n",
      "\n",
      "Will train until valid-error hasn't improved in 50 rounds.\n",
      "[100]\ttrain-logloss:0.154764\ttrain-error:0.053704\tvalid-logloss:0.274963\tvalid-error:0.123333\n",
      "Stopping. Best iteration:\n",
      "[52]\ttrain-logloss:0.200458\ttrain-error:0.082407\tvalid-logloss:0.271149\tvalid-error:0.113333\n",
      "\n"
     ]
    }
   ],
   "source": [
    "import xgboost as xgb\n",
    "params = {}\n",
    "params[\"objective\"] = \"binary:logistic\"\n",
    "params['eval_metric'] = ['logloss', 'error']\n",
    "# params[\"eta\"] = 0.02\n",
    "# params[\"subsample\"] = 0.7\n",
    "# params[\"min_child_weight\"] = 1\n",
    "# params[\"colsample_bytree\"] = 0.7\n",
    "params[\"max_depth\"] = 4\n",
    "# params[\"silent\"] = 1\n",
    "params[\"seed\"] = 1632\n",
    "\n",
    "d_train = xgb.DMatrix(X_train, label=y_train)\n",
    "d_valid = xgb.DMatrix(X_valid, label=y_valid)\n",
    "watchlist = [(d_train, 'train'), (d_valid, 'valid')]\n",
    "bst = xgb.train(params, d_train, 500, watchlist, early_stopping_rounds=50, verbose_eval=100)"
   ]
  },
  {
   "cell_type": "code",
   "execution_count": 28,
   "metadata": {
    "collapsed": false
   },
   "outputs": [
    {
     "data": {
      "text/html": [
       "<div>\n",
       "<table border=\"1\" class=\"dataframe\">\n",
       "  <thead>\n",
       "    <tr style=\"text-align: right;\">\n",
       "      <th></th>\n",
       "      <th>test-error-mean</th>\n",
       "      <th>test-error-std</th>\n",
       "      <th>train-error-mean</th>\n",
       "      <th>train-error-std</th>\n",
       "    </tr>\n",
       "  </thead>\n",
       "  <tbody>\n",
       "    <tr>\n",
       "      <th>0</th>\n",
       "      <td>0.136167</td>\n",
       "      <td>0.008368</td>\n",
       "      <td>0.120630</td>\n",
       "      <td>0.002064</td>\n",
       "    </tr>\n",
       "    <tr>\n",
       "      <th>1</th>\n",
       "      <td>0.129333</td>\n",
       "      <td>0.008981</td>\n",
       "      <td>0.118241</td>\n",
       "      <td>0.002950</td>\n",
       "    </tr>\n",
       "    <tr>\n",
       "      <th>2</th>\n",
       "      <td>0.126833</td>\n",
       "      <td>0.008415</td>\n",
       "      <td>0.117407</td>\n",
       "      <td>0.002311</td>\n",
       "    </tr>\n",
       "    <tr>\n",
       "      <th>3</th>\n",
       "      <td>0.127333</td>\n",
       "      <td>0.008373</td>\n",
       "      <td>0.116130</td>\n",
       "      <td>0.001959</td>\n",
       "    </tr>\n",
       "    <tr>\n",
       "      <th>4</th>\n",
       "      <td>0.127333</td>\n",
       "      <td>0.008762</td>\n",
       "      <td>0.115574</td>\n",
       "      <td>0.001742</td>\n",
       "    </tr>\n",
       "    <tr>\n",
       "      <th>5</th>\n",
       "      <td>0.126833</td>\n",
       "      <td>0.008112</td>\n",
       "      <td>0.115074</td>\n",
       "      <td>0.001807</td>\n",
       "    </tr>\n",
       "    <tr>\n",
       "      <th>6</th>\n",
       "      <td>0.127333</td>\n",
       "      <td>0.008439</td>\n",
       "      <td>0.114666</td>\n",
       "      <td>0.001929</td>\n",
       "    </tr>\n",
       "    <tr>\n",
       "      <th>7</th>\n",
       "      <td>0.126500</td>\n",
       "      <td>0.009957</td>\n",
       "      <td>0.114055</td>\n",
       "      <td>0.002217</td>\n",
       "    </tr>\n",
       "  </tbody>\n",
       "</table>\n",
       "</div>"
      ],
      "text/plain": [
       "   test-error-mean  test-error-std  train-error-mean  train-error-std\n",
       "0         0.136167        0.008368          0.120630         0.002064\n",
       "1         0.129333        0.008981          0.118241         0.002950\n",
       "2         0.126833        0.008415          0.117407         0.002311\n",
       "3         0.127333        0.008373          0.116130         0.001959\n",
       "4         0.127333        0.008762          0.115574         0.001742\n",
       "5         0.126833        0.008112          0.115074         0.001807\n",
       "6         0.127333        0.008439          0.114666         0.001929\n",
       "7         0.126500        0.009957          0.114055         0.002217"
      ]
     },
     "execution_count": 28,
     "metadata": {},
     "output_type": "execute_result"
    }
   ],
   "source": [
    "d_all = xgb.DMatrix(X, label=y)\n",
    "\n",
    "xgb.cv(params, d_all, 500, nfold=10, metrics=['error'], shuffle=False, early_stopping_rounds=20, seed=42)"
   ]
  },
  {
   "cell_type": "code",
   "execution_count": null,
   "metadata": {
    "collapsed": true
   },
   "outputs": [],
   "source": []
  }
 ],
 "metadata": {
  "kernelspec": {
   "display_name": "Python 3",
   "language": "python",
   "name": "python3"
  },
  "language_info": {
   "codemirror_mode": {
    "name": "ipython",
    "version": 3
   },
   "file_extension": ".py",
   "mimetype": "text/x-python",
   "name": "python",
   "nbconvert_exporter": "python",
   "pygments_lexer": "ipython3",
   "version": "3.6.0"
  }
 },
 "nbformat": 4,
 "nbformat_minor": 2
}
