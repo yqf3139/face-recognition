{
 "cells": [
  {
   "cell_type": "code",
   "execution_count": 1,
   "metadata": {
    "collapsed": false
   },
   "outputs": [
    {
     "name": "stderr",
     "output_type": "stream",
     "text": [
      "Using TensorFlow backend.\n"
     ]
    }
   ],
   "source": [
    "import pandas as pd\n",
    "import numpy as np\n",
    "import keras\n",
    "from keras.utils.data_utils import get_file\n",
    "from keras.preprocessing.image import array_to_img, img_to_array, load_img\n",
    "from os.path import join\n",
    "import multiprocessing\n",
    "from sklearn.preprocessing import LabelEncoder\n",
    "from sklearn.model_selection import train_test_split\n",
    "from scipy.stats import skew, kurtosis, tvar, entropy, pearsonr\n",
    "import keras.backend.tensorflow_backend as K\n",
    "\n",
    "%matplotlib inline"
   ]
  },
  {
   "cell_type": "code",
   "execution_count": 2,
   "metadata": {
    "collapsed": true
   },
   "outputs": [],
   "source": [
    "# DATA_HOME = '../lfw-aligned-cropped/'\n",
    "\n",
    "DATA_HOME = '../lfw-aligned-with-32-margin-resized/'"
   ]
  },
  {
   "cell_type": "code",
   "execution_count": 3,
   "metadata": {
    "collapsed": true
   },
   "outputs": [],
   "source": [
    "PAIRS_PATH = '../pairs.txt'"
   ]
  },
  {
   "cell_type": "code",
   "execution_count": 4,
   "metadata": {
    "collapsed": false
   },
   "outputs": [],
   "source": [
    "raw_dataset = pd.read_csv(PAIRS_PATH, nrows=None)\n",
    "raw_dataset.columns = ['data']"
   ]
  },
  {
   "cell_type": "code",
   "execution_count": 5,
   "metadata": {
    "collapsed": false
   },
   "outputs": [
    {
     "data": {
      "text/plain": [
       "(6000, 1)"
      ]
     },
     "execution_count": 5,
     "metadata": {},
     "output_type": "execute_result"
    }
   ],
   "source": [
    "raw_dataset.shape"
   ]
  },
  {
   "cell_type": "code",
   "execution_count": 6,
   "metadata": {
    "collapsed": true
   },
   "outputs": [],
   "source": [
    "raw_dataset = raw_dataset"
   ]
  },
  {
   "cell_type": "code",
   "execution_count": 7,
   "metadata": {
    "collapsed": false
   },
   "outputs": [],
   "source": [
    "def split_raw_data(row):\n",
    "    fields = str(row[0]).split('\\t')\n",
    "    is_the_same = 0\n",
    "    path1, path2 = '{}/{}_{:04d}.png', '{}/{}_{:04d}.png'\n",
    "    if len(fields) == 3:\n",
    "        is_the_same = 1\n",
    "        path1 = path1.format(fields[0], fields[0], int(fields[1]))\n",
    "        path2 = path2.format(fields[0], fields[0], int(fields[2]))\n",
    "    elif len(fields) == 4:\n",
    "        path1 = path1.format(fields[0], fields[0], int(fields[1]))\n",
    "        path2 = path2.format(fields[2], fields[2], int(fields[3]))\n",
    "    else:\n",
    "        raise(Exception('invalid fields'))\n",
    "    \n",
    "    return pd.Series([path1, path2, is_the_same], ['path1', 'path2', 'is_the_same']) "
   ]
  },
  {
   "cell_type": "code",
   "execution_count": 8,
   "metadata": {
    "collapsed": false
   },
   "outputs": [],
   "source": [
    "dataset = raw_dataset.apply(split_raw_data, axis=1)"
   ]
  },
  {
   "cell_type": "code",
   "execution_count": 9,
   "metadata": {
    "collapsed": false
   },
   "outputs": [
    {
     "data": {
      "text/html": [
       "<div>\n",
       "<table border=\"1\" class=\"dataframe\">\n",
       "  <thead>\n",
       "    <tr style=\"text-align: right;\">\n",
       "      <th></th>\n",
       "      <th>path1</th>\n",
       "      <th>path2</th>\n",
       "      <th>is_the_same</th>\n",
       "    </tr>\n",
       "  </thead>\n",
       "  <tbody>\n",
       "    <tr>\n",
       "      <th>0</th>\n",
       "      <td>Abel_Pacheco/Abel_Pacheco_0001.png</td>\n",
       "      <td>Abel_Pacheco/Abel_Pacheco_0004.png</td>\n",
       "      <td>1</td>\n",
       "    </tr>\n",
       "    <tr>\n",
       "      <th>1</th>\n",
       "      <td>Akhmed_Zakayev/Akhmed_Zakayev_0001.png</td>\n",
       "      <td>Akhmed_Zakayev/Akhmed_Zakayev_0003.png</td>\n",
       "      <td>1</td>\n",
       "    </tr>\n",
       "    <tr>\n",
       "      <th>2</th>\n",
       "      <td>Akhmed_Zakayev/Akhmed_Zakayev_0002.png</td>\n",
       "      <td>Akhmed_Zakayev/Akhmed_Zakayev_0003.png</td>\n",
       "      <td>1</td>\n",
       "    </tr>\n",
       "    <tr>\n",
       "      <th>3</th>\n",
       "      <td>Amber_Tamblyn/Amber_Tamblyn_0001.png</td>\n",
       "      <td>Amber_Tamblyn/Amber_Tamblyn_0002.png</td>\n",
       "      <td>1</td>\n",
       "    </tr>\n",
       "    <tr>\n",
       "      <th>4</th>\n",
       "      <td>Anders_Fogh_Rasmussen/Anders_Fogh_Rasmussen_00...</td>\n",
       "      <td>Anders_Fogh_Rasmussen/Anders_Fogh_Rasmussen_00...</td>\n",
       "      <td>1</td>\n",
       "    </tr>\n",
       "  </tbody>\n",
       "</table>\n",
       "</div>"
      ],
      "text/plain": [
       "                                               path1  \\\n",
       "0                 Abel_Pacheco/Abel_Pacheco_0001.png   \n",
       "1             Akhmed_Zakayev/Akhmed_Zakayev_0001.png   \n",
       "2             Akhmed_Zakayev/Akhmed_Zakayev_0002.png   \n",
       "3               Amber_Tamblyn/Amber_Tamblyn_0001.png   \n",
       "4  Anders_Fogh_Rasmussen/Anders_Fogh_Rasmussen_00...   \n",
       "\n",
       "                                               path2  is_the_same  \n",
       "0                 Abel_Pacheco/Abel_Pacheco_0004.png            1  \n",
       "1             Akhmed_Zakayev/Akhmed_Zakayev_0003.png            1  \n",
       "2             Akhmed_Zakayev/Akhmed_Zakayev_0003.png            1  \n",
       "3               Amber_Tamblyn/Amber_Tamblyn_0002.png            1  \n",
       "4  Anders_Fogh_Rasmussen/Anders_Fogh_Rasmussen_00...            1  "
      ]
     },
     "execution_count": 9,
     "metadata": {},
     "output_type": "execute_result"
    }
   ],
   "source": [
    "dataset.head()"
   ]
  },
  {
   "cell_type": "code",
   "execution_count": 10,
   "metadata": {
    "collapsed": false
   },
   "outputs": [
    {
     "data": {
      "text/plain": [
       "(6000, 3)"
      ]
     },
     "execution_count": 10,
     "metadata": {},
     "output_type": "execute_result"
    }
   ],
   "source": [
    "dataset.shape"
   ]
  },
  {
   "cell_type": "code",
   "execution_count": 11,
   "metadata": {
    "collapsed": true
   },
   "outputs": [],
   "source": [
    "def path2ImgVec(path):\n",
    "#     x = img_to_array(load_img(join(DATA_HOME, path)))\n",
    "    x = img_to_array(load_img(join(DATA_HOME, path)).convert('L'))\n",
    "    return x.reshape((1,) + x.shape)"
   ]
  },
  {
   "cell_type": "code",
   "execution_count": 12,
   "metadata": {
    "collapsed": false
   },
   "outputs": [
    {
     "data": {
      "text/plain": [
       "7701"
      ]
     },
     "execution_count": 12,
     "metadata": {},
     "output_type": "execute_result"
    }
   ],
   "source": [
    "img_paths = list(set(dataset.path1.tolist()+dataset.path2.tolist()))\n",
    "len(img_paths)"
   ]
  },
  {
   "cell_type": "code",
   "execution_count": 13,
   "metadata": {
    "collapsed": false
   },
   "outputs": [],
   "source": [
    "pool = multiprocessing.Pool(8)\n",
    "results = pool.map(path2ImgVec, img_paths)\n",
    "pool.close()\n",
    "pool.join()"
   ]
  },
  {
   "cell_type": "code",
   "execution_count": 14,
   "metadata": {
    "collapsed": false
   },
   "outputs": [
    {
     "data": {
      "text/plain": [
       "(7701, 55, 47, 1)"
      ]
     },
     "execution_count": 14,
     "metadata": {},
     "output_type": "execute_result"
    }
   ],
   "source": [
    "img_vecs = np.vstack(results)\n",
    "img_vecs.shape"
   ]
  },
  {
   "cell_type": "code",
   "execution_count": 15,
   "metadata": {
    "collapsed": false
   },
   "outputs": [
    {
     "data": {
      "text/plain": [
       "(7701, 55, 47, 1)"
      ]
     },
     "execution_count": 15,
     "metadata": {},
     "output_type": "execute_result"
    }
   ],
   "source": [
    "input_shape = img_vecs.shape[1:]\n",
    "img_vecs.shape"
   ]
  },
  {
   "cell_type": "code",
   "execution_count": 16,
   "metadata": {
    "collapsed": false
   },
   "outputs": [],
   "source": [
    "from keras.models import load_model\n",
    "\n",
    "# model = load_model('../models/facescrub-faceonly-simple-cnn.model.h5')\n",
    "# 0.250667\t0.014855\t0.240852\t0.003922\n",
    "\n",
    "# model = load_model('../models/webface-simple-cnn.3348.model.h5')\n",
    "# 0.258\t0.012423\t0.247926\t0.001509\n",
    "\n",
    "# model = load_model('../models/webface-simple-cnn.aligned.margin16.model.h5')\n",
    "# 0.188000\t0.009123\t0.174352\t0.001018\n",
    "\n",
    "# model = load_model('../models/webface-simple-cnn.aligned.margin32-1.model.h5')\n",
    "# 0.158667\t0.009684\t0.149889\t0.001223\n",
    "\n",
    "# model = load_model('../models/webface-facescrub-faceonly-simple-cnn.aligned.model.h5')\n",
    "# 0.146333\t0.015720\t0.137333\t0.002688\n",
    "\n",
    "# model = load_model('../models/webface-facescrub-faceonly-simple-cnn.aligned.selected.model.h5')\n",
    "# 0.149667\t0.012601\t0.119389\t0.002129\n",
    "\n",
    "# model = load_model('../models/webface-facescrub-faceonly-simple-cnn.aligned.augment.model.h5')\n",
    "\n",
    "# model = load_model('../models/webface-facescrub-faceonly-simple-cnn.aligned.flipped.model.h5')\n",
    "# with <6 augmentation\n",
    "# 0.131\t0.010220\t0.099037\t0.002640\n",
    "\n",
    "# model = load_model('../models/webface-full-simple-cnn.aligned.margin32.model.h5')\n",
    "# about 60% data ?\n",
    "# 0.111667\t0.011571\t0.099852\t0.002124\n",
    "# All data\n",
    "#*0.102500\t0.011908\t0.065889\t0.001608\n",
    "\n",
    "# model = load_model('../models/webface-full-simple-cnn.aligned.margin32.s20.model.h5')\n",
    "# 0.100333\t0.013392\t0.082704\t0.001788\n",
    "\n",
    "# model = load_model('../models/webface-full-simple-cnn.aligned.margin32.grey.model.h5')\n",
    "# All data\n",
    "# 0.114000\t0.012936\t0.094685\t0.001828\n",
    "# All data + flipped\n",
    "# 0.106500\t0.011772\t0.081500\t0.002122\n",
    "# 0.105167\t0.010735\t0.089592\t0.001551\n",
    "\n",
    "# model = load_model('../models/celeba-full-simple-cnn.aligned.margin32.model.h5')\n",
    "# 0.139167 \t0.018488 \t0.131982 \t0.002264\n",
    "\n",
    "# model = load_model('../models/celeba-full-simple-cnn.aligned.margin32.flipped.model.h5')\n",
    "# 0.126500 \t0.009957 \t0.114055 \t0.002217\n",
    "\n",
    "# model = load_model('../models/webface-full-celeba-simple-cnn.aligned.margin32.grey.model.h5')\n",
    "# 0.107333\t0.013085\t0.089500\t0.001393\n",
    "\n",
    "model = load_model('../models/webface-full-celeba-simple-cnn.aligned.margin32.grey.flipped.s20.model.h5')\n",
    "# 0.101000\t0.013646\t0.088574\t0.002227\n",
    "# 0.098667\t0.014020\t0.082630\t0.001580\n",
    "# 0.098333\t0.013333\t0.082704\t0.001736\n",
    "# 0.100500\t0.009547\t0.090111\t0.001466\n",
    "# 0.093667\t0.010214\t0.065185\t0.001320"
   ]
  },
  {
   "cell_type": "code",
   "execution_count": 17,
   "metadata": {
    "collapsed": true
   },
   "outputs": [],
   "source": [
    "from keras import backend as K\n",
    "inp = model.input\n",
    "# outputs = [layer.output for layer in model.layers]\n",
    "outputs = [model.layers[-2].output]\n",
    "functor = K.function([inp] + [K.learning_phase()], outputs)"
   ]
  },
  {
   "cell_type": "code",
   "execution_count": 18,
   "metadata": {
    "collapsed": false
   },
   "outputs": [],
   "source": [
    "deepids = functor([img_vecs, 1.])[0]"
   ]
  },
  {
   "cell_type": "code",
   "execution_count": 19,
   "metadata": {
    "collapsed": false
   },
   "outputs": [
    {
     "data": {
      "text/plain": [
       "(7701, 160)"
      ]
     },
     "execution_count": 19,
     "metadata": {},
     "output_type": "execute_result"
    }
   ],
   "source": [
    "deepids.shape"
   ]
  },
  {
   "cell_type": "code",
   "execution_count": 20,
   "metadata": {
    "collapsed": true
   },
   "outputs": [],
   "source": [
    "img_deepid_mem = {k:v for k, v in zip(img_paths, deepids)}"
   ]
  },
  {
   "cell_type": "code",
   "execution_count": 21,
   "metadata": {
    "collapsed": true
   },
   "outputs": [],
   "source": [
    "from scipy.spatial.distance import cosine, cityblock, jaccard, canberra, euclidean, minkowski, braycurtis\n",
    "\n",
    "COL_NAMES = [\n",
    "    \"z_cosine\",\n",
    "#     'z_cityblock',\n",
    "#     'z_jaccard',\n",
    "#     \"z_canberra\",\n",
    "#     \"z_euclidean\",\n",
    "#     \"z_minkowski\",\n",
    "#     \"z_braycurtis\",\n",
    "    'z_skew1',\n",
    "    'z_skew2',\n",
    "    'z_kurtosis1',\n",
    "    'z_kurtosis2',\n",
    "    'z_tvar1',\n",
    "    'z_tvar2',\n",
    "] + ['is_the_same']\n",
    "\n",
    "def to_deepid_features(row):\n",
    "    vec1 = img_deepid_mem[row['path1']]\n",
    "    vec2 = img_deepid_mem[row['path2']]\n",
    "\n",
    "    feats = [\n",
    "        cosine(vec1, vec2),\n",
    "#         cityblock(vec1, vec2),\n",
    "#         jaccard(vec1, vec2),\n",
    "#         canberra(vec1, vec2),\n",
    "#         euclidean(vec1, vec2),\n",
    "#         minkowski(vec1, vec2, 3),\n",
    "#         braycurtis(vec1, vec2),\n",
    "        skew(vec1),\n",
    "        skew(vec2),\n",
    "        kurtosis(vec1),\n",
    "        kurtosis(vec2),\n",
    "        tvar(vec1),\n",
    "        tvar(vec2),\n",
    "    ]\n",
    "    \n",
    "    return pd.Series(feats + [row['is_the_same']], COL_NAMES) "
   ]
  },
  {
   "cell_type": "code",
   "execution_count": 22,
   "metadata": {
    "collapsed": false
   },
   "outputs": [],
   "source": [
    "feat_dataset = dataset.apply(to_deepid_features, axis=1)"
   ]
  },
  {
   "cell_type": "code",
   "execution_count": 23,
   "metadata": {
    "collapsed": false
   },
   "outputs": [
    {
     "data": {
      "text/html": [
       "<div>\n",
       "<table border=\"1\" class=\"dataframe\">\n",
       "  <thead>\n",
       "    <tr style=\"text-align: right;\">\n",
       "      <th></th>\n",
       "      <th>z_cosine</th>\n",
       "      <th>z_skew1</th>\n",
       "      <th>z_skew2</th>\n",
       "      <th>z_kurtosis1</th>\n",
       "      <th>z_kurtosis2</th>\n",
       "      <th>z_tvar1</th>\n",
       "      <th>z_tvar2</th>\n",
       "      <th>is_the_same</th>\n",
       "    </tr>\n",
       "  </thead>\n",
       "  <tbody>\n",
       "    <tr>\n",
       "      <th>0</th>\n",
       "      <td>0.496965</td>\n",
       "      <td>1.150352</td>\n",
       "      <td>1.063539</td>\n",
       "      <td>0.344259</td>\n",
       "      <td>0.026066</td>\n",
       "      <td>8.101951</td>\n",
       "      <td>6.577006</td>\n",
       "      <td>1.0</td>\n",
       "    </tr>\n",
       "    <tr>\n",
       "      <th>1</th>\n",
       "      <td>0.168039</td>\n",
       "      <td>1.330074</td>\n",
       "      <td>1.334253</td>\n",
       "      <td>1.174846</td>\n",
       "      <td>1.180206</td>\n",
       "      <td>10.566022</td>\n",
       "      <td>10.675787</td>\n",
       "      <td>1.0</td>\n",
       "    </tr>\n",
       "    <tr>\n",
       "      <th>2</th>\n",
       "      <td>0.357253</td>\n",
       "      <td>1.425131</td>\n",
       "      <td>1.334253</td>\n",
       "      <td>1.404630</td>\n",
       "      <td>1.180206</td>\n",
       "      <td>8.155128</td>\n",
       "      <td>10.675787</td>\n",
       "      <td>1.0</td>\n",
       "    </tr>\n",
       "    <tr>\n",
       "      <th>3</th>\n",
       "      <td>0.250534</td>\n",
       "      <td>1.562096</td>\n",
       "      <td>1.190631</td>\n",
       "      <td>2.249466</td>\n",
       "      <td>0.458319</td>\n",
       "      <td>11.160974</td>\n",
       "      <td>11.856462</td>\n",
       "      <td>1.0</td>\n",
       "    </tr>\n",
       "    <tr>\n",
       "      <th>4</th>\n",
       "      <td>0.269458</td>\n",
       "      <td>1.040103</td>\n",
       "      <td>1.483924</td>\n",
       "      <td>0.018788</td>\n",
       "      <td>1.475982</td>\n",
       "      <td>6.329705</td>\n",
       "      <td>15.493348</td>\n",
       "      <td>1.0</td>\n",
       "    </tr>\n",
       "  </tbody>\n",
       "</table>\n",
       "</div>"
      ],
      "text/plain": [
       "   z_cosine   z_skew1   z_skew2  z_kurtosis1  z_kurtosis2    z_tvar1  \\\n",
       "0  0.496965  1.150352  1.063539     0.344259     0.026066   8.101951   \n",
       "1  0.168039  1.330074  1.334253     1.174846     1.180206  10.566022   \n",
       "2  0.357253  1.425131  1.334253     1.404630     1.180206   8.155128   \n",
       "3  0.250534  1.562096  1.190631     2.249466     0.458319  11.160974   \n",
       "4  0.269458  1.040103  1.483924     0.018788     1.475982   6.329705   \n",
       "\n",
       "     z_tvar2  is_the_same  \n",
       "0   6.577006          1.0  \n",
       "1  10.675787          1.0  \n",
       "2  10.675787          1.0  \n",
       "3  11.856462          1.0  \n",
       "4  15.493348          1.0  "
      ]
     },
     "execution_count": 23,
     "metadata": {},
     "output_type": "execute_result"
    }
   ],
   "source": [
    "feat_dataset.head()"
   ]
  },
  {
   "cell_type": "code",
   "execution_count": 24,
   "metadata": {
    "collapsed": false
   },
   "outputs": [
    {
     "data": {
      "text/plain": [
       "<matplotlib.axes._subplots.AxesSubplot at 0x7f01c877c128>"
      ]
     },
     "execution_count": 24,
     "metadata": {},
     "output_type": "execute_result"
    },
    {
     "data": {
      "image/png": "[encoded data removed]",
      "text/plain": [
       "<matplotlib.figure.Figure at 0x7f01d956fa20>"
      ]
     },
     "metadata": {},
     "output_type": "display_data"
    }
   ],
   "source": [
    "import seaborn as sns\n",
    "\n",
    "sns.violinplot(data=feat_dataset, x='is_the_same', y='z_cosine', inner=\"points\")"
   ]
  },
  {
   "cell_type": "code",
   "execution_count": 25,
   "metadata": {
    "collapsed": false
   },
   "outputs": [],
   "source": [
    "col = [c for c in feat_dataset.columns if c[0]=='z']\n",
    "\n",
    "X = feat_dataset[col].as_matrix()\n",
    "y = feat_dataset['is_the_same'].as_matrix()"
   ]
  },
  {
   "cell_type": "code",
   "execution_count": 26,
   "metadata": {
    "collapsed": false
   },
   "outputs": [
    {
     "data": {
      "text/plain": [
       "array([ 0.49696462,  1.15035188,  1.06353915,  0.34425919,  0.02606576,\n",
       "        8.10195103,  6.5770056 ])"
      ]
     },
     "execution_count": 26,
     "metadata": {},
     "output_type": "execute_result"
    }
   ],
   "source": [
    "X[0]"
   ]
  },
  {
   "cell_type": "code",
   "execution_count": 27,
   "metadata": {
    "collapsed": true
   },
   "outputs": [],
   "source": [
    "X_train, X_valid, y_train, y_valid = train_test_split(X, y, test_size=0.1, random_state=42)"
   ]
  },
  {
   "cell_type": "code",
   "execution_count": 28,
   "metadata": {
    "collapsed": false
   },
   "outputs": [
    {
     "name": "stdout",
     "output_type": "stream",
     "text": [
      "[0]\ttrain-logloss:0.512492\ttrain-error:0.091111\tvalid-logloss:0.517335\tvalid-error:0.113333\n",
      "Multiple eval metrics have been passed: 'valid-error' will be used for early stopping.\n",
      "\n",
      "Will train until valid-error hasn't improved in 50 rounds.\n",
      "[100]\ttrain-logloss:0.100758\ttrain-error:0.032963\tvalid-logloss:0.232984\tvalid-error:0.093333\n",
      "Stopping. Best iteration:\n",
      "[63]\ttrain-logloss:0.131727\ttrain-error:0.048148\tvalid-logloss:0.227365\tvalid-error:0.083333\n",
      "\n"
     ]
    }
   ],
   "source": [
    "import xgboost as xgb\n",
    "params = {}\n",
    "params[\"objective\"] = \"binary:logistic\"\n",
    "params['eval_metric'] = ['logloss', 'error']\n",
    "# params[\"eta\"] = 0.02\n",
    "# params[\"subsample\"] = 0.7\n",
    "# params[\"min_child_weight\"] = 1\n",
    "# params[\"colsample_bytree\"] = 0.7\n",
    "params[\"max_depth\"] = 4\n",
    "# params[\"silent\"] = 1\n",
    "params[\"seed\"] = 1632\n",
    "\n",
    "d_train = xgb.DMatrix(X_train, label=y_train)\n",
    "d_valid = xgb.DMatrix(X_valid, label=y_valid)\n",
    "watchlist = [(d_train, 'train'), (d_valid, 'valid')]\n",
    "bst = xgb.train(params, d_train, 500, watchlist, early_stopping_rounds=50, verbose_eval=100)"
   ]
  },
  {
   "cell_type": "code",
   "execution_count": 29,
   "metadata": {
    "collapsed": false
   },
   "outputs": [
    {
     "data": {
      "text/html": [
       "<div>\n",
       "<table border=\"1\" class=\"dataframe\">\n",
       "  <thead>\n",
       "    <tr style=\"text-align: right;\">\n",
       "      <th></th>\n",
       "      <th>test-error-mean</th>\n",
       "      <th>test-error-std</th>\n",
       "      <th>train-error-mean</th>\n",
       "      <th>train-error-std</th>\n",
       "    </tr>\n",
       "  </thead>\n",
       "  <tbody>\n",
       "    <tr>\n",
       "      <th>0</th>\n",
       "      <td>0.103500</td>\n",
       "      <td>0.013893</td>\n",
       "      <td>0.092648</td>\n",
       "      <td>0.002207</td>\n",
       "    </tr>\n",
       "    <tr>\n",
       "      <th>1</th>\n",
       "      <td>0.102167</td>\n",
       "      <td>0.015331</td>\n",
       "      <td>0.089667</td>\n",
       "      <td>0.001236</td>\n",
       "    </tr>\n",
       "    <tr>\n",
       "      <th>2</th>\n",
       "      <td>0.101500</td>\n",
       "      <td>0.014092</td>\n",
       "      <td>0.088148</td>\n",
       "      <td>0.001171</td>\n",
       "    </tr>\n",
       "    <tr>\n",
       "      <th>3</th>\n",
       "      <td>0.098667</td>\n",
       "      <td>0.012841</td>\n",
       "      <td>0.086648</td>\n",
       "      <td>0.000715</td>\n",
       "    </tr>\n",
       "    <tr>\n",
       "      <th>4</th>\n",
       "      <td>0.098000</td>\n",
       "      <td>0.012512</td>\n",
       "      <td>0.085259</td>\n",
       "      <td>0.000865</td>\n",
       "    </tr>\n",
       "    <tr>\n",
       "      <th>5</th>\n",
       "      <td>0.097167</td>\n",
       "      <td>0.011476</td>\n",
       "      <td>0.083444</td>\n",
       "      <td>0.001058</td>\n",
       "    </tr>\n",
       "    <tr>\n",
       "      <th>6</th>\n",
       "      <td>0.097333</td>\n",
       "      <td>0.013338</td>\n",
       "      <td>0.083037</td>\n",
       "      <td>0.001212</td>\n",
       "    </tr>\n",
       "    <tr>\n",
       "      <th>7</th>\n",
       "      <td>0.096667</td>\n",
       "      <td>0.012737</td>\n",
       "      <td>0.082463</td>\n",
       "      <td>0.001111</td>\n",
       "    </tr>\n",
       "    <tr>\n",
       "      <th>8</th>\n",
       "      <td>0.095167</td>\n",
       "      <td>0.011936</td>\n",
       "      <td>0.081241</td>\n",
       "      <td>0.001465</td>\n",
       "    </tr>\n",
       "    <tr>\n",
       "      <th>9</th>\n",
       "      <td>0.094500</td>\n",
       "      <td>0.011379</td>\n",
       "      <td>0.080500</td>\n",
       "      <td>0.001371</td>\n",
       "    </tr>\n",
       "    <tr>\n",
       "      <th>10</th>\n",
       "      <td>0.095333</td>\n",
       "      <td>0.011518</td>\n",
       "      <td>0.080333</td>\n",
       "      <td>0.001668</td>\n",
       "    </tr>\n",
       "    <tr>\n",
       "      <th>11</th>\n",
       "      <td>0.095333</td>\n",
       "      <td>0.010796</td>\n",
       "      <td>0.079778</td>\n",
       "      <td>0.001745</td>\n",
       "    </tr>\n",
       "    <tr>\n",
       "      <th>12</th>\n",
       "      <td>0.095500</td>\n",
       "      <td>0.009946</td>\n",
       "      <td>0.079000</td>\n",
       "      <td>0.001394</td>\n",
       "    </tr>\n",
       "    <tr>\n",
       "      <th>13</th>\n",
       "      <td>0.095667</td>\n",
       "      <td>0.010171</td>\n",
       "      <td>0.078593</td>\n",
       "      <td>0.001178</td>\n",
       "    </tr>\n",
       "    <tr>\n",
       "      <th>14</th>\n",
       "      <td>0.095167</td>\n",
       "      <td>0.010915</td>\n",
       "      <td>0.077889</td>\n",
       "      <td>0.001507</td>\n",
       "    </tr>\n",
       "    <tr>\n",
       "      <th>15</th>\n",
       "      <td>0.095333</td>\n",
       "      <td>0.011542</td>\n",
       "      <td>0.076704</td>\n",
       "      <td>0.001518</td>\n",
       "    </tr>\n",
       "    <tr>\n",
       "      <th>16</th>\n",
       "      <td>0.095000</td>\n",
       "      <td>0.012156</td>\n",
       "      <td>0.076222</td>\n",
       "      <td>0.001364</td>\n",
       "    </tr>\n",
       "    <tr>\n",
       "      <th>17</th>\n",
       "      <td>0.094833</td>\n",
       "      <td>0.011796</td>\n",
       "      <td>0.075352</td>\n",
       "      <td>0.001600</td>\n",
       "    </tr>\n",
       "    <tr>\n",
       "      <th>18</th>\n",
       "      <td>0.095500</td>\n",
       "      <td>0.010777</td>\n",
       "      <td>0.074500</td>\n",
       "      <td>0.001909</td>\n",
       "    </tr>\n",
       "    <tr>\n",
       "      <th>19</th>\n",
       "      <td>0.095167</td>\n",
       "      <td>0.010787</td>\n",
       "      <td>0.073870</td>\n",
       "      <td>0.001781</td>\n",
       "    </tr>\n",
       "    <tr>\n",
       "      <th>20</th>\n",
       "      <td>0.095167</td>\n",
       "      <td>0.011042</td>\n",
       "      <td>0.073074</td>\n",
       "      <td>0.002061</td>\n",
       "    </tr>\n",
       "    <tr>\n",
       "      <th>21</th>\n",
       "      <td>0.094833</td>\n",
       "      <td>0.010631</td>\n",
       "      <td>0.072222</td>\n",
       "      <td>0.001086</td>\n",
       "    </tr>\n",
       "    <tr>\n",
       "      <th>22</th>\n",
       "      <td>0.094833</td>\n",
       "      <td>0.009471</td>\n",
       "      <td>0.071407</td>\n",
       "      <td>0.001351</td>\n",
       "    </tr>\n",
       "    <tr>\n",
       "      <th>23</th>\n",
       "      <td>0.094333</td>\n",
       "      <td>0.009074</td>\n",
       "      <td>0.070500</td>\n",
       "      <td>0.001484</td>\n",
       "    </tr>\n",
       "    <tr>\n",
       "      <th>24</th>\n",
       "      <td>0.094167</td>\n",
       "      <td>0.008636</td>\n",
       "      <td>0.069870</td>\n",
       "      <td>0.001558</td>\n",
       "    </tr>\n",
       "    <tr>\n",
       "      <th>25</th>\n",
       "      <td>0.094000</td>\n",
       "      <td>0.009638</td>\n",
       "      <td>0.068963</td>\n",
       "      <td>0.001423</td>\n",
       "    </tr>\n",
       "    <tr>\n",
       "      <th>26</th>\n",
       "      <td>0.094167</td>\n",
       "      <td>0.009406</td>\n",
       "      <td>0.068222</td>\n",
       "      <td>0.001401</td>\n",
       "    </tr>\n",
       "    <tr>\n",
       "      <th>27</th>\n",
       "      <td>0.094500</td>\n",
       "      <td>0.009191</td>\n",
       "      <td>0.067593</td>\n",
       "      <td>0.001477</td>\n",
       "    </tr>\n",
       "    <tr>\n",
       "      <th>28</th>\n",
       "      <td>0.094500</td>\n",
       "      <td>0.009576</td>\n",
       "      <td>0.066982</td>\n",
       "      <td>0.001458</td>\n",
       "    </tr>\n",
       "    <tr>\n",
       "      <th>29</th>\n",
       "      <td>0.094333</td>\n",
       "      <td>0.009195</td>\n",
       "      <td>0.066241</td>\n",
       "      <td>0.001291</td>\n",
       "    </tr>\n",
       "    <tr>\n",
       "      <th>30</th>\n",
       "      <td>0.093667</td>\n",
       "      <td>0.009684</td>\n",
       "      <td>0.065722</td>\n",
       "      <td>0.001354</td>\n",
       "    </tr>\n",
       "    <tr>\n",
       "      <th>31</th>\n",
       "      <td>0.093333</td>\n",
       "      <td>0.010055</td>\n",
       "      <td>0.065259</td>\n",
       "      <td>0.001328</td>\n",
       "    </tr>\n",
       "  </tbody>\n",
       "</table>\n",
       "</div>"
      ],
      "text/plain": [
       "    test-error-mean  test-error-std  train-error-mean  train-error-std\n",
       "0          0.103500        0.013893          0.092648         0.002207\n",
       "1          0.102167        0.015331          0.089667         0.001236\n",
       "2          0.101500        0.014092          0.088148         0.001171\n",
       "3          0.098667        0.012841          0.086648         0.000715\n",
       "4          0.098000        0.012512          0.085259         0.000865\n",
       "5          0.097167        0.011476          0.083444         0.001058\n",
       "6          0.097333        0.013338          0.083037         0.001212\n",
       "7          0.096667        0.012737          0.082463         0.001111\n",
       "8          0.095167        0.011936          0.081241         0.001465\n",
       "9          0.094500        0.011379          0.080500         0.001371\n",
       "10         0.095333        0.011518          0.080333         0.001668\n",
       "11         0.095333        0.010796          0.079778         0.001745\n",
       "12         0.095500        0.009946          0.079000         0.001394\n",
       "13         0.095667        0.010171          0.078593         0.001178\n",
       "14         0.095167        0.010915          0.077889         0.001507\n",
       "15         0.095333        0.011542          0.076704         0.001518\n",
       "16         0.095000        0.012156          0.076222         0.001364\n",
       "17         0.094833        0.011796          0.075352         0.001600\n",
       "18         0.095500        0.010777          0.074500         0.001909\n",
       "19         0.095167        0.010787          0.073870         0.001781\n",
       "20         0.095167        0.011042          0.073074         0.002061\n",
       "21         0.094833        0.010631          0.072222         0.001086\n",
       "22         0.094833        0.009471          0.071407         0.001351\n",
       "23         0.094333        0.009074          0.070500         0.001484\n",
       "24         0.094167        0.008636          0.069870         0.001558\n",
       "25         0.094000        0.009638          0.068963         0.001423\n",
       "26         0.094167        0.009406          0.068222         0.001401\n",
       "27         0.094500        0.009191          0.067593         0.001477\n",
       "28         0.094500        0.009576          0.066982         0.001458\n",
       "29         0.094333        0.009195          0.066241         0.001291\n",
       "30         0.093667        0.009684          0.065722         0.001354\n",
       "31         0.093333        0.010055          0.065259         0.001328"
      ]
     },
     "execution_count": 29,
     "metadata": {},
     "output_type": "execute_result"
    }
   ],
   "source": [
    "d_all = xgb.DMatrix(X, label=y)\n",
    "\n",
    "xgb.cv(params, d_all, 500, nfold=10, metrics=['error'], shuffle=False, early_stopping_rounds=50, seed=42)"
   ]
  },
  {
   "cell_type": "code",
   "execution_count": null,
   "metadata": {
    "collapsed": true
   },
   "outputs": [],
   "source": []
  }
 ],
 "metadata": {
  "kernelspec": {
   "display_name": "Python 3",
   "language": "python",
   "name": "python3"
  },
  "language_info": {
   "codemirror_mode": {
    "name": "ipython",
    "version": 3
   },
   "file_extension": ".py",
   "mimetype": "text/x-python",
   "name": "python",
   "nbconvert_exporter": "python",
   "pygments_lexer": "ipython3",
   "version": "3.6.0"
  }
 },
 "nbformat": 4,
 "nbformat_minor": 2
}
