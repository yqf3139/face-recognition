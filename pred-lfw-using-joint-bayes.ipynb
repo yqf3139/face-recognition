{
 "cells": [
  {
   "cell_type": "code",
   "execution_count": 1,
   "metadata": {
    "collapsed": false
   },
   "outputs": [
    {
     "name": "stderr",
     "output_type": "stream",
     "text": [
      "Using TensorFlow backend.\n"
     ]
    }
   ],
   "source": [
    "import pandas as pd\n",
    "import numpy as np\n",
    "import keras\n",
    "from keras.utils.data_utils import get_file\n",
    "from keras.preprocessing.image import array_to_img, img_to_array, load_img\n",
    "from os.path import join\n",
    "import multiprocessing\n",
    "from sklearn.preprocessing import LabelEncoder\n",
    "from sklearn.model_selection import train_test_split\n",
    "import keras.backend.tensorflow_backend as K\n",
    "from jointbayesian import jointbayesian\n",
    "\n",
    "%matplotlib inline"
   ]
  },
  {
   "cell_type": "code",
   "execution_count": 2,
   "metadata": {
    "collapsed": true
   },
   "outputs": [],
   "source": [
    "DATA_HOME = '../lfw-aligned-with-32-margin-resized/'"
   ]
  },
  {
   "cell_type": "code",
   "execution_count": 3,
   "metadata": {
    "collapsed": true
   },
   "outputs": [],
   "source": [
    "PAIRS_PATH = '../pairs.txt'"
   ]
  },
  {
   "cell_type": "code",
   "execution_count": 4,
   "metadata": {
    "collapsed": true
   },
   "outputs": [],
   "source": [
    "raw_dataset = pd.read_csv(PAIRS_PATH, nrows=None)\n",
    "raw_dataset.columns = ['data']"
   ]
  },
  {
   "cell_type": "code",
   "execution_count": 5,
   "metadata": {
    "collapsed": false
   },
   "outputs": [
    {
     "data": {
      "text/plain": [
       "(6000, 1)"
      ]
     },
     "execution_count": 5,
     "metadata": {},
     "output_type": "execute_result"
    }
   ],
   "source": [
    "raw_dataset.shape"
   ]
  },
  {
   "cell_type": "code",
   "execution_count": 6,
   "metadata": {
    "collapsed": true
   },
   "outputs": [],
   "source": [
    "def split_raw_data(row):\n",
    "    fields = str(row[0]).split('\\t')\n",
    "    is_the_same = 0\n",
    "    path1, path2 = '{}/{}_{:04d}.png', '{}/{}_{:04d}.png'\n",
    "    if len(fields) == 3:\n",
    "        is_the_same = 1\n",
    "        path1 = path1.format(fields[0], fields[0], int(fields[1]))\n",
    "        path2 = path2.format(fields[0], fields[0], int(fields[2]))\n",
    "    elif len(fields) == 4:\n",
    "        path1 = path1.format(fields[0], fields[0], int(fields[1]))\n",
    "        path2 = path2.format(fields[2], fields[2], int(fields[3]))\n",
    "    else:\n",
    "        raise(Exception('invalid fields'))\n",
    "    \n",
    "    return pd.Series([path1, path2, is_the_same], ['path1', 'path2', 'is_the_same']) "
   ]
  },
  {
   "cell_type": "code",
   "execution_count": 7,
   "metadata": {
    "collapsed": true
   },
   "outputs": [],
   "source": [
    "dataset = raw_dataset.apply(split_raw_data, axis=1)"
   ]
  },
  {
   "cell_type": "code",
   "execution_count": 8,
   "metadata": {
    "collapsed": false
   },
   "outputs": [
    {
     "data": {
      "text/html": [
       "<div>\n",
       "<table border=\"1\" class=\"dataframe\">\n",
       "  <thead>\n",
       "    <tr style=\"text-align: right;\">\n",
       "      <th></th>\n",
       "      <th>path1</th>\n",
       "      <th>path2</th>\n",
       "      <th>is_the_same</th>\n",
       "    </tr>\n",
       "  </thead>\n",
       "  <tbody>\n",
       "    <tr>\n",
       "      <th>0</th>\n",
       "      <td>Abel_Pacheco/Abel_Pacheco_0001.png</td>\n",
       "      <td>Abel_Pacheco/Abel_Pacheco_0004.png</td>\n",
       "      <td>1</td>\n",
       "    </tr>\n",
       "    <tr>\n",
       "      <th>1</th>\n",
       "      <td>Akhmed_Zakayev/Akhmed_Zakayev_0001.png</td>\n",
       "      <td>Akhmed_Zakayev/Akhmed_Zakayev_0003.png</td>\n",
       "      <td>1</td>\n",
       "    </tr>\n",
       "    <tr>\n",
       "      <th>2</th>\n",
       "      <td>Akhmed_Zakayev/Akhmed_Zakayev_0002.png</td>\n",
       "      <td>Akhmed_Zakayev/Akhmed_Zakayev_0003.png</td>\n",
       "      <td>1</td>\n",
       "    </tr>\n",
       "    <tr>\n",
       "      <th>3</th>\n",
       "      <td>Amber_Tamblyn/Amber_Tamblyn_0001.png</td>\n",
       "      <td>Amber_Tamblyn/Amber_Tamblyn_0002.png</td>\n",
       "      <td>1</td>\n",
       "    </tr>\n",
       "    <tr>\n",
       "      <th>4</th>\n",
       "      <td>Anders_Fogh_Rasmussen/Anders_Fogh_Rasmussen_00...</td>\n",
       "      <td>Anders_Fogh_Rasmussen/Anders_Fogh_Rasmussen_00...</td>\n",
       "      <td>1</td>\n",
       "    </tr>\n",
       "  </tbody>\n",
       "</table>\n",
       "</div>"
      ],
      "text/plain": [
       "                                               path1  \\\n",
       "0                 Abel_Pacheco/Abel_Pacheco_0001.png   \n",
       "1             Akhmed_Zakayev/Akhmed_Zakayev_0001.png   \n",
       "2             Akhmed_Zakayev/Akhmed_Zakayev_0002.png   \n",
       "3               Amber_Tamblyn/Amber_Tamblyn_0001.png   \n",
       "4  Anders_Fogh_Rasmussen/Anders_Fogh_Rasmussen_00...   \n",
       "\n",
       "                                               path2  is_the_same  \n",
       "0                 Abel_Pacheco/Abel_Pacheco_0004.png            1  \n",
       "1             Akhmed_Zakayev/Akhmed_Zakayev_0003.png            1  \n",
       "2             Akhmed_Zakayev/Akhmed_Zakayev_0003.png            1  \n",
       "3               Amber_Tamblyn/Amber_Tamblyn_0002.png            1  \n",
       "4  Anders_Fogh_Rasmussen/Anders_Fogh_Rasmussen_00...            1  "
      ]
     },
     "execution_count": 8,
     "metadata": {},
     "output_type": "execute_result"
    }
   ],
   "source": [
    "dataset.head()"
   ]
  },
  {
   "cell_type": "code",
   "execution_count": 9,
   "metadata": {
    "collapsed": false
   },
   "outputs": [
    {
     "data": {
      "text/plain": [
       "(6000, 3)"
      ]
     },
     "execution_count": 9,
     "metadata": {},
     "output_type": "execute_result"
    }
   ],
   "source": [
    "dataset.shape"
   ]
  },
  {
   "cell_type": "code",
   "execution_count": 10,
   "metadata": {
    "collapsed": true
   },
   "outputs": [],
   "source": [
    "from PIL import Image\n",
    "\n",
    "def path2ImgVec(path):\n",
    "    x = img_to_array(load_img(join(DATA_HOME, path)))\n",
    "#     x = img_to_array(load_img(join(DATA_HOME, path)).convert('L'))\n",
    "    return x.reshape((1,) + x.shape)\n",
    "\n",
    "def path2ImgVecFlipped(path):\n",
    "    img = load_img(join(DATA_HOME, path))\n",
    "#     img = load_img(join(DATA_HOME, path)).convert('L')\n",
    "    img = img.transpose(Image.FLIP_LEFT_RIGHT)\n",
    "    x = img_to_array(img)\n",
    "    return x.reshape((1,) + x.shape)"
   ]
  },
  {
   "cell_type": "code",
   "execution_count": 11,
   "metadata": {
    "collapsed": false
   },
   "outputs": [
    {
     "data": {
      "text/plain": [
       "7701"
      ]
     },
     "execution_count": 11,
     "metadata": {},
     "output_type": "execute_result"
    }
   ],
   "source": [
    "img_paths = list(set(dataset.path1.tolist()+dataset.path2.tolist()))\n",
    "len(img_paths)"
   ]
  },
  {
   "cell_type": "code",
   "execution_count": 12,
   "metadata": {
    "collapsed": true
   },
   "outputs": [],
   "source": [
    "pool = multiprocessing.Pool(8)\n",
    "results1 = pool.map(path2ImgVec, img_paths)\n",
    "pool.close()\n",
    "pool.join()"
   ]
  },
  {
   "cell_type": "code",
   "execution_count": 13,
   "metadata": {
    "collapsed": true
   },
   "outputs": [],
   "source": [
    "pool = multiprocessing.Pool(8)\n",
    "results2 = pool.map(path2ImgVecFlipped, img_paths)\n",
    "pool.close()\n",
    "pool.join()"
   ]
  },
  {
   "cell_type": "code",
   "execution_count": 14,
   "metadata": {
    "collapsed": false
   },
   "outputs": [
    {
     "data": {
      "text/plain": [
       "(7701, 55, 47, 3)"
      ]
     },
     "execution_count": 14,
     "metadata": {},
     "output_type": "execute_result"
    }
   ],
   "source": [
    "img_vecs1 = np.vstack(results1)\n",
    "img_vecs1.shape\n",
    "img_vecs2 = np.vstack(results2)\n",
    "img_vecs2.shape"
   ]
  },
  {
   "cell_type": "code",
   "execution_count": 15,
   "metadata": {
    "collapsed": false
   },
   "outputs": [
    {
     "data": {
      "text/plain": [
       "(7701, 55, 47, 3)"
      ]
     },
     "execution_count": 15,
     "metadata": {},
     "output_type": "execute_result"
    }
   ],
   "source": [
    "input_shape = img_vecs1.shape[1:]\n",
    "img_vecs1.shape"
   ]
  },
  {
   "cell_type": "code",
   "execution_count": 16,
   "metadata": {
    "collapsed": true
   },
   "outputs": [],
   "source": [
    "from keras.models import load_model\n",
    "\n",
    "model = load_model('../models/webface-full-simple-cnn.A.aligned.margin32.s20.model.h5')"
   ]
  },
  {
   "cell_type": "code",
   "execution_count": 17,
   "metadata": {
    "collapsed": true
   },
   "outputs": [],
   "source": [
    "from keras import backend as K\n",
    "inp = model.input\n",
    "\n",
    "outputs = [model.layers[-2].output]\n",
    "functor = K.function([inp] + [K.learning_phase()], outputs)"
   ]
  },
  {
   "cell_type": "code",
   "execution_count": 18,
   "metadata": {
    "collapsed": false
   },
   "outputs": [
    {
     "data": {
      "text/plain": [
       "(7701, 55, 47, 3)"
      ]
     },
     "execution_count": 18,
     "metadata": {},
     "output_type": "execute_result"
    }
   ],
   "source": [
    "img_vecs1.shape"
   ]
  },
  {
   "cell_type": "code",
   "execution_count": 19,
   "metadata": {
    "collapsed": false
   },
   "outputs": [
    {
     "data": {
      "text/plain": [
       "(7701, 160)"
      ]
     },
     "execution_count": 19,
     "metadata": {},
     "output_type": "execute_result"
    }
   ],
   "source": [
    "deepids1 = functor([img_vecs1, 1.])[0]\n",
    "deepids2 = functor([img_vecs2, 1.])[0]\n",
    "deepids1.shape"
   ]
  },
  {
   "cell_type": "code",
   "execution_count": 20,
   "metadata": {
    "collapsed": true
   },
   "outputs": [],
   "source": [
    "img_paths_flipped = [\"~\"+i for i in img_paths]"
   ]
  },
  {
   "cell_type": "code",
   "execution_count": 21,
   "metadata": {
    "collapsed": true
   },
   "outputs": [],
   "source": [
    "deepids = np.vstack([deepids1, deepids2])"
   ]
  },
  {
   "cell_type": "code",
   "execution_count": 22,
   "metadata": {
    "collapsed": false
   },
   "outputs": [
    {
     "data": {
      "text/plain": [
       "(15402, 160)"
      ]
     },
     "execution_count": 22,
     "metadata": {},
     "output_type": "execute_result"
    }
   ],
   "source": [
    "deepids.shape"
   ]
  },
  {
   "cell_type": "code",
   "execution_count": 23,
   "metadata": {
    "collapsed": false
   },
   "outputs": [
    {
     "name": "stdout",
     "output_type": "stream",
     "text": [
      "Load model from ../models/joint-bayes-model.pkl\n"
     ]
    }
   ],
   "source": [
    "import pickle\n",
    "\n",
    "model_file = '../models/joint-bayes-model.pkl'\n",
    "A, G, mean_value = None, None, None\n",
    "with open(model_file, 'rb') as f:\n",
    "    A = pickle.load(f)\n",
    "    G = pickle.load(f)\n",
    "    mean_value = pickle.load(f)\n",
    "    print('Load model from', model_file)"
   ]
  },
  {
   "cell_type": "code",
   "execution_count": 24,
   "metadata": {
    "collapsed": false
   },
   "outputs": [
    {
     "data": {
      "text/plain": [
       "(160,)"
      ]
     },
     "execution_count": 24,
     "metadata": {},
     "output_type": "execute_result"
    }
   ],
   "source": [
    "mean_value.shape"
   ]
  },
  {
   "cell_type": "code",
   "execution_count": 25,
   "metadata": {
    "collapsed": true
   },
   "outputs": [],
   "source": [
    "deepids -= mean_value"
   ]
  },
  {
   "cell_type": "code",
   "execution_count": 26,
   "metadata": {
    "collapsed": true
   },
   "outputs": [],
   "source": [
    "img_deepid_mem = {k:v for k, v in zip(img_paths+img_paths_flipped, deepids)}"
   ]
  },
  {
   "cell_type": "code",
   "execution_count": 27,
   "metadata": {
    "collapsed": true
   },
   "outputs": [],
   "source": [
    "from scipy.spatial.distance import cosine, cityblock, jaccard, canberra, euclidean, minkowski, braycurtis\n",
    "from scipy.stats import skew, kurtosis, tvar, entropy, pearsonr\n",
    "\n",
    "COL_NAMES = [\n",
    "#     \"z_cosine1\",\n",
    "#     \"z_cosine2\",\n",
    "#     \"z_cosine3\",\n",
    "#     \"z_cosine4\",\n",
    "\n",
    "#     'z_skew1',\n",
    "#     'z_skew2',\n",
    "#     'z_kurtosis1',\n",
    "#     'z_kurtosis2',\n",
    "#     'z_tvar1',\n",
    "#     'z_tvar2',\n",
    "    'z_bayes1',\n",
    "    'z_bayes2',\n",
    "    'z_bayes3',\n",
    "    'z_bayes4',\n",
    "] + ['is_the_same']\n",
    "\n",
    "def to_deepid_features(row):\n",
    "    vec1 = img_deepid_mem[row['path1']]\n",
    "    vec2 = img_deepid_mem[row['path2']]\n",
    "\n",
    "    fvec1 = img_deepid_mem[\"~\"+row['path1']]\n",
    "    fvec2 = img_deepid_mem[\"~\"+row['path2']]\n",
    "    \n",
    "    feats = [\n",
    "#         cosine(vec1, vec2),\n",
    "#         cosine(vec1, fvec2),\n",
    "#         cosine(fvec1, vec2),\n",
    "#         cosine(fvec1, fvec2),\n",
    "        \n",
    "#         skew(vec1),\n",
    "#         skew(vec2),\n",
    "#         kurtosis(vec1),\n",
    "#         kurtosis(vec2),\n",
    "#         tvar(vec1),\n",
    "#         tvar(vec2),\n",
    "        \n",
    "        min(jointbayesian.verify(A, G, vec1, vec2), jointbayesian.verify(A, G, vec2, vec1)),\n",
    "        min(jointbayesian.verify(A, G, fvec1, vec2), jointbayesian.verify(A, G, vec2, fvec1)),\n",
    "        min(jointbayesian.verify(A, G, vec1, fvec2), jointbayesian.verify(A, G, fvec2, vec1)),\n",
    "        min(jointbayesian.verify(A, G, fvec1, fvec2), jointbayesian.verify(A, G, fvec2, fvec1)),\n",
    "    ]\n",
    "    \n",
    "    return pd.Series(feats + [row['is_the_same']], COL_NAMES) "
   ]
  },
  {
   "cell_type": "code",
   "execution_count": 28,
   "metadata": {
    "collapsed": false
   },
   "outputs": [],
   "source": [
    "feat_dataset = dataset.apply(to_deepid_features, axis=1)"
   ]
  },
  {
   "cell_type": "code",
   "execution_count": 29,
   "metadata": {
    "collapsed": false
   },
   "outputs": [
    {
     "data": {
      "text/html": [
       "<div>\n",
       "<table border=\"1\" class=\"dataframe\">\n",
       "  <thead>\n",
       "    <tr style=\"text-align: right;\">\n",
       "      <th></th>\n",
       "      <th>z_bayes1</th>\n",
       "      <th>z_bayes2</th>\n",
       "      <th>z_bayes3</th>\n",
       "      <th>z_bayes4</th>\n",
       "      <th>is_the_same</th>\n",
       "    </tr>\n",
       "  </thead>\n",
       "  <tbody>\n",
       "    <tr>\n",
       "      <th>0</th>\n",
       "      <td>489.409517</td>\n",
       "      <td>507.892434</td>\n",
       "      <td>495.618559</td>\n",
       "      <td>554.236535</td>\n",
       "      <td>1.0</td>\n",
       "    </tr>\n",
       "    <tr>\n",
       "      <th>1</th>\n",
       "      <td>1045.538590</td>\n",
       "      <td>1120.439666</td>\n",
       "      <td>1017.161547</td>\n",
       "      <td>1106.063665</td>\n",
       "      <td>1.0</td>\n",
       "    </tr>\n",
       "    <tr>\n",
       "      <th>2</th>\n",
       "      <td>916.634369</td>\n",
       "      <td>929.354843</td>\n",
       "      <td>920.696091</td>\n",
       "      <td>931.334232</td>\n",
       "      <td>1.0</td>\n",
       "    </tr>\n",
       "    <tr>\n",
       "      <th>3</th>\n",
       "      <td>825.420639</td>\n",
       "      <td>812.402022</td>\n",
       "      <td>724.029737</td>\n",
       "      <td>954.215820</td>\n",
       "      <td>1.0</td>\n",
       "    </tr>\n",
       "    <tr>\n",
       "      <th>4</th>\n",
       "      <td>779.101566</td>\n",
       "      <td>724.611629</td>\n",
       "      <td>716.098232</td>\n",
       "      <td>674.635958</td>\n",
       "      <td>1.0</td>\n",
       "    </tr>\n",
       "  </tbody>\n",
       "</table>\n",
       "</div>"
      ],
      "text/plain": [
       "      z_bayes1     z_bayes2     z_bayes3     z_bayes4  is_the_same\n",
       "0   489.409517   507.892434   495.618559   554.236535          1.0\n",
       "1  1045.538590  1120.439666  1017.161547  1106.063665          1.0\n",
       "2   916.634369   929.354843   920.696091   931.334232          1.0\n",
       "3   825.420639   812.402022   724.029737   954.215820          1.0\n",
       "4   779.101566   724.611629   716.098232   674.635958          1.0"
      ]
     },
     "execution_count": 29,
     "metadata": {},
     "output_type": "execute_result"
    }
   ],
   "source": [
    "feat_dataset.head()"
   ]
  },
  {
   "cell_type": "code",
   "execution_count": 30,
   "metadata": {
    "collapsed": true
   },
   "outputs": [],
   "source": [
    "col = [c for c in feat_dataset.columns if c[0]=='z']\n",
    "\n",
    "X = feat_dataset[col].as_matrix()\n",
    "y = feat_dataset['is_the_same'].as_matrix()"
   ]
  },
  {
   "cell_type": "code",
   "execution_count": 31,
   "metadata": {
    "collapsed": true
   },
   "outputs": [],
   "source": [
    "from sklearn.preprocessing import minmax_scale\n",
    "\n",
    "# X = minmax_scale(X)"
   ]
  },
  {
   "cell_type": "code",
   "execution_count": 32,
   "metadata": {
    "collapsed": false
   },
   "outputs": [
    {
     "data": {
      "text/plain": [
       "array([ 489.40951695,  507.89243364,  495.61855886,  554.23653546])"
      ]
     },
     "execution_count": 32,
     "metadata": {},
     "output_type": "execute_result"
    }
   ],
   "source": [
    "X[0]"
   ]
  },
  {
   "cell_type": "code",
   "execution_count": 33,
   "metadata": {
    "collapsed": true
   },
   "outputs": [],
   "source": [
    "from sklearn.model_selection import train_test_split\n",
    "\n",
    "X_train, X_valid, y_train, y_valid = train_test_split(X, y, test_size=0.1, random_state=42)"
   ]
  },
  {
   "cell_type": "code",
   "execution_count": 34,
   "metadata": {
    "collapsed": false
   },
   "outputs": [
    {
     "name": "stdout",
     "output_type": "stream",
     "text": [
      "[0]\ttrain-logloss:0.574742\ttrain-error:0.186852\tvalid-logloss:0.572679\tvalid-error:0.181667\n",
      "Multiple eval metrics have been passed: 'valid-error' will be used for early stopping.\n",
      "\n",
      "Will train until valid-error hasn't improved in 50 rounds.\n",
      "Stopping. Best iteration:\n",
      "[3]\ttrain-logloss:0.449972\ttrain-error:0.184444\tvalid-logloss:0.44275\tvalid-error:0.165\n",
      "\n"
     ]
    }
   ],
   "source": [
    "import xgboost as xgb\n",
    "params = {}\n",
    "params[\"objective\"] = \"binary:logistic\"\n",
    "params['eval_metric'] = ['logloss', 'error']\n",
    "# params[\"eta\"] = 0.02\n",
    "# params[\"subsample\"] = 0.7\n",
    "# params[\"min_child_weight\"] = 1\n",
    "# params[\"colsample_bytree\"] = 0.7\n",
    "params[\"max_depth\"] = 4\n",
    "params[\"seed\"] = 1632\n",
    "\n",
    "d_train = xgb.DMatrix(X_train, label=y_train)\n",
    "d_valid = xgb.DMatrix(X_valid, label=y_valid)\n",
    "watchlist = [(d_train, 'train'), (d_valid, 'valid')]\n",
    "bst = xgb.train(params, d_train, 500, watchlist, early_stopping_rounds=50, verbose_eval=100)"
   ]
  },
  {
   "cell_type": "code",
   "execution_count": 35,
   "metadata": {
    "collapsed": false
   },
   "outputs": [
    {
     "data": {
      "text/html": [
       "<div>\n",
       "<table border=\"1\" class=\"dataframe\">\n",
       "  <thead>\n",
       "    <tr style=\"text-align: right;\">\n",
       "      <th></th>\n",
       "      <th>test-error-mean</th>\n",
       "      <th>test-error-std</th>\n",
       "      <th>train-error-mean</th>\n",
       "      <th>train-error-std</th>\n",
       "    </tr>\n",
       "  </thead>\n",
       "  <tbody>\n",
       "    <tr>\n",
       "      <th>0</th>\n",
       "      <td>0.191833</td>\n",
       "      <td>0.019328</td>\n",
       "      <td>0.184444</td>\n",
       "      <td>0.002060</td>\n",
       "    </tr>\n",
       "    <tr>\n",
       "      <th>1</th>\n",
       "      <td>0.191833</td>\n",
       "      <td>0.014934</td>\n",
       "      <td>0.184278</td>\n",
       "      <td>0.001875</td>\n",
       "    </tr>\n",
       "    <tr>\n",
       "      <th>2</th>\n",
       "      <td>0.195000</td>\n",
       "      <td>0.014720</td>\n",
       "      <td>0.183241</td>\n",
       "      <td>0.002123</td>\n",
       "    </tr>\n",
       "    <tr>\n",
       "      <th>3</th>\n",
       "      <td>0.192833</td>\n",
       "      <td>0.014299</td>\n",
       "      <td>0.181704</td>\n",
       "      <td>0.001441</td>\n",
       "    </tr>\n",
       "    <tr>\n",
       "      <th>4</th>\n",
       "      <td>0.193833</td>\n",
       "      <td>0.013603</td>\n",
       "      <td>0.180630</td>\n",
       "      <td>0.001912</td>\n",
       "    </tr>\n",
       "    <tr>\n",
       "      <th>5</th>\n",
       "      <td>0.192333</td>\n",
       "      <td>0.013565</td>\n",
       "      <td>0.180093</td>\n",
       "      <td>0.001698</td>\n",
       "    </tr>\n",
       "    <tr>\n",
       "      <th>6</th>\n",
       "      <td>0.191833</td>\n",
       "      <td>0.014131</td>\n",
       "      <td>0.179629</td>\n",
       "      <td>0.001472</td>\n",
       "    </tr>\n",
       "    <tr>\n",
       "      <th>7</th>\n",
       "      <td>0.192333</td>\n",
       "      <td>0.013441</td>\n",
       "      <td>0.179407</td>\n",
       "      <td>0.001721</td>\n",
       "    </tr>\n",
       "    <tr>\n",
       "      <th>8</th>\n",
       "      <td>0.191667</td>\n",
       "      <td>0.013601</td>\n",
       "      <td>0.178852</td>\n",
       "      <td>0.001766</td>\n",
       "    </tr>\n",
       "    <tr>\n",
       "      <th>9</th>\n",
       "      <td>0.191333</td>\n",
       "      <td>0.012970</td>\n",
       "      <td>0.178500</td>\n",
       "      <td>0.001375</td>\n",
       "    </tr>\n",
       "    <tr>\n",
       "      <th>10</th>\n",
       "      <td>0.191000</td>\n",
       "      <td>0.012454</td>\n",
       "      <td>0.178352</td>\n",
       "      <td>0.001409</td>\n",
       "    </tr>\n",
       "  </tbody>\n",
       "</table>\n",
       "</div>"
      ],
      "text/plain": [
       "    test-error-mean  test-error-std  train-error-mean  train-error-std\n",
       "0          0.191833        0.019328          0.184444         0.002060\n",
       "1          0.191833        0.014934          0.184278         0.001875\n",
       "2          0.195000        0.014720          0.183241         0.002123\n",
       "3          0.192833        0.014299          0.181704         0.001441\n",
       "4          0.193833        0.013603          0.180630         0.001912\n",
       "5          0.192333        0.013565          0.180093         0.001698\n",
       "6          0.191833        0.014131          0.179629         0.001472\n",
       "7          0.192333        0.013441          0.179407         0.001721\n",
       "8          0.191667        0.013601          0.178852         0.001766\n",
       "9          0.191333        0.012970          0.178500         0.001375\n",
       "10         0.191000        0.012454          0.178352         0.001409"
      ]
     },
     "execution_count": 35,
     "metadata": {},
     "output_type": "execute_result"
    }
   ],
   "source": [
    "d_all = xgb.DMatrix(X, label=y)\n",
    "\n",
    "xgb.cv(params, d_all, 500, nfold=10, metrics=['error'], shuffle=False, early_stopping_rounds=50, seed=42)"
   ]
  },
  {
   "cell_type": "code",
   "execution_count": null,
   "metadata": {
    "collapsed": true
   },
   "outputs": [],
   "source": []
  }
 ],
 "metadata": {
  "kernelspec": {
   "display_name": "Python 3",
   "language": "python",
   "name": "python3"
  },
  "language_info": {
   "codemirror_mode": {
    "name": "ipython",
    "version": 3
   },
   "file_extension": ".py",
   "mimetype": "text/x-python",
   "name": "python",
   "nbconvert_exporter": "python",
   "pygments_lexer": "ipython3",
   "version": "3.6.0"
  }
 },
 "nbformat": 4,
 "nbformat_minor": 2
}
